{
 "cells": [
  {
   "attachments": {},
   "cell_type": "markdown",
   "metadata": {},
   "source": [
    "## Pytorch Basics\n",
    "\n",
    "Phai Phongthiengtham"
   ]
  },
  {
   "attachments": {},
   "cell_type": "markdown",
   "metadata": {},
   "source": [
    "See https://pytorch.org/get-started/locally/ for installation"
   ]
  },
  {
   "cell_type": "code",
   "execution_count": 1,
   "metadata": {},
   "outputs": [
    {
     "name": "stdout",
     "output_type": "stream",
     "text": [
      "Python 3.10.10\n"
     ]
    }
   ],
   "source": [
    "!python3 --version"
   ]
  },
  {
   "cell_type": "code",
   "execution_count": 2,
   "metadata": {},
   "outputs": [
    {
     "name": "stdout",
     "output_type": "stream",
     "text": [
      "1.13.1\n"
     ]
    }
   ],
   "source": [
    "import torch\n",
    "print(torch.__version__)"
   ]
  },
  {
   "cell_type": "code",
   "execution_count": 3,
   "metadata": {},
   "outputs": [
    {
     "name": "stdout",
     "output_type": "stream",
     "text": [
      "tensor([[1., 1.],\n",
      "        [1., 1.]], dtype=torch.float16)\n",
      "torch.Size([2, 2])\n"
     ]
    }
   ],
   "source": [
    "#initializing tensor\n",
    "x1 = torch.empty(2, 3)\n",
    "x2 = torch.rand(2, 2)\n",
    "x3 = torch.zeros(2, 2)\n",
    "x4 = torch.ones(2, 2, dtype=torch.double) # specify data type\n",
    "x5 = torch.ones(2, 2, dtype=torch.float16)\n",
    "print(x5)\n",
    "print(x5.size())"
   ]
  },
  {
   "cell_type": "code",
   "execution_count": 4,
   "metadata": {},
   "outputs": [
    {
     "name": "stdout",
     "output_type": "stream",
     "text": [
      "x = tensor([[0.2202, 0.9227],\n",
      "        [0.4301, 0.8067]])\n",
      "y = tensor([[0.5956, 0.8771],\n",
      "        [0.7849, 0.7276]])\n",
      "z1 = tensor([[0.8158, 1.7999],\n",
      "        [1.2150, 1.5343]])\n",
      "z2 = tensor([[0.8158, 1.7999],\n",
      "        [1.2150, 1.5343]])\n",
      "\n",
      "check if z1 == z2:\n",
      "\n",
      "tensor([[True, True],\n",
      "        [True, True]])\n",
      "tensor([[True, True],\n",
      "        [True, True]])\n",
      "tensor([[True, True],\n",
      "        [True, True]])\n",
      "tensor([[True, True],\n",
      "        [True, True]])\n"
     ]
    }
   ],
   "source": [
    "# basic operations\n",
    "x = torch.rand(2, 2)\n",
    "y = torch.rand(2, 2)\n",
    "print('x =', x)\n",
    "print('y =', y)\n",
    "\n",
    "z1 = x + y\n",
    "z2 = torch.add(x, y) # element-wise addition\n",
    "print('z1 =', z1)\n",
    "print('z2 =', z2)\n",
    "print('\\ncheck if z1 == z2:\\n')\n",
    "print(z1 == z2)\n",
    "\n",
    "z1 = x - y\n",
    "z2 = torch.sub(x, y)\n",
    "print(z1 == z2)\n",
    "\n",
    "z1 = x * y\n",
    "z2 = torch.mul(x, y)\n",
    "print(z1 == z2)\n",
    "\n",
    "z1 = x / y\n",
    "z2 = torch.div(x, y)\n",
    "print(z1 == z2)"
   ]
  },
  {
   "cell_type": "code",
   "execution_count": 5,
   "metadata": {},
   "outputs": [
    {
     "name": "stdout",
     "output_type": "stream",
     "text": [
      "x = tensor([[0.7262, 0.8929],\n",
      "        [0.6821, 0.9628]])\n",
      "y = tensor([[0.0648, 0.2877],\n",
      "        [0.2868, 0.9138]])\n",
      "\n",
      "any function with \"_\" will do inplace operation\n",
      "\n",
      "y = tensor([[0.7910, 1.1806],\n",
      "        [0.9689, 1.8767]])\n"
     ]
    }
   ],
   "source": [
    "# inplace operations\n",
    "x = torch.rand(2, 2)\n",
    "y = torch.rand(2, 2)\n",
    "print('x =', x)\n",
    "print('y =', y)\n",
    "print('\\nany function with \"_\" will do inplace operation\\n')\n",
    "\n",
    "y.add_(x)\n",
    "print('y =', y)"
   ]
  },
  {
   "cell_type": "code",
   "execution_count": 6,
   "metadata": {},
   "outputs": [
    {
     "name": "stdout",
     "output_type": "stream",
     "text": [
      "x = tensor([[0.7717, 0.8119, 0.8034],\n",
      "        [0.5650, 0.3801, 0.0972],\n",
      "        [0.4583, 0.3972, 0.3675],\n",
      "        [0.4423, 0.7420, 0.6171],\n",
      "        [0.3318, 0.5620, 0.8335]]) \n",
      "\n",
      "x[:, 0] = tensor([0.7717, 0.5650, 0.4583, 0.4423, 0.3318]) \n",
      "\n",
      "x[1, :] = tensor([0.5650, 0.3801, 0.0972]) \n",
      "\n",
      "x[1, 1] = tensor(0.3801) \n",
      "\n",
      "x[1, 1].item() = 0.38012492656707764 \n",
      "\n"
     ]
    }
   ],
   "source": [
    "# slicing \n",
    "x = torch.rand(5, 3)\n",
    "print('x =', x, '\\n')\n",
    "print('x[:, 0] =', x[:, 0], '\\n') # first column\n",
    "print('x[1, :] =', x[1, :], '\\n') # second row\n",
    "print('x[1, 1] =', x[1, 1], '\\n') # one element\n",
    "print('x[1, 1].item() =', x[1, 1].item(), '\\n') # convert to number\n",
    "# can only do this with one element in a tensor"
   ]
  },
  {
   "cell_type": "code",
   "execution_count": 7,
   "metadata": {},
   "outputs": [
    {
     "name": "stdout",
     "output_type": "stream",
     "text": [
      "x = tensor([[0.3042, 0.3503, 0.1163, 0.5121],\n",
      "        [0.6443, 0.4806, 0.4824, 0.5423],\n",
      "        [0.1783, 0.0313, 0.4046, 0.2636],\n",
      "        [0.8417, 0.9313, 0.0168, 0.1571]]) \n",
      "\n",
      "reshape tensors\n",
      "y = tensor([[0.3042, 0.3503],\n",
      "        [0.1163, 0.5121],\n",
      "        [0.6443, 0.4806],\n",
      "        [0.4824, 0.5423],\n",
      "        [0.1783, 0.0313],\n",
      "        [0.4046, 0.2636],\n",
      "        [0.8417, 0.9313],\n",
      "        [0.0168, 0.1571]]) \n",
      "\n",
      "y = tensor([[0.3042, 0.3503, 0.1163, 0.5121, 0.6443, 0.4806, 0.4824, 0.5423],\n",
      "        [0.1783, 0.0313, 0.4046, 0.2636, 0.8417, 0.9313, 0.0168, 0.1571]]) \n",
      "\n"
     ]
    }
   ],
   "source": [
    "x = torch.rand(4, 4)\n",
    "print('x =', x, '\\n')\n",
    "print('reshape tensors')\n",
    "y = x.view(8, 2) # reshape tensors\n",
    "print('y =', y, '\\n')\n",
    "y = x.view(-1, 8)\n",
    "print('y =', y, '\\n')"
   ]
  },
  {
   "cell_type": "code",
   "execution_count": 8,
   "metadata": {},
   "outputs": [
    {
     "name": "stdout",
     "output_type": "stream",
     "text": [
      "x = tensor([1., 1., 1., 1., 1.]) \n",
      "\n",
      "y = [1. 1. 1. 1. 1.] \n",
      "\n",
      "BE CAREFUL - if used in CPU, a and b will use the same memory.\n",
      "\n",
      "x = tensor([2., 2., 2., 2., 2.])  (+1 to all element in x)\n",
      "\n",
      "y = [2. 2. 2. 2. 2.]  (y also changed)\n",
      "\n",
      "------------\n",
      "y = tensor([1., 1., 1., 1., 1.], dtype=torch.float64) \n",
      "\n"
     ]
    }
   ],
   "source": [
    "import numpy as np\n",
    "\n",
    "x = torch.ones(5)\n",
    "y = x.numpy() # convert tensor to numpy array\n",
    "print('x =', x, '\\n')\n",
    "print('y =', y, '\\n')\n",
    "print(\"BE CAREFUL - if used in CPU, a and b will use the same memory.\\n\")\n",
    "x.add_(1)\n",
    "print('x =', x, ' (+1 to all element in x)\\n')\n",
    "print('y =', y, ' (y also changed)\\n')\n",
    "print('------------')\n",
    "x = np.ones(5)\n",
    "y = torch.from_numpy(x) # create tensor from numpy array\n",
    "print('y =', y, '\\n')"
   ]
  },
  {
   "cell_type": "code",
   "execution_count": 9,
   "metadata": {},
   "outputs": [
    {
     "name": "stdout",
     "output_type": "stream",
     "text": [
      "tensor([1., 1., 1., 1., 1.], requires_grad=True)\n"
     ]
    }
   ],
   "source": [
    "x = torch.ones(5, requires_grad=True)\n",
    "# tell pytorch to calculate gredient\n",
    "print(x)"
   ]
  },
  {
   "cell_type": "code",
   "execution_count": 10,
   "metadata": {},
   "outputs": [
    {
     "name": "stdout",
     "output_type": "stream",
     "text": [
      "x =  tensor([ 0.3397, -0.0672,  0.5080], requires_grad=True) \n",
      "\n",
      "z =  tensor([10.9480,  7.4718, 12.5798], grad_fn=<MulBackward0>) \n",
      "\n",
      "dz/dx = tensor([ 9.3586,  7.7314, 10.0319]) \n",
      "\n",
      "dz/dx = tensor([ 9.3586,  7.7314, 10.0319], grad_fn=<AddBackward0>) \n",
      "\n"
     ]
    }
   ],
   "source": [
    "import torch\n",
    "\n",
    "x = torch.randn(3, requires_grad=True)\n",
    "print('x = ', x, '\\n')\n",
    "\n",
    "y = x + 2\n",
    "z = y * y * 2\n",
    "v = torch.tensor([1, 1, 1], dtype=torch.float32) # to be used in computing gradient\n",
    "\n",
    "# manual calculation\n",
    "# z = 2*y^2 = 2*(x+2)^2 = 2*(x^2 + 4*x + 4)\n",
    "# z = 2*x^2 + 8*x + 8, dz/dx = 4*x + 8 \n",
    "# also doable using chain-rule: dz/dx = dz/dy * dy/dx \n",
    "\n",
    "print('z = ', z, '\\n')\n",
    "z.backward(v) # dz/dx\n",
    "print('dz/dx =', x.grad, '\\n')\n",
    "print('dz/dx =', 4*x + 8, '\\n')"
   ]
  },
  {
   "cell_type": "code",
   "execution_count": 11,
   "metadata": {},
   "outputs": [
    {
     "name": "stdout",
     "output_type": "stream",
     "text": [
      "tensor([3., 3., 3., 3.])\n",
      "tensor([6., 6., 6., 6.])\n",
      "--------\n",
      "tensor([3., 3., 3., 3.])\n",
      "tensor([3., 3., 3., 3.])\n"
     ]
    }
   ],
   "source": [
    "# .grad command will keep adding gredient. Have to set to zero afterward.\n",
    "\n",
    "weights = torch.ones(4, requires_grad=True)\n",
    "\n",
    "for epoch in range(2):\n",
    "    model_output = (weights*3).sum()\n",
    "    model_output.backward()\n",
    "    print(weights.grad) # the gradient for the second epoch is WRONG.\n",
    "\n",
    "print('--------')\n",
    "\n",
    "weights = torch.ones(4, requires_grad=True)\n",
    "\n",
    "for epoch in range(2):\n",
    "    model_output = (weights*3).sum()\n",
    "    model_output.backward()\n",
    "    print(weights.grad)\n",
    "    weights.grad.zero_() # this is required! \n",
    "    # now the gradient is correct."
   ]
  },
  {
   "cell_type": "code",
   "execution_count": 12,
   "metadata": {},
   "outputs": [
    {
     "name": "stdout",
     "output_type": "stream",
     "text": [
      "loss = tensor(1., grad_fn=<PowBackward0>)\n",
      "dloss/dw = tensor(-2.)\n"
     ]
    }
   ],
   "source": [
    "x = torch.tensor(1.0)\n",
    "y = torch.tensor(2.0)\n",
    "\n",
    "w = torch.tensor(1.0, requires_grad=True)\n",
    "\n",
    "# forward pass and compute the loss\n",
    "y_hat = w * x\n",
    "loss = (y_hat - y)**2\n",
    "\n",
    "print('loss =', loss)\n",
    "\n",
    "# backward pass\n",
    "# dl/dw = dl/dy_hat * dy_hat/dw = 2(y_hat - y) * x\n",
    "# = 2*y_hat*x - 2*y*x = 2*w*x*x - 2*y*x\n",
    "# = 2*1*1*1 - 2*2*1 = 2 - 4 = -2\n",
    " \n",
    "loss.backward()\n",
    "print('dloss/dw =', w.grad)"
   ]
  },
  {
   "cell_type": "code",
   "execution_count": null,
   "metadata": {},
   "outputs": [],
   "source": []
  }
 ],
 "metadata": {
  "kernelspec": {
   "display_name": "Python 3",
   "language": "python",
   "name": "python3"
  },
  "language_info": {
   "codemirror_mode": {
    "name": "ipython",
    "version": 3
   },
   "file_extension": ".py",
   "mimetype": "text/x-python",
   "name": "python",
   "nbconvert_exporter": "python",
   "pygments_lexer": "ipython3",
   "version": "3.10.10"
  },
  "vscode": {
   "interpreter": {
    "hash": "aee8b7b246df8f9039afb4144a1f6fd8d2ca17a180786b69acc140d282b71a49"
   }
  }
 },
 "nbformat": 4,
 "nbformat_minor": 2
}
