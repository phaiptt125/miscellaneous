{
 "cells": [
  {
   "attachments": {},
   "cell_type": "markdown",
   "metadata": {},
   "source": [
    "## ChatGPI API\n",
    "\n",
    "March 2023\n",
    "\n",
    "Phai Phongthiengtham\n",
    "\n"
   ]
  },
  {
   "attachments": {},
   "cell_type": "markdown",
   "metadata": {},
   "source": [
    "This notebook explains how to use ChatGPT API, in a similar way as the user-interface. First, you will need to create an account and get an API key.\n",
    "\n",
    "Create an account with OpenAI\n",
    "- https://platform.openai.com/\n",
    "\n",
    "Generate an API key\n",
    "- https://platform.openai.com/account/api-keys\n",
    "\n",
    "There are a variety of model to choose from. \n",
    "- https://platform.openai.com/docs/models\n",
    "\n",
    "OpenAI offers more funtionalities as well, but only for premium (paid) users :("
   ]
  },
  {
   "cell_type": "code",
   "execution_count": 1,
   "metadata": {},
   "outputs": [
    {
     "name": "stdout",
     "output_type": "stream",
     "text": [
      "First 20 characters of my own API key: sk-m3ogSKQKuQez6iD3I ...\n"
     ]
    }
   ],
   "source": [
    "import json\n",
    "\n",
    "with open(\"./openai_api_key.json\", 'r') as jsonfile: \n",
    "    # I stored my own API key in my local machine as json file.\n",
    "    config = json.loads(jsonfile.read())\n",
    "\n",
    "openai_api_key = config['openai_api_key']\n",
    "\n",
    "print('First 20 characters of my own API key:', openai_api_key[:20], '...')"
   ]
  },
  {
   "cell_type": "code",
   "execution_count": 2,
   "metadata": {},
   "outputs": [
    {
     "name": "stdout",
     "output_type": "stream",
     "text": [
      "\n",
      "\n",
      "The Harry Potter series is a story about a young boy named Harry who discovers that he is a wizard, and sets out on a journey to learn magic and become powerful enough to defeat his greatest enemy: the evil wizard Voldemort. Along the way, Harry makes friends and enemies, learns important lessons about love and loyalty, and uncovers dark secrets about his family and the wizarding world. The series spans seven books, each chronicling different stages of Harry's journey, from starting school at Hogwarts to facing the final showdown against Voldemort.\n"
     ]
    }
   ],
   "source": [
    "import openai #!/usr/local/bin/pip3 install openai\n",
    "\n",
    "openai.api_key = openai_api_key\n",
    "\n",
    "response = openai.ChatCompletion.create(\n",
    "    model=\"gpt-3.5-turbo\", # gpt-3.5-turbo is the same model family that powers ChatGPT.\n",
    "    messages=[\n",
    "            {\"role\": \"user\", \"content\": \"Can you summarize the plot of Harry Potter series?\"},\n",
    "        ]\n",
    ")\n",
    "\n",
    "result = ''\n",
    "for choice in response.choices:\n",
    "    result += choice.message.content\n",
    "\n",
    "print(result)"
   ]
  },
  {
   "cell_type": "code",
   "execution_count": null,
   "metadata": {},
   "outputs": [],
   "source": []
  }
 ],
 "metadata": {
  "kernelspec": {
   "display_name": "Python 3",
   "language": "python",
   "name": "python3"
  },
  "language_info": {
   "codemirror_mode": {
    "name": "ipython",
    "version": 3
   },
   "file_extension": ".py",
   "mimetype": "text/x-python",
   "name": "python",
   "nbconvert_exporter": "python",
   "pygments_lexer": "ipython3",
   "version": "3.10.10"
  },
  "vscode": {
   "interpreter": {
    "hash": "aee8b7b246df8f9039afb4144a1f6fd8d2ca17a180786b69acc140d282b71a49"
   }
  }
 },
 "nbformat": 4,
 "nbformat_minor": 2
}
