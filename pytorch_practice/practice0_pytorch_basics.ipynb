{
 "cells": [
  {
   "attachments": {},
   "cell_type": "markdown",
   "metadata": {},
   "source": [
    "## Pytorch Basics\n",
    "\n",
    "Phai Phongthiengtham"
   ]
  },
  {
   "attachments": {},
   "cell_type": "markdown",
   "metadata": {},
   "source": [
    "See https://pytorch.org/get-started/locally/ for installation"
   ]
  },
  {
   "cell_type": "code",
   "execution_count": 1,
   "metadata": {},
   "outputs": [
    {
     "name": "stdout",
     "output_type": "stream",
     "text": [
      "Python 3.10.10\n"
     ]
    }
   ],
   "source": [
    "!python3 --version"
   ]
  },
  {
   "cell_type": "code",
   "execution_count": 2,
   "metadata": {},
   "outputs": [
    {
     "name": "stdout",
     "output_type": "stream",
     "text": [
      "1.13.1\n"
     ]
    }
   ],
   "source": [
    "import torch\n",
    "print(torch.__version__)"
   ]
  },
  {
   "attachments": {},
   "cell_type": "markdown",
   "metadata": {},
   "source": [
    "### 1. Initializing tensor"
   ]
  },
  {
   "cell_type": "code",
   "execution_count": 3,
   "metadata": {},
   "outputs": [
    {
     "name": "stdout",
     "output_type": "stream",
     "text": [
      "tensor([[1., 1.],\n",
      "        [1., 1.]], dtype=torch.float16)\n",
      "torch.Size([2, 2])\n"
     ]
    }
   ],
   "source": [
    "x1 = torch.empty(2, 3)\n",
    "x2 = torch.rand(2, 2)\n",
    "x3 = torch.zeros(2, 2)\n",
    "x4 = torch.ones(2, 2, dtype=torch.double) # specify data type\n",
    "x5 = torch.ones(2, 2, dtype=torch.float16)\n",
    "print(x5)\n",
    "print(x5.size())"
   ]
  },
  {
   "attachments": {},
   "cell_type": "markdown",
   "metadata": {},
   "source": [
    "### 2. Basic operations"
   ]
  },
  {
   "cell_type": "code",
   "execution_count": 4,
   "metadata": {},
   "outputs": [
    {
     "name": "stdout",
     "output_type": "stream",
     "text": [
      "x = tensor([[0.5792, 0.4390],\n",
      "        [0.8570, 0.2436]])\n",
      "y = tensor([[0.0793, 0.3000],\n",
      "        [0.0034, 0.2840]])\n",
      "z1 = tensor([[0.6585, 0.7390],\n",
      "        [0.8603, 0.5276]])\n",
      "z2 = tensor([[0.6585, 0.7390],\n",
      "        [0.8603, 0.5276]])\n",
      "\n",
      "check if z1 == z2:\n",
      "\n",
      "tensor([[True, True],\n",
      "        [True, True]])\n",
      "tensor([[True, True],\n",
      "        [True, True]])\n",
      "tensor([[True, True],\n",
      "        [True, True]])\n",
      "tensor([[True, True],\n",
      "        [True, True]])\n"
     ]
    }
   ],
   "source": [
    "x = torch.rand(2, 2)\n",
    "y = torch.rand(2, 2)\n",
    "print('x =', x)\n",
    "print('y =', y)\n",
    "\n",
    "z1 = x + y\n",
    "z2 = torch.add(x, y) # element-wise addition\n",
    "print('z1 =', z1)\n",
    "print('z2 =', z2)\n",
    "print('\\ncheck if z1 == z2:\\n')\n",
    "print(z1 == z2)\n",
    "\n",
    "z1 = x - y\n",
    "z2 = torch.sub(x, y) # element-wise subtraction\n",
    "print(z1 == z2)\n",
    "\n",
    "z1 = x * y\n",
    "z2 = torch.mul(x, y) # element-wise multiplication\n",
    "print(z1 == z2)\n",
    "\n",
    "z1 = x / y\n",
    "z2 = torch.div(x, y) # element-wise division\n",
    "print(z1 == z2)"
   ]
  },
  {
   "attachments": {},
   "cell_type": "markdown",
   "metadata": {},
   "source": [
    "### 3. Inplace operations"
   ]
  },
  {
   "cell_type": "code",
   "execution_count": 5,
   "metadata": {},
   "outputs": [
    {
     "name": "stdout",
     "output_type": "stream",
     "text": [
      "x = tensor([[0.7245, 0.7369],\n",
      "        [0.4216, 0.4606]])\n",
      "y = tensor([[0.0717, 0.5942],\n",
      "        [0.2380, 0.3937]])\n",
      "\n",
      "any function with \"_\" will do inplace operation\n",
      "\n",
      "y = tensor([[0.7963, 1.3311],\n",
      "        [0.6596, 0.8543]])\n"
     ]
    }
   ],
   "source": [
    "x = torch.rand(2, 2)\n",
    "y = torch.rand(2, 2)\n",
    "print('x =', x)\n",
    "print('y =', y)\n",
    "print('\\nany function with \"_\" will do inplace operation\\n')\n",
    "\n",
    "y.add_(x)\n",
    "print('y =', y)"
   ]
  },
  {
   "attachments": {},
   "cell_type": "markdown",
   "metadata": {},
   "source": [
    "### 4. Slicing"
   ]
  },
  {
   "cell_type": "code",
   "execution_count": 6,
   "metadata": {},
   "outputs": [
    {
     "name": "stdout",
     "output_type": "stream",
     "text": [
      "x = tensor([[0.3912, 0.5674, 0.3688],\n",
      "        [0.1471, 0.5974, 0.8289],\n",
      "        [0.2684, 0.4225, 0.8702],\n",
      "        [0.9961, 0.8886, 0.5931],\n",
      "        [0.8074, 0.2100, 0.5713]]) \n",
      "\n",
      "x[:, 0] = tensor([0.3912, 0.1471, 0.2684, 0.9961, 0.8074]) \n",
      "\n",
      "x[1, :] = tensor([0.1471, 0.5974, 0.8289]) \n",
      "\n",
      "x[1, 1] = tensor(0.5974) \n",
      "\n",
      "x[1, 1].item() = 0.597387969493866 \n",
      "\n",
      ".item() only works when there is only one element in the tensor.\n"
     ]
    }
   ],
   "source": [
    "x = torch.rand(5, 3)\n",
    "print('x =', x, '\\n')\n",
    "print('x[:, 0] =', x[:, 0], '\\n') # first column\n",
    "print('x[1, :] =', x[1, :], '\\n') # second row\n",
    "print('x[1, 1] =', x[1, 1], '\\n') # one element\n",
    "print('x[1, 1].item() =', x[1, 1].item(), '\\n') # convert to number\n",
    "\n",
    "print('.item() only works when there is only one element in the tensor.')"
   ]
  },
  {
   "attachments": {},
   "cell_type": "markdown",
   "metadata": {},
   "source": [
    "### 5. Reshaping tensors\n",
    "- tensor.view() and tensor.reshape().\n",
    "- tensor.reshape() is more robust, and will work on any tensor."
   ]
  },
  {
   "cell_type": "code",
   "execution_count": 15,
   "metadata": {},
   "outputs": [
    {
     "name": "stdout",
     "output_type": "stream",
     "text": [
      "x = tensor([[0.2487, 0.6643, 0.3853],\n",
      "        [0.2413, 0.0839, 0.6120],\n",
      "        [0.8982, 0.2242, 0.1700],\n",
      "        [0.6750, 0.6319, 0.6323]]) \n",
      "\n",
      "----- reshape tensors -----\n",
      "\n",
      "y = x.reshape(2, 6) =  tensor([[0.2487, 0.6643, 0.3853, 0.2413, 0.0839, 0.6120],\n",
      "        [0.8982, 0.2242, 0.1700, 0.6750, 0.6319, 0.6323]]) \n",
      "\n",
      "z = x.reshape(-1) =  tensor([0.2487, 0.6643, 0.3853, 0.2413, 0.0839, 0.6120, 0.8982, 0.2242, 0.1700,\n",
      "        0.6750, 0.6319, 0.6323]) \n",
      "\n",
      "----- view tensors -----\n",
      "\n",
      "x.view(2, 6) =  tensor([[0.2487, 0.6643, 0.3853, 0.2413, 0.0839, 0.6120],\n",
      "        [0.8982, 0.2242, 0.1700, 0.6750, 0.6319, 0.6323]])\n"
     ]
    }
   ],
   "source": [
    "x = torch.rand(4, 3)\n",
    "print('x =', x, '\\n')\n",
    "print('----- reshape tensors -----\\n')\n",
    "y = x.reshape(2, 6) # reshape tensors\n",
    "print('y = x.reshape(2, 6) = ', y, '\\n')\n",
    "\n",
    "z = x.reshape(-1) # reshape tensors\n",
    "print('z = x.reshape(-1) = ', z, '\\n')\n",
    "\n",
    "print('----- view tensors -----\\n')\n",
    "print('x.view(2, 6) = ', x.view(2, 6))"
   ]
  },
  {
   "attachments": {},
   "cell_type": "markdown",
   "metadata": {},
   "source": [
    "### 6. Converting to and from numpy"
   ]
  },
  {
   "cell_type": "code",
   "execution_count": 8,
   "metadata": {},
   "outputs": [
    {
     "name": "stdout",
     "output_type": "stream",
     "text": [
      "x = tensor([1., 1., 1., 1., 1.]) \n",
      "\n",
      "y = [1. 1. 1. 1. 1.] \n",
      "\n",
      "BE CAREFUL - if used in CPU, a and b will use the same memory.\n",
      "\n",
      "x = tensor([2., 2., 2., 2., 2.])  (+1 to all element in x)\n",
      "\n",
      "y = [2. 2. 2. 2. 2.]  (y also changed)\n",
      "\n",
      "------------\n",
      "\n",
      "y = tensor([1., 1., 1., 1., 1.], dtype=torch.float64) \n",
      "\n",
      "In most cases, numpy arrays are converted to or from tensors only once.\n"
     ]
    }
   ],
   "source": [
    "import numpy as np\n",
    "\n",
    "x = torch.ones(5)\n",
    "y = x.numpy() # convert tensor to numpy array\n",
    "print('x =', x, '\\n')\n",
    "print('y =', y, '\\n')\n",
    "print(\"BE CAREFUL - if used in CPU, a and b will use the same memory.\\n\")\n",
    "x.add_(1)\n",
    "print('x =', x, ' (+1 to all element in x)\\n')\n",
    "print('y =', y, ' (y also changed)\\n')\n",
    "\n",
    "print('------------\\n')\n",
    "\n",
    "x = np.ones(5)\n",
    "y = torch.from_numpy(x) # create tensor from numpy array\n",
    "print('y =', y, '\\n')\n",
    "\n",
    "print('In most cases, numpy arrays are converted to or from tensors only once.')"
   ]
  },
  {
   "attachments": {},
   "cell_type": "markdown",
   "metadata": {},
   "source": [
    "### 7. Computing gradient"
   ]
  },
  {
   "cell_type": "code",
   "execution_count": 9,
   "metadata": {},
   "outputs": [
    {
     "name": "stdout",
     "output_type": "stream",
     "text": [
      "tensor([1., 1., 1., 1., 1.], requires_grad=True)\n"
     ]
    }
   ],
   "source": [
    "x = torch.ones(5, requires_grad=True) # tell pytorch to calculate gredient\n",
    "print(x)"
   ]
  },
  {
   "cell_type": "code",
   "execution_count": 10,
   "metadata": {},
   "outputs": [
    {
     "name": "stdout",
     "output_type": "stream",
     "text": [
      "x =  tensor([-0.4319, -0.2821, -0.7478], requires_grad=True) \n",
      "\n",
      "z =  tensor([4.9176, 5.9022, 3.1361], grad_fn=<MulBackward0>) \n",
      "\n",
      "dz/dx = tensor([6.2723, 6.8715, 5.0089]) \n",
      "\n",
      "dz/dx = tensor([6.2723, 6.8715, 5.0089], grad_fn=<AddBackward0>) \n",
      "\n"
     ]
    }
   ],
   "source": [
    "import torch\n",
    "\n",
    "x = torch.randn(3, requires_grad=True)\n",
    "print('x = ', x, '\\n')\n",
    "\n",
    "y = x + 2\n",
    "z = y * y * 2\n",
    "v = torch.tensor([1, 1, 1], dtype=torch.float32) # to be used in computing gradient\n",
    "\n",
    "# manual calculation\n",
    "# z = 2*y^2 = 2*(x+2)^2 = 2*(x^2 + 4*x + 4)\n",
    "# z = 2*x^2 + 8*x + 8, dz/dx = 4*x + 8 \n",
    "# also doable using chain-rule: dz/dx = dz/dy * dy/dx \n",
    "\n",
    "print('z = ', z, '\\n')\n",
    "z.backward(v) # dz/dx\n",
    "print('dz/dx =', x.grad, '\\n')\n",
    "print('dz/dx =', 4*x + 8, '\\n')"
   ]
  },
  {
   "cell_type": "code",
   "execution_count": 11,
   "metadata": {},
   "outputs": [
    {
     "name": "stdout",
     "output_type": "stream",
     "text": [
      "x = tensor([-1.1067, -1.9615,  1.2362], requires_grad=True)\n",
      "x.detach() = tensor([-1.1067, -1.9615,  1.2362])\n"
     ]
    }
   ],
   "source": [
    "# how to remove requires_grad=True\n",
    "x = torch.randn(3, requires_grad=True)\n",
    "\n",
    "print('x =', x)\n",
    "print('x.detach() =', x.detach())\n",
    "\n",
    "# how to tell pytorch NOT to compute gradient when requires_grad=True\n",
    "with torch.no_grad():\n",
    "    x.add_(1)"
   ]
  },
  {
   "cell_type": "code",
   "execution_count": 12,
   "metadata": {},
   "outputs": [
    {
     "name": "stdout",
     "output_type": "stream",
     "text": [
      "tensor([3., 3., 3., 3.])\n",
      "tensor([6., 6., 6., 6.])\n",
      "--------\n",
      "tensor([3., 3., 3., 3.])\n",
      "tensor([3., 3., 3., 3.])\n"
     ]
    }
   ],
   "source": [
    "# .grad command will keep adding gredient. Have to set to zero afterward.\n",
    "\n",
    "weights = torch.ones(4, requires_grad=True)\n",
    "\n",
    "for epoch in range(2):\n",
    "    model_output = (weights*3).sum()\n",
    "    model_output.backward()\n",
    "    print(weights.grad) # the gradient for the second epoch is WRONG.\n",
    "\n",
    "print('--------')\n",
    "\n",
    "weights = torch.ones(4, requires_grad=True)\n",
    "\n",
    "for epoch in range(2):\n",
    "    model_output = (weights*3).sum()\n",
    "    model_output.backward()\n",
    "    print(weights.grad)\n",
    "    weights.grad.zero_() # this is required! \n",
    "    # now the gradient is correct."
   ]
  },
  {
   "cell_type": "code",
   "execution_count": null,
   "metadata": {},
   "outputs": [],
   "source": []
  }
 ],
 "metadata": {
  "kernelspec": {
   "display_name": "Python 3",
   "language": "python",
   "name": "python3"
  },
  "language_info": {
   "codemirror_mode": {
    "name": "ipython",
    "version": 3
   },
   "file_extension": ".py",
   "mimetype": "text/x-python",
   "name": "python",
   "nbconvert_exporter": "python",
   "pygments_lexer": "ipython3",
   "version": "3.10.10"
  },
  "vscode": {
   "interpreter": {
    "hash": "aee8b7b246df8f9039afb4144a1f6fd8d2ca17a180786b69acc140d282b71a49"
   }
  }
 },
 "nbformat": 4,
 "nbformat_minor": 2
}
