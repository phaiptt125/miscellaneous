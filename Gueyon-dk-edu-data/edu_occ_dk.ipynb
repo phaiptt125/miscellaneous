{
 "cells": [
  {
   "cell_type": "markdown",
   "metadata": {},
   "source": [
    "## Import python modules "
   ]
  },
  {
   "cell_type": "code",
   "execution_count": 1,
   "metadata": {
    "collapsed": true
   },
   "outputs": [],
   "source": [
    "import os\n",
    "import re\n",
    "import pandas as pd\n",
    "import nltk\n",
    "from collections import Counter"
   ]
  },
  {
   "cell_type": "markdown",
   "metadata": {},
   "source": [
    "## Import data"
   ]
  },
  {
   "cell_type": "code",
   "execution_count": 2,
   "metadata": {},
   "outputs": [
    {
     "name": "stdout",
     "output_type": "stream",
     "text": [
      "total rows = 794\n"
     ]
    },
    {
     "data": {
      "text/html": [
       "<div>\n",
       "<style>\n",
       "    .dataframe thead tr:only-child th {\n",
       "        text-align: right;\n",
       "    }\n",
       "\n",
       "    .dataframe thead th {\n",
       "        text-align: left;\n",
       "    }\n",
       "\n",
       "    .dataframe tbody tr th {\n",
       "        vertical-align: top;\n",
       "    }\n",
       "</style>\n",
       "<table border=\"1\" class=\"dataframe\">\n",
       "  <thead>\n",
       "    <tr style=\"text-align: right;\">\n",
       "      <th></th>\n",
       "      <th>Valid from</th>\n",
       "      <th>Valid until</th>\n",
       "      <th>Code</th>\n",
       "      <th>Text</th>\n",
       "    </tr>\n",
       "  </thead>\n",
       "  <tbody>\n",
       "    <tr>\n",
       "      <th>0</th>\n",
       "      <td>01-01-1600</td>\n",
       "      <td>31-12-9999</td>\n",
       "      <td>0</td>\n",
       "      <td>undisclosed</td>\n",
       "    </tr>\n",
       "    <tr>\n",
       "      <th>1</th>\n",
       "      <td>01-01-1600</td>\n",
       "      <td>31-12-9999</td>\n",
       "      <td>11000</td>\n",
       "      <td>Military / Civil Defense</td>\n",
       "    </tr>\n",
       "    <tr>\n",
       "      <th>2</th>\n",
       "      <td>01-01-1600</td>\n",
       "      <td>31-12-9999</td>\n",
       "      <td>100000</td>\n",
       "      <td>Leadership at the top level in companies, orga...</td>\n",
       "    </tr>\n",
       "    <tr>\n",
       "      <th>3</th>\n",
       "      <td>01-01-1600</td>\n",
       "      <td>31-12-9999</td>\n",
       "      <td>110000</td>\n",
       "      <td>Legislative work and management in public admi...</td>\n",
       "    </tr>\n",
       "    <tr>\n",
       "      <th>4</th>\n",
       "      <td>01-01-1600</td>\n",
       "      <td>31-12-9999</td>\n",
       "      <td>111000</td>\n",
       "      <td>Legislative work and overall administration of...</td>\n",
       "    </tr>\n",
       "    <tr>\n",
       "      <th>5</th>\n",
       "      <td>01-01-1600</td>\n",
       "      <td>31-12-9999</td>\n",
       "      <td>112000</td>\n",
       "      <td>General public management</td>\n",
       "    </tr>\n",
       "    <tr>\n",
       "      <th>6</th>\n",
       "      <td>01-01-1600</td>\n",
       "      <td>31-12-9999</td>\n",
       "      <td>114000</td>\n",
       "      <td>Overall management of interest organizations a...</td>\n",
       "    </tr>\n",
       "    <tr>\n",
       "      <th>7</th>\n",
       "      <td>01-01-1600</td>\n",
       "      <td>31-12-9999</td>\n",
       "      <td>114100</td>\n",
       "      <td>Management of political party organizations</td>\n",
       "    </tr>\n",
       "    <tr>\n",
       "      <th>8</th>\n",
       "      <td>01-01-1600</td>\n",
       "      <td>31-12-9999</td>\n",
       "      <td>114200</td>\n",
       "      <td>Management of economic interest organizations</td>\n",
       "    </tr>\n",
       "    <tr>\n",
       "      <th>9</th>\n",
       "      <td>01-01-1600</td>\n",
       "      <td>31-12-9999</td>\n",
       "      <td>114210</td>\n",
       "      <td>Politically responsible / politically elected ...</td>\n",
       "    </tr>\n",
       "    <tr>\n",
       "      <th>10</th>\n",
       "      <td>01-01-1600</td>\n",
       "      <td>31-12-9999</td>\n",
       "      <td>114220</td>\n",
       "      <td>Employed leaders in economic interest organiza...</td>\n",
       "    </tr>\n",
       "    <tr>\n",
       "      <th>11</th>\n",
       "      <td>01-01-1600</td>\n",
       "      <td>31-12-9999</td>\n",
       "      <td>114300</td>\n",
       "      <td>Management work in humanitarian or other inter...</td>\n",
       "    </tr>\n",
       "    <tr>\n",
       "      <th>12</th>\n",
       "      <td>01-01-1600</td>\n",
       "      <td>31-12-9999</td>\n",
       "      <td>120000</td>\n",
       "      <td>Top management in the company in business with...</td>\n",
       "    </tr>\n",
       "    <tr>\n",
       "      <th>13</th>\n",
       "      <td>01-01-1600</td>\n",
       "      <td>31-12-9999</td>\n",
       "      <td>121000</td>\n",
       "      <td>Management comprising the company as a whole i...</td>\n",
       "    </tr>\n",
       "    <tr>\n",
       "      <th>14</th>\n",
       "      <td>01-01-1600</td>\n",
       "      <td>31-12-9999</td>\n",
       "      <td>121010</td>\n",
       "      <td>Top management level, CEO or equivalent in com...</td>\n",
       "    </tr>\n",
       "    <tr>\n",
       "      <th>15</th>\n",
       "      <td>01-01-1600</td>\n",
       "      <td>31-12-9999</td>\n",
       "      <td>121020</td>\n",
       "      <td>Crossing directors in business with at least 1...</td>\n",
       "    </tr>\n",
       "    <tr>\n",
       "      <th>16</th>\n",
       "      <td>01-01-1600</td>\n",
       "      <td>31-12-9999</td>\n",
       "      <td>122000</td>\n",
       "      <td>Management of the main activity in business wi...</td>\n",
       "    </tr>\n",
       "    <tr>\n",
       "      <th>17</th>\n",
       "      <td>01-01-1600</td>\n",
       "      <td>31-12-9999</td>\n",
       "      <td>122100</td>\n",
       "      <td>Management of the farm in agriculture, forestr...</td>\n",
       "    </tr>\n",
       "    <tr>\n",
       "      <th>18</th>\n",
       "      <td>01-01-1600</td>\n",
       "      <td>31-12-9999</td>\n",
       "      <td>122200</td>\n",
       "      <td>Production management in industrial enterprise...</td>\n",
       "    </tr>\n",
       "    <tr>\n",
       "      <th>19</th>\n",
       "      <td>01-01-1600</td>\n",
       "      <td>31-12-9999</td>\n",
       "      <td>122210</td>\n",
       "      <td>Top management of manufacturing in industrial ...</td>\n",
       "    </tr>\n",
       "  </tbody>\n",
       "</table>\n",
       "</div>"
      ],
      "text/plain": [
       "    Valid from Valid until    Code  \\\n",
       "0   01-01-1600  31-12-9999       0   \n",
       "1   01-01-1600  31-12-9999   11000   \n",
       "2   01-01-1600  31-12-9999  100000   \n",
       "3   01-01-1600  31-12-9999  110000   \n",
       "4   01-01-1600  31-12-9999  111000   \n",
       "5   01-01-1600  31-12-9999  112000   \n",
       "6   01-01-1600  31-12-9999  114000   \n",
       "7   01-01-1600  31-12-9999  114100   \n",
       "8   01-01-1600  31-12-9999  114200   \n",
       "9   01-01-1600  31-12-9999  114210   \n",
       "10  01-01-1600  31-12-9999  114220   \n",
       "11  01-01-1600  31-12-9999  114300   \n",
       "12  01-01-1600  31-12-9999  120000   \n",
       "13  01-01-1600  31-12-9999  121000   \n",
       "14  01-01-1600  31-12-9999  121010   \n",
       "15  01-01-1600  31-12-9999  121020   \n",
       "16  01-01-1600  31-12-9999  122000   \n",
       "17  01-01-1600  31-12-9999  122100   \n",
       "18  01-01-1600  31-12-9999  122200   \n",
       "19  01-01-1600  31-12-9999  122210   \n",
       "\n",
       "                                                 Text  \n",
       "0                                         undisclosed  \n",
       "1                            Military / Civil Defense  \n",
       "2   Leadership at the top level in companies, orga...  \n",
       "3   Legislative work and management in public admi...  \n",
       "4   Legislative work and overall administration of...  \n",
       "5                           General public management  \n",
       "6   Overall management of interest organizations a...  \n",
       "7         Management of political party organizations  \n",
       "8       Management of economic interest organizations  \n",
       "9   Politically responsible / politically elected ...  \n",
       "10  Employed leaders in economic interest organiza...  \n",
       "11  Management work in humanitarian or other inter...  \n",
       "12  Top management in the company in business with...  \n",
       "13  Management comprising the company as a whole i...  \n",
       "14  Top management level, CEO or equivalent in com...  \n",
       "15  Crossing directors in business with at least 1...  \n",
       "16  Management of the main activity in business wi...  \n",
       "17  Management of the farm in agriculture, forestr...  \n",
       "18  Production management in industrial enterprise...  \n",
       "19  Top management of manufacturing in industrial ...  "
      ]
     },
     "execution_count": 2,
     "metadata": {},
     "output_type": "execute_result"
    }
   ],
   "source": [
    "data_filename = 'educ_occ_dk.csv' #Note: I manually saved the file in csv format\n",
    "data = pd.read_csv(data_filename,encoding = 'cp865',header=0)\n",
    "# Note: encoding = 'cp865' is for Danish and Norwegian \n",
    "\n",
    "print('total rows = ' + str(len(data)))\n",
    "data.head(20) #print example"
   ]
  },
  {
   "cell_type": "markdown",
   "metadata": {},
   "source": [
    "## Extract all text and preprocess"
   ]
  },
  {
   "cell_type": "code",
   "execution_count": 3,
   "metadata": {},
   "outputs": [
    {
     "data": {
      "text/plain": [
       "['undisclosed',\n",
       " 'military / civil defense',\n",
       " 'leadership at the top level in companies, organizations and the public sector',\n",
       " 'legislative work and management in public administration and interest organizations',\n",
       " 'legislative work and overall administration of legislation, before 2004 incl.╩overall public management',\n",
       " 'general public management',\n",
       " 'overall management of interest organizations and humanitarian organizations',\n",
       " 'management of political party organizations',\n",
       " 'management of economic interest organizations',\n",
       " 'politically responsible / politically elected leaders in economic interest organizations']"
      ]
     },
     "execution_count": 3,
     "metadata": {},
     "output_type": "execute_result"
    }
   ],
   "source": [
    "all_text = [w.lower() for w in list(data['Text']) if not w==''] \n",
    "#convert to lowercase and remove empty values\n",
    "\n",
    "all_text[:10] #print some examples"
   ]
  },
  {
   "cell_type": "code",
   "execution_count": 4,
   "metadata": {},
   "outputs": [
    {
     "data": {
      "text/plain": [
       "'undisclosed military / civil defense leadership at the top level in companies, organizations and the public sector legislative work and management in public administration and interest organizations legislative work and overall administration of legislation, before 2004 incl.╩overall public management general public management overall management of interest organizations and humanitarian organizations management of political party organizations management of economic interest organizations politically responsible / politically elected leaders in economic interest organizations employed leaders in economic interest organizations management work in humanitarian or other interest groups top management in the company in business with at least 10 employees management comprising the company as a whole in business with at least 10 employees top management level, ceo or equivalent in company with at least 10 employees crossing directors in business with at least 10 employees management of the '"
      ]
     },
     "execution_count": 4,
     "metadata": {},
     "output_type": "execute_result"
    }
   ],
   "source": [
    "all_text = ' '.join(all_text) #combine all text together\n",
    "all_text[:1000] #print top 1000 characters"
   ]
  },
  {
   "cell_type": "code",
   "execution_count": 5,
   "metadata": {
    "collapsed": true
   },
   "outputs": [],
   "source": [
    "# Note: I have no idea if python text analysis functions work with Danish, so I will remove all Danish characters.\n",
    "\n",
    "# replace all non-ascii characters (e.g., Danish alphabets) with white space\n",
    "all_text_preprocessed = ''.join([i if ord(i) < 128 else ' ' for i in all_text])\n",
    "\n",
    "# replace all numbers with white space\n",
    "all_text_preprocessed = re.sub('\\d+',' ',all_text_preprocessed)\n",
    "\n",
    "# replace all non-alphabetical characters with white space\n",
    "all_text_preprocessed = re.sub('[^a-z ]',' ',all_text_preprocessed)\n",
    "\n",
    "# reset white spaces\n",
    "all_text_preprocessed = ' '.join([w for w in re.split(' ',all_text_preprocessed) if not w==''])\n",
    "\n",
    "# split text into list of words\n",
    "list_all_words = re.split(' ',all_text_preprocessed)"
   ]
  },
  {
   "cell_type": "code",
   "execution_count": 6,
   "metadata": {},
   "outputs": [
    {
     "name": "stdout",
     "output_type": "stream",
     "text": [
      "{'blacksmith', 'slaughterhouse', 'subjects', 'or', 'vegetable', 'businesses', 'farmer', 'crane', 'related', 'artist', 'agents', 'shop', 'hotel', 'images', 'science', 'maintenance', 'purchase', 'tourist', 'lines', 'data', 'machinery', 'architectural', 'electronics', 'clerk', 'quarrying', 'hyrevognschauff', 'gearbejde', 'household', 'cash', 'biology', 'jewelery', 'tr', 'agriculture', 'humanitarian', 'healthcare', 'impr', 'rescue', 'monitoring', 'dry', 'finance', 'video', 'floor', 'flymaskinistarbejde', 'commercial', 'firefighting', 'techniques', 'trucks', 'washing', 'airplanes', 'power', 'calculations', 'decoration', 'mining', 'courier', 'dairy', 'security', 'trains', 'aviation', 'breeding', 'course', 'roofing', 'placed', 'requiring', 'mills', 'cinema', 'during', 'medical', 'radio', 'window', 'toolsmith', 'manufacturing', 'research', 'crops', 'filtration', 'bookmaker', 'tourism', 'interior', 'assistance', 'state', 'anl', 'customization', 'artists', 'raw', 'rights', 'phototechnical', 'butchering', 'sewage', 'press', 'gunpowder', 'airports', 'painter', 'rer', 'catering', 'traveling', 'interview', 'adult', 'spedition', 'group', 'secretary', 'lawyer', 'hyrevogne', 'bioanalyst', 'construction', 'taxes', 'file', 'image', 'consultancy', 'standard', 'chemical', 'voice', 'stenography', 'forestry', 'money', 'blower', 'scuba', 'watchmaking', 'while', 'turning', 'pedigree', 'concrete', 'company', 'analysis', 'priests', 'culture', 'terrazzoarbejde', 'tankers', 'lights', 'leadership', 'the', 'veterinarian', 'mine', 'surveying', 'overall', 'trading', 'making', 'printing', 'specifications', 'bus', 'chocolate', 'rigger', 'incl', 'stationary', 'heat', 'sector', 'light', 'gold', 'snowshoeing', 'revision', 'furnace', 'requirements', 'sound', 'age', 'tile', 'for', 'claims', 'way', 'drilling', 'my', 'quality', 'repository', 'methods', 'processing', 'hunting', 'teleprinter', 'restaurant', 'assistants', 'packing', 'stukkat', 'biological', 'live', 'warehousing', 'genetics', 'editorial', 'audio', 'basis', 'footwear', 'works', 'livestock', 'primary', 'homes', 'colleges', 'bedding', 'tasting', 'national', 'rubber', 'technical', 'supply', 'investment', 'caring', 'engines', 'of', 'building', 'billing', 'physiotherapist', 'digital', 'sheets', 'books', 'premises', 'oysters', 'day', 'machine', 'auditing', 'people', 'flowers', 'adults', 'taxis', 'masonry', 'thermal', 'legislative', 'training', 'beverage', 'studies', 'factory', 'wastes', 'passenger', 'professionals', 'rooms', 'interest', 'buntmagerarbejde', 'precision', 'vegetables', 'street', 'infrastructure', 'performing', 'seat', 'international', 'surveillance', 'organizing', 'midwife', 'language', 'technician', 'sea', 'finish', 'instruments', 'motorcycles', 'filetering', 'welding', 'tool', 'teaching', 'console', 'cutting', 'assembly', 'athletes', 'cook', 'knowledge', 'legal', 'economic', 'activity', 'controllers', 'specialized', 'film', 'text', 'dancers', 'fitter', 'silversmiths', 'under', 'photographic', 'tasks', 'operations', 'mail', 'poultry', 'musical', 'interpreting', 'farms', 'pipelines', 'luggage', 'plastic', 'equivalent', 'theater', 'plumbing', 'cross', 'employees', 'accounting', 'humanities', 'fire', 'care', 'merchandising', 'sewing', 'bookbinder', 'slaughter', 'clothing', 'ticketing', 'industry', 'truck', 'concerning', 'second', 'politically', 'eg', 'regular', 'assistant', 'instruction', 'operation', 'farming', 'cranes', 'flooring', 'warehouse', 'cable', 'advice', 'calculating', 'processes', 'extraction', 'aid', 'hygiene', 'distressed', 'horticulture', 'typing', 'premiums', 'tire', 'papermaking', 'grinding', 'corresponding', 'shopping', 'setting', 'maritime', 'fruit', 'engineering', 'similar', 'fittings', 'godstransport', 'hospitals', 'auxiliary', 'nursing', 'telephone', 'consumption', 'exposures', 'crushing', 'leather', 'checking', 'creation', 'universities', 'produce', 'news', 'justice', 'installer', 'excl', 'materials', 'illustrations', 'than', 'cleaning', 'insulation', 'massager', 'main', 'with', 'disease', 'safety', 'woodwork', 'customs', 'poles', 'grant', 'iron', 'electroplating', 'auto', 'social', 'corporate', 'inspectorate', 'ship', 'cooking', 'physics', 'brokerage', 'gsgartner', 'brickwork', 'separation', 'musician', 'operating', 'articles', 'pension', 'communications', 'ecology', 'regarding', 'destilleringsarbejde', 'structures', 'post', 'installation', 'from', 'circus', 'mechanical', 'comprising', 'water', 'preparation', 'engineers', 'bonding', 'television', 'conservation', 'judiciary', 'ovens', 'addition', 'preschool', 'technique', 'buildings', 'flypilotarbejde', 'electric', 'orders', 'at', 'fish', 'design', 'dark', 'installations', 'staff', 'diving', 'botany', 'fencing', 'meteorology', 'dissemination', 'fodterapeut', 'electrician', 'experience', 'immigrants', 'economics', 'crafts', 'stock', 'occupational', 'dangerous', 'vrachtwagenchauffeurs', 'inventory', 'expression', 'health', 'rarbejde', 'serigraphic', 'bidding', 'reporting', 'entering', 'model', 'securities', 'consultants', 'artistic', 'joinery', 'fewer', 'phone', 'animals', 'cargo', 'political', 'diet', 'chemistry', 'journalist', 'programs', 'tailoring', 'aboard', 'filetation', 'furniture', 'personal', 'savings', 'watch', 'sundhedsplejerske', 'military', 'further', 'childcare', 'sandblasting', 'recording', 'systems', 'physiology', 'photographer', 'telegraph', 'etc', 'completed', 'foundry', 'cultural', 'functions', 'center', 'lorry', 'margarine', 'as', 'traffic', 'reception', 'searching', 'webmaster', 'food', 'birth', 'bank', 'call', 'car', 'optometrist', 'pharmacology', 'settlement', 'ranger', 'transport', 'philosophy', 'in', 'cashier', 'fine', 'legislation', 'ceo', 'year', 'postman', 'veterinary', 'repair', 'port', 'housing', 'administrative', 'biochemistry', 'textile', 'ol', 'refrigeration', 'release', 'physiotherapy', 'log', 'weaving', 'non', 'mechanic', 'information', 'groups', 'service', 'evening', 'door', 'banking', 'psychology', 'bulk', 'pathology', 'internally', 'rotation', 'qualifications', 'least', 'advertising', 'drawing', 'wholesale', 'terminals', 'instrument', 'engraving', 'specialist', 'include', 'collection', 'sale', 'soap', 'ceramic', 'pharmacy', 'responsible', 'planning', 'scaffolding', 'other', 'meals', 'house', 'treatment', 'whole', 'claysmith', 'production', 'directors', 'archives', 'knitting', 'broadcasts', 'support', 'material', 'civil', 'craftsmanship', 'and', 'instructor', 'debt', 'medium', 'hotels', 'transactions', 'top', 'assessment', 'highest', 'sheet', 'fishing', 'relating', 'driving', 'agronomic', 'operators', 'plastics', 'tea', 'painting', 'plant', 'scientific', 'templates', 'facilities', 'sporting', 'glazing', 'software', 'hand', 'singer', 'purchasing', 'growth', 'fax', 'preservation', 'lift', 'vehicles', 'anthropology', 'petrol', 'mineral', 'homework', 'it', 'electro', 'meat', 'mill', 'low', 'demonstration', 'shoemaker', 'carpentry', 'lifts', 'sweeping', 'coffee', 'loading', 'paint', 'database', 'school', 'working', 'transportation', 'professional', 'flower', 'residential', 'shoe', 'pharmaceutical', 'supervision', 'basketmaker', 'writer', 'is', 'incidentally', 'paper', 'cakes', 'hospital', 'handwork', 'retail', 'brick', 'wiring', 'refuse', 'education', 'linguistics', 'store', 'thin', 'metal', 'gneringsarbejde', 'crossing', 'ammunition', 'wood', 'calculation', 'med', 'duties', 'bakery', 'guard', 'lorries', 'stonemason', 'domestic', 'representation', 'airline', 'content', 'inquiries', 'agency', 'museum', 'vod', 'concepts', 'on', 'plants', 'economy', 'office', 'natural', 'fur', 'oil', 'dtp', 'sales', 'art', 'requires', 'miners', 'field', 'phase', 'economical', 'educational', 'agricultural', 'robot', 'agencies', 'religion', 'case', 'employed', 'organizations', 'technological', 'acting', 'customer', 'high', 'disabled', 'juice', 'incineration', 'moving', 'master', 'job', 'visual', 'advertisements', 'delivery', 'aircraft', 'general', 'orthopedic', 'aids', 'glass', 'rowing', 'sugar', 'reading', 'companies', 'brewery', 'gas', 'spray', 'graphical', 'theories', 'sports', 'development', 'confectionery', 'executive', 'barber', 'petting', 'industrial', 'correspondence', 'estate', 'montage', 'pictures', 'coding', 'that', 'coverage', 'inshore', 'kitchen', 'handicraft', 'work', 'anatomy', 'map', 'personnel', 'statistical', 'internal', 'graphic', 'programming', 'enterprises', 'institutions', 'special', 'history', 'technology', 'shellfish', 'cement', 'cosmetics', 'meter', 'handbook', 'laboratory', 'computer', 'excluding', 'kulsvierarbejde', 'hatmakers', 'music', 'hairdresser', 'forming', 'crop', 'editing', 'private', 'undisclosed', 'to', 'arable', 'system', 'board', 'bookkeeping', 'fields', 'after', 'travel', 'singers', 'currency', 'management', 'tanker', 'pulp', 'activities', 'project', 'entertainment', 'steel', 'electrical', 'electrotype', 'moldmaking', 'therapist', 'mixing', 'use', 'etching', 'stereotype', 'guards', 'motorcycle', 'sign', 'modeling', 'like', 'warning', 'refining', 'yarn', 'fashion', 'control', 'schools', 'arts', 'binding', 'speaker', 'mathematical', 'environment', 'writings', 's', 'stocks', 'current', 'energy', 'croupier', 'pharmacist', 'configuration', 'property', 'choreographer', 'insurance', 'lending', 'paving', 'marking', 'pottery', 'policing', 'industriarbejde', 'police', 'vans', 'idea', 'counseling', 'astronomy', 'cabelguy', 'collector', 'a', 'drivers', 'enthusiasts', 'organization', 'archive', 'defense', 'geophysics', 'carpenters', 'jernbanedrift', 'tobacco', 'ticket', 'land', 'groceries', 'porcelain', 'mobile', 'an', 'within', 'not', 'medicine', 'administration', 'babysitting', 'example', 'laboratories', 'r', 'valet', 'undertaker', 'proofreading', 'elected', 'applications', 'passports', 'mechanics', 'switchboard', 'features', 'strong', 'serving', 'houses', 'surfaces', 'cars', 'unloading', 'locomotive', 'bude', 'secondary', 'manager', 'areas', 'cosmetology', 'statistics', 'product', 'user', 'industries', 'hygienist', 'fitting', 'hotline', 'vocational', 'porter', 'exhaustion', 'financial', 'zoology', 'picking', 'embroidery', 'library', 'secretarial', 'electronic', 'preparatory', 'process', 'manufacture', 'sociology', 'journalism', 'pawnshops', 'bridge', 'brushbinder', 'spinning', 'judge', 'industrialization', 'omsorgsarbejde', 'well', 'forwarding', 'hardware', 'sciences', 'equipment', 'paralegal', 'housework', 'wire', 'attorney', 'public', 'translation', 'services', 'communication', 'boiler', 'fisheries', 'chiropractor', 'chiropractic', 'craft', 'including', 'telecommunications', 'composition', 'dancer', 'retrieval', 'advisory', 'operator', 'polishing', 'illustrative', 'cafeteria', 'ships', 'automotive', 'implementation', 'engineer', 'leaders', 'song', 'business', 'molding', 'architecture', 'telegraphy', 'geology', 'by', 'handling', 'terrazzo', 'tarmac', 'gardening', 'lower', 'real', 'chamber', 'air', 'policies', 'junior', 'railway', 'lifting', 'wallpaper', 'dental', 'party', 'leatherwork', 'horticultural', 'machines', 'journalistic', 'entry', 'machining', 'registration', 'renovation', 'level', 'shipping', 'sectors', 'prisons', 'financing', 'manual', 'manuals', 'finished', 'restaurants', 'goods', 'buses', 'paperwork', 'offices', 'without', 'dragers', 'processors', 'products', 'operational', 'before', 'freight', 'license', 'illustration', 'farm', 'credit', 'municipality', 'calculators', 'marketing', 'environmental', 'detective', 'soil', 'except', 'motors', 'removal', 'driver', 'award', 'issuance', 'children', 'screen', 'tanning'}\n"
     ]
    }
   ],
   "source": [
    "print(set(list_all_words)) #all words"
   ]
  },
  {
   "cell_type": "markdown",
   "metadata": {},
   "source": [
    "## Select relevant words\n",
    "According to \"Natural Language Processing with Python\" by Steven Bird, Ewan Klein, and Edward Loper, stopwords are usually \"[words with] little lexical content, and their presence in a text fails to distinguish it from other texts.\" See [here](http://www.nltk.org/book/ch02.html) for more explanations. These words include:"
   ]
  },
  {
   "cell_type": "code",
   "execution_count": 7,
   "metadata": {},
   "outputs": [
    {
     "name": "stdout",
     "output_type": "stream",
     "text": [
      "['i', 'me', 'my', 'myself', 'we', 'our', 'ours', 'ourselves', 'you', 'your', 'yours', 'yourself', 'yourselves', 'he', 'him', 'his', 'himself', 'she', 'her', 'hers', 'herself', 'it', 'its', 'itself', 'they', 'them', 'their', 'theirs', 'themselves', 'what', 'which', 'who', 'whom', 'this', 'that', 'these', 'those', 'am', 'is', 'are', 'was', 'were', 'be', 'been', 'being', 'have', 'has', 'had', 'having', 'do', 'does', 'did', 'doing', 'a', 'an', 'the', 'and', 'but', 'if', 'or', 'because', 'as', 'until', 'while', 'of', 'at', 'by', 'for', 'with', 'about', 'against', 'between', 'into', 'through', 'during', 'before', 'after', 'above', 'below', 'to', 'from', 'up', 'down', 'in', 'out', 'on', 'off', 'over', 'under', 'again', 'further', 'then', 'once', 'here', 'there', 'when', 'where', 'why', 'how', 'all', 'any', 'both', 'each', 'few', 'more', 'most', 'other', 'some', 'such', 'no', 'nor', 'not', 'only', 'own', 'same', 'so', 'than', 'too', 'very', 's', 't', 'can', 'will', 'just', 'don', 'should', 'now', 'd', 'll', 'm', 'o', 're', 've', 'y', 'ain', 'aren', 'couldn', 'didn', 'doesn', 'hadn', 'hasn', 'haven', 'isn', 'ma', 'mightn', 'mustn', 'needn', 'shan', 'shouldn', 'wasn', 'weren', 'won', 'wouldn']\n"
     ]
    }
   ],
   "source": [
    "from nltk.corpus import stopwords\n",
    "print(list(stopwords.words('english')))"
   ]
  },
  {
   "cell_type": "code",
   "execution_count": 8,
   "metadata": {},
   "outputs": [
    {
     "name": "stdout",
     "output_type": "stream",
     "text": [
      "Total unique number of words = 3350\n"
     ]
    },
    {
     "data": {
      "text/html": [
       "<div>\n",
       "<style>\n",
       "    .dataframe thead tr:only-child th {\n",
       "        text-align: right;\n",
       "    }\n",
       "\n",
       "    .dataframe thead th {\n",
       "        text-align: left;\n",
       "    }\n",
       "\n",
       "    .dataframe tbody tr th {\n",
       "        vertical-align: top;\n",
       "    }\n",
       "</style>\n",
       "<table border=\"1\" class=\"dataframe\">\n",
       "  <thead>\n",
       "    <tr style=\"text-align: right;\">\n",
       "      <th></th>\n",
       "      <th>word</th>\n",
       "      <th>count</th>\n",
       "    </tr>\n",
       "  </thead>\n",
       "  <tbody>\n",
       "    <tr>\n",
       "      <th>0</th>\n",
       "      <td>work</td>\n",
       "      <td>414</td>\n",
       "    </tr>\n",
       "    <tr>\n",
       "      <th>1</th>\n",
       "      <td>management</td>\n",
       "      <td>61</td>\n",
       "    </tr>\n",
       "    <tr>\n",
       "      <th>2</th>\n",
       "      <td>operation</td>\n",
       "      <td>53</td>\n",
       "    </tr>\n",
       "    <tr>\n",
       "      <th>3</th>\n",
       "      <td>employees</td>\n",
       "      <td>49</td>\n",
       "    </tr>\n",
       "    <tr>\n",
       "      <th>4</th>\n",
       "      <td>etc</td>\n",
       "      <td>46</td>\n",
       "    </tr>\n",
       "    <tr>\n",
       "      <th>5</th>\n",
       "      <td>business</td>\n",
       "      <td>39</td>\n",
       "    </tr>\n",
       "    <tr>\n",
       "      <th>6</th>\n",
       "      <td>machines</td>\n",
       "      <td>37</td>\n",
       "    </tr>\n",
       "    <tr>\n",
       "      <th>7</th>\n",
       "      <td>least</td>\n",
       "      <td>30</td>\n",
       "    </tr>\n",
       "    <tr>\n",
       "      <th>8</th>\n",
       "      <td>production</td>\n",
       "      <td>30</td>\n",
       "    </tr>\n",
       "    <tr>\n",
       "      <th>9</th>\n",
       "      <td>transport</td>\n",
       "      <td>27</td>\n",
       "    </tr>\n",
       "  </tbody>\n",
       "</table>\n",
       "</div>"
      ],
      "text/plain": [
       "         word  count\n",
       "0        work    414\n",
       "1  management     61\n",
       "2   operation     53\n",
       "3   employees     49\n",
       "4         etc     46\n",
       "5    business     39\n",
       "6    machines     37\n",
       "7       least     30\n",
       "8  production     30\n",
       "9   transport     27"
      ]
     },
     "execution_count": 8,
     "metadata": {},
     "output_type": "execute_result"
    }
   ],
   "source": [
    "# remove stopwords\n",
    "selected_words = [w for w in list_all_words if not w in stopwords.words('english')]\n",
    "print('Total unique number of words = ' + str(len(selected_words)))\n",
    "\n",
    "# count the rest\n",
    "count_words = [w for w in Counter(selected_words).most_common()]\n",
    "count_words = pd.DataFrame(count_words, columns = ['word','count'])\n",
    "\n",
    "# export to csv file\n",
    "count_words.to_csv('count_words.csv',index = False)\n",
    "\n",
    "# print some examples\n",
    "count_words.head(10)"
   ]
  }
 ],
 "metadata": {
  "kernelspec": {
   "display_name": "Python 3",
   "language": "python",
   "name": "python3"
  },
  "language_info": {
   "codemirror_mode": {
    "name": "ipython",
    "version": 3
   },
   "file_extension": ".py",
   "mimetype": "text/x-python",
   "name": "python",
   "nbconvert_exporter": "python",
   "pygments_lexer": "ipython3",
   "version": "3.6.1"
  }
 },
 "nbformat": 4,
 "nbformat_minor": 2
}
