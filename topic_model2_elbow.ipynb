{
 "cells": [
  {
   "cell_type": "code",
   "execution_count": 1,
   "metadata": {
    "collapsed": true
   },
   "outputs": [],
   "source": [
    "import os\n",
    "import re\n",
    "import sys\n",
    "import pandas as pd\n",
    "from io import StringIO\n",
    "\n",
    "import nltk\n",
    "from nltk.corpus import stopwords\n",
    "from nltk.tokenize import word_tokenize\n",
    "from nltk.stem.snowball import SnowballStemmer\n",
    "\n",
    "stop_words = set(stopwords.words('english'))\n",
    "stemmer = SnowballStemmer(\"english\")\n",
    "\n",
    "\n",
    "# NLTK Stop words\n",
    "from nltk.corpus import stopwords\n",
    "stop_words = stopwords.words('english')\n",
    "stop_words.extend(['from', 'subject', 're', 'edu', 'use'])\n",
    "\n",
    "\n",
    "\n",
    "import gensim\n",
    "from gensim import corpora, models\n",
    "import gensim.corpora as corpora\n",
    "from gensim.utils import simple_preprocess\n",
    "from gensim.models import CoherenceModel\n",
    "\n",
    "# Plotting tools\n",
    "import pyLDAvis\n",
    "import pyLDAvis.gensim  # don't skip this\n",
    "import matplotlib.pyplot as plt\n",
    "%matplotlib inline\n",
    "\n",
    "import re\n",
    "import numpy as np\n",
    "import pandas as pd\n",
    "from pprint import pprint\n",
    "\n",
    "# Gensim\n",
    "import gensim\n",
    "import gensim.corpora as corpora\n",
    "from gensim.utils import simple_preprocess\n",
    "from gensim.models import CoherenceModel\n",
    "\n",
    "# spacy for lemmatization\n",
    "import spacy\n",
    "\n",
    "# Plotting tools\n",
    "import pyLDAvis\n",
    "import pyLDAvis.gensim  # don't skip this\n",
    "import matplotlib.pyplot as plt\n",
    "%matplotlib inline\n",
    "\n",
    "# Enable logging for gensim - optional\n",
    "import logging\n",
    "logging.basicConfig(format='%(asctime)s : %(levelname)s : %(message)s', level=logging.ERROR)\n",
    "\n",
    "import warnings\n",
    "warnings.filterwarnings(\"ignore\",category=DeprecationWarning)"
   ]
  },
  {
   "cell_type": "code",
   "execution_count": 2,
   "metadata": {},
   "outputs": [
    {
     "name": "stdout",
     "output_type": "stream",
     "text": [
      "['rec.autos' 'comp.sys.mac.hardware' 'rec.motorcycles' 'misc.forsale'\n",
      " 'comp.os.ms-windows.misc' 'alt.atheism' 'comp.graphics'\n",
      " 'rec.sport.baseball' 'rec.sport.hockey' 'sci.electronics' 'sci.space'\n",
      " 'talk.politics.misc' 'sci.med' 'talk.politics.mideast'\n",
      " 'soc.religion.christian' 'comp.windows.x' 'comp.sys.ibm.pc.hardware'\n",
      " 'talk.politics.guns' 'talk.religion.misc' 'sci.crypt']\n"
     ]
    },
    {
     "data": {
      "text/html": [
       "<div>\n",
       "<style>\n",
       "    .dataframe thead tr:only-child th {\n",
       "        text-align: right;\n",
       "    }\n",
       "\n",
       "    .dataframe thead th {\n",
       "        text-align: left;\n",
       "    }\n",
       "\n",
       "    .dataframe tbody tr th {\n",
       "        vertical-align: top;\n",
       "    }\n",
       "</style>\n",
       "<table border=\"1\" class=\"dataframe\">\n",
       "  <thead>\n",
       "    <tr style=\"text-align: right;\">\n",
       "      <th></th>\n",
       "      <th>content</th>\n",
       "      <th>target</th>\n",
       "      <th>target_names</th>\n",
       "    </tr>\n",
       "  </thead>\n",
       "  <tbody>\n",
       "    <tr>\n",
       "      <th>0</th>\n",
       "      <td>From: lerxst@wam.umd.edu (where's my thing)\\nS...</td>\n",
       "      <td>7</td>\n",
       "      <td>rec.autos</td>\n",
       "    </tr>\n",
       "    <tr>\n",
       "      <th>1</th>\n",
       "      <td>From: guykuo@carson.u.washington.edu (Guy Kuo)...</td>\n",
       "      <td>4</td>\n",
       "      <td>comp.sys.mac.hardware</td>\n",
       "    </tr>\n",
       "    <tr>\n",
       "      <th>10</th>\n",
       "      <td>From: irwin@cmptrc.lonestar.org (Irwin Arnstei...</td>\n",
       "      <td>8</td>\n",
       "      <td>rec.motorcycles</td>\n",
       "    </tr>\n",
       "    <tr>\n",
       "      <th>100</th>\n",
       "      <td>From: tchen@magnus.acs.ohio-state.edu (Tsung-K...</td>\n",
       "      <td>6</td>\n",
       "      <td>misc.forsale</td>\n",
       "    </tr>\n",
       "    <tr>\n",
       "      <th>1000</th>\n",
       "      <td>From: dabl2@nlm.nih.gov (Don A.B. Lindbergh)\\n...</td>\n",
       "      <td>2</td>\n",
       "      <td>comp.os.ms-windows.misc</td>\n",
       "    </tr>\n",
       "  </tbody>\n",
       "</table>\n",
       "</div>"
      ],
      "text/plain": [
       "                                                content  target  \\\n",
       "0     From: lerxst@wam.umd.edu (where's my thing)\\nS...       7   \n",
       "1     From: guykuo@carson.u.washington.edu (Guy Kuo)...       4   \n",
       "10    From: irwin@cmptrc.lonestar.org (Irwin Arnstei...       8   \n",
       "100   From: tchen@magnus.acs.ohio-state.edu (Tsung-K...       6   \n",
       "1000  From: dabl2@nlm.nih.gov (Don A.B. Lindbergh)\\n...       2   \n",
       "\n",
       "                 target_names  \n",
       "0                   rec.autos  \n",
       "1       comp.sys.mac.hardware  \n",
       "10            rec.motorcycles  \n",
       "100              misc.forsale  \n",
       "1000  comp.os.ms-windows.misc  "
      ]
     },
     "execution_count": 2,
     "metadata": {},
     "output_type": "execute_result"
    }
   ],
   "source": [
    "# Import Dataset\n",
    "df = pd.read_json('https://raw.githubusercontent.com/selva86/datasets/master/newsgroups.json')\n",
    "print(df.target_names.unique())\n",
    "df.head()"
   ]
  },
  {
   "cell_type": "code",
   "execution_count": 3,
   "metadata": {},
   "outputs": [
    {
     "name": "stdout",
     "output_type": "stream",
     "text": [
      "['From: (wheres my thing) Subject: WHAT car is this!? Nntp-Posting-Host: '\n",
      " 'rac3.wam.umd.edu Organization: University of Maryland, College Park Lines: '\n",
      " '15 I was wondering if anyone out there could enlighten me on this car I saw '\n",
      " 'the other day. It was a 2-door sports car, looked to be from the late 60s/ '\n",
      " 'early 70s. It was called a Bricklin. The doors were really small. In '\n",
      " 'addition, the front bumper was separate from the rest of the body. This is '\n",
      " 'all I know. If anyone can tellme a model name, engine specs, years of '\n",
      " 'production, where this car is made, history, or whatever info you have on '\n",
      " 'this funky looking car, please e-mail. Thanks, - IL ---- brought to you by '\n",
      " 'your neighborhood Lerxst ---- ']\n"
     ]
    }
   ],
   "source": [
    "# Convert to list\n",
    "data = df.content.values.tolist()\n",
    "\n",
    "# Remove Emails\n",
    "data = [re.sub('\\S*@\\S*\\s?', '', sent) for sent in data]\n",
    "\n",
    "# Remove new line characters\n",
    "data = [re.sub('\\s+', ' ', sent) for sent in data]\n",
    "\n",
    "# Remove distracting single quotes\n",
    "data = [re.sub(\"\\'\", \"\", sent) for sent in data]\n",
    "\n",
    "pprint(data[:1])"
   ]
  },
  {
   "cell_type": "code",
   "execution_count": 4,
   "metadata": {},
   "outputs": [
    {
     "name": "stdout",
     "output_type": "stream",
     "text": [
      "[['from', 'wheres', 'my', 'thing', 'subject', 'what', 'car', 'is', 'this', 'nntp', 'posting', 'host', 'rac', 'wam', 'umd', 'edu', 'organization', 'university', 'of', 'maryland', 'college', 'park', 'lines', 'was', 'wondering', 'if', 'anyone', 'out', 'there', 'could', 'enlighten', 'me', 'on', 'this', 'car', 'saw', 'the', 'other', 'day', 'it', 'was', 'door', 'sports', 'car', 'looked', 'to', 'be', 'from', 'the', 'late', 'early', 'it', 'was', 'called', 'bricklin', 'the', 'doors', 'were', 'really', 'small', 'in', 'addition', 'the', 'front', 'bumper', 'was', 'separate', 'from', 'the', 'rest', 'of', 'the', 'body', 'this', 'is', 'all', 'know', 'if', 'anyone', 'can', 'tellme', 'model', 'name', 'engine', 'specs', 'years', 'of', 'production', 'where', 'this', 'car', 'is', 'made', 'history', 'or', 'whatever', 'info', 'you', 'have', 'on', 'this', 'funky', 'looking', 'car', 'please', 'mail', 'thanks', 'il', 'brought', 'to', 'you', 'by', 'your', 'neighborhood', 'lerxst']]\n"
     ]
    }
   ],
   "source": [
    "def sent_to_words(sentences):\n",
    "    for sentence in sentences:\n",
    "        yield(gensim.utils.simple_preprocess(str(sentence), deacc=True))  # deacc=True removes punctuations\n",
    "\n",
    "data_words = list(sent_to_words(data))\n",
    "\n",
    "print(data_words[:1])"
   ]
  },
  {
   "cell_type": "code",
   "execution_count": 5,
   "metadata": {},
   "outputs": [
    {
     "name": "stderr",
     "output_type": "stream",
     "text": [
      "/project/proquest/anaconda3/lib/python3.6/site-packages/gensim/models/phrases.py:316: UserWarning: For a faster implementation, use the gensim.models.phrases.Phraser class\n",
      "  warnings.warn(\"For a faster implementation, use the gensim.models.phrases.Phraser class\")\n"
     ]
    },
    {
     "name": "stdout",
     "output_type": "stream",
     "text": [
      "['from', 'wheres', 'my', 'thing', 'subject', 'what', 'car', 'is', 'this', 'nntp_posting_host', 'rac_wam_umd_edu', 'organization', 'university', 'of', 'maryland_college_park', 'lines', 'was', 'wondering', 'if', 'anyone', 'out', 'there', 'could', 'enlighten', 'me', 'on', 'this', 'car', 'saw', 'the', 'other', 'day', 'it', 'was', 'door', 'sports', 'car', 'looked', 'to', 'be', 'from', 'the', 'late', 'early', 'it', 'was', 'called', 'bricklin', 'the', 'doors', 'were', 'really', 'small', 'in', 'addition', 'the', 'front_bumper', 'was', 'separate', 'from', 'the', 'rest', 'of', 'the', 'body', 'this', 'is', 'all', 'know', 'if', 'anyone', 'can', 'tellme', 'model', 'name', 'engine', 'specs', 'years', 'of', 'production', 'where', 'this', 'car', 'is', 'made', 'history', 'or', 'whatever', 'info', 'you', 'have', 'on', 'this', 'funky', 'looking', 'car', 'please', 'mail', 'thanks', 'il', 'brought', 'to', 'you', 'by', 'your', 'neighborhood', 'lerxst']\n"
     ]
    }
   ],
   "source": [
    "# Build the bigram and trigram models\n",
    "bigram = gensim.models.Phrases(data_words, min_count=5, threshold=100) # higher threshold fewer phrases.\n",
    "trigram = gensim.models.Phrases(bigram[data_words], threshold=100)  \n",
    "\n",
    "# Faster way to get a sentence clubbed as a trigram/bigram\n",
    "bigram_mod = gensim.models.phrases.Phraser(bigram)\n",
    "trigram_mod = gensim.models.phrases.Phraser(trigram)\n",
    "\n",
    "# See trigram example\n",
    "print(trigram_mod[bigram_mod[data_words[0]]])"
   ]
  },
  {
   "cell_type": "code",
   "execution_count": 6,
   "metadata": {
    "collapsed": true
   },
   "outputs": [],
   "source": [
    "# Define functions for stopwords, bigrams, trigrams and lemmatization\n",
    "def remove_stopwords(texts):\n",
    "    return [[word for word in simple_preprocess(str(doc)) if word not in stop_words] for doc in texts]\n",
    "\n",
    "def make_bigrams(texts):\n",
    "    return [bigram_mod[doc] for doc in texts]\n",
    "\n",
    "def make_trigrams(texts):\n",
    "    return [trigram_mod[bigram_mod[doc]] for doc in texts]\n",
    "\n",
    "def lemmatization(texts, allowed_postags=['NOUN', 'ADJ', 'VERB', 'ADV']):\n",
    "    \"\"\"https://spacy.io/api/annotation\"\"\"\n",
    "    texts_out = []\n",
    "    for sent in texts:\n",
    "        doc = nlp(\" \".join(sent)) \n",
    "        texts_out.append([token.lemma_ for token in doc if token.pos_ in allowed_postags])\n",
    "    return texts_out"
   ]
  },
  {
   "cell_type": "code",
   "execution_count": 7,
   "metadata": {
    "collapsed": true
   },
   "outputs": [],
   "source": [
    "# Define functions for stopwords, bigrams, trigrams and lemmatization\n",
    "def remove_stopwords(texts):\n",
    "    return [[word for word in simple_preprocess(str(doc)) if word not in stop_words] for doc in texts]\n",
    "\n",
    "def make_bigrams(texts):\n",
    "    return [bigram_mod[doc] for doc in texts]\n",
    "\n",
    "def make_trigrams(texts):\n",
    "    return [trigram_mod[bigram_mod[doc]] for doc in texts]\n",
    "\n",
    "def lemmatization(texts, allowed_postags=['NOUN', 'ADJ', 'VERB', 'ADV']):\n",
    "    \"\"\"https://spacy.io/api/annotation\"\"\"\n",
    "    texts_out = []\n",
    "    for sent in texts:\n",
    "        doc = nlp(\" \".join(sent)) \n",
    "        texts_out.append([token.lemma_ for token in doc if token.pos_ in allowed_postags])\n",
    "    return texts_out"
   ]
  },
  {
   "cell_type": "code",
   "execution_count": 8,
   "metadata": {},
   "outputs": [
    {
     "name": "stdout",
     "output_type": "stream",
     "text": [
      "[['where', 's', 'thing', 'car', 'nntp_post', 'host', 'rac_wam', 'umd', 'organization', 'university', 'maryland_college', 'park', 'line', 'wonder', 'anyone', 'could', 'enlighten', 'car', 'see', 'day', 'door', 'sport', 'car', 'look', 'late', 'early', 'call', 'bricklin', 'door', 'really', 'small', 'addition', 'front_bumper', 'separate', 'rest', 'body', 'know', 'anyone', 'tellme', 'model', 'name', 'engine', 'spec', 'year', 'production', 'car', 'make', 'history', 'whatev', 'info', 'funky', 'look', 'car', 'mail', 'thank', 'bring', 'neighborhood', 'lerxst']]\n"
     ]
    }
   ],
   "source": [
    "# Remove Stop Words\n",
    "data_words_nostops = remove_stopwords(data_words)\n",
    "\n",
    "# Form Bigrams\n",
    "data_words_bigrams = make_bigrams(data_words_nostops)\n",
    "\n",
    "# Initialize spacy 'en' model, keeping only tagger component (for efficiency)\n",
    "# python3 -m spacy download en\n",
    "nlp = spacy.load('en', disable=['parser', 'ner'])\n",
    "\n",
    "# Do lemmatization keeping only noun, adj, vb, adv\n",
    "data_lemmatized = lemmatization(data_words_bigrams, allowed_postags=['NOUN', 'ADJ', 'VERB', 'ADV'])\n",
    "\n",
    "print(data_lemmatized[:1])"
   ]
  },
  {
   "cell_type": "code",
   "execution_count": 9,
   "metadata": {},
   "outputs": [
    {
     "name": "stdout",
     "output_type": "stream",
     "text": [
      "[[(0, 1), (1, 1), (2, 1), (3, 5), (4, 1), (5, 1), (6, 1), (7, 1), (8, 1), (9, 1), (10, 1), (11, 1), (12, 1), (13, 1), (14, 2), (15, 1), (16, 1), (17, 1), (18, 1), (19, 2), (20, 1), (21, 2), (22, 1), (23, 1), (24, 1), (25, 1), (26, 1), (27, 1), (28, 1), (29, 1), (30, 1), (31, 1), (32, 1), (33, 1), (34, 1), (35, 1), (36, 1), (37, 1), (38, 1), (39, 1), (40, 1), (41, 1), (42, 1), (43, 1), (44, 1), (45, 1), (46, 1), (47, 1), (48, 1), (49, 1), (50, 1)]]\n"
     ]
    }
   ],
   "source": [
    "# Create Dictionary\n",
    "id2word = corpora.Dictionary(data_lemmatized)\n",
    "\n",
    "# Create Corpus\n",
    "texts = data_lemmatized\n",
    "\n",
    "# Term Document Frequency\n",
    "corpus = [id2word.doc2bow(text) for text in texts]\n",
    "\n",
    "# View\n",
    "print(corpus[:1])"
   ]
  },
  {
   "cell_type": "code",
   "execution_count": 10,
   "metadata": {
    "collapsed": true
   },
   "outputs": [],
   "source": [
    "# Build LDA model\n",
    "lda_model = gensim.models.ldamodel.LdaModel(corpus=corpus,\n",
    "                                           id2word=id2word,\n",
    "                                           num_topics=20, \n",
    "                                           random_state=100,\n",
    "                                           update_every=1,\n",
    "                                           chunksize=100,\n",
    "                                           passes=10,\n",
    "                                           alpha='auto',\n",
    "                                           per_word_topics=True)"
   ]
  },
  {
   "cell_type": "code",
   "execution_count": 11,
   "metadata": {},
   "outputs": [
    {
     "name": "stdout",
     "output_type": "stream",
     "text": [
      "[(0,\n",
      "  '0.047*\"window\" + 0.017*\"graphic\" + 0.013*\"application\" + 0.013*\"run\" + '\n",
      "  '0.012*\"goal\" + 0.011*\"display\" + 0.011*\"screen\" + 0.010*\"server\" + '\n",
      "  '0.010*\"program\" + 0.009*\"use\"'),\n",
      " (1,\n",
      "  '0.041*\"not\" + 0.023*\"would\" + 0.022*\"do\" + 0.019*\"say\" + 0.016*\"be\" + '\n",
      "  '0.014*\"think\" + 0.014*\"know\" + 0.013*\"go\" + 0.012*\"make\" + 0.011*\"people\"'),\n",
      " (2,\n",
      "  '0.019*\"key\" + 0.014*\"use\" + 0.012*\"system\" + 0.009*\"information\" + '\n",
      "  '0.008*\"provide\" + 0.008*\"new\" + 0.007*\"technology\" + 0.007*\"standard\" + '\n",
      "  '0.007*\"encryption\" + 0.007*\"contain\"'),\n",
      " (3,\n",
      "  '0.014*\"mission\" + 0.013*\"boston\" + 0.012*\"wing\" + 0.011*\"pit\" + '\n",
      "  '0.011*\"detroit\" + 0.010*\"nyr\" + 0.010*\"la\" + 0.010*\"van\" + 0.009*\"bos\" + '\n",
      "  '0.009*\"tor\"'),\n",
      " (4,\n",
      "  '0.011*\"power\" + 0.011*\"circuit\" + 0.010*\"launch\" + 0.009*\"oil\" + '\n",
      "  '0.009*\"king\" + 0.008*\"switch\" + 0.007*\"mon\" + 0.007*\"hot\" + '\n",
      "  '0.007*\"illinois\" + 0.007*\"tv\"'),\n",
      " (5,\n",
      "  '0.022*\"game\" + 0.021*\"team\" + 0.020*\"year\" + 0.014*\"play\" + 0.012*\"win\" + '\n",
      "  '0.012*\"player\" + 0.010*\"hockey\" + 0.010*\"good\" + 0.008*\"season\" + '\n",
      "  '0.007*\"hit\"'),\n",
      " (6,\n",
      "  '0.039*\"drive\" + 0.028*\"sale\" + 0.017*\"contact\" + 0.013*\"cable\" + '\n",
      "  '0.012*\"mac\" + 0.012*\"price\" + 0.011*\"disk\" + 0.010*\"sell\" + 0.010*\"apple\" + '\n",
      "  '0.009*\"model\"'),\n",
      " (7,\n",
      "  '0.049*\"line\" + 0.044*\"organization\" + 0.023*\"write\" + 0.020*\"article\" + '\n",
      "  '0.019*\"university\" + 0.017*\"nntp_post\" + 0.016*\"get\" + 0.016*\"host\" + '\n",
      "  '0.012*\"would\" + 0.010*\"anyone\"'),\n",
      " (8,\n",
      "  '0.012*\"wire\" + 0.012*\"study\" + 0.011*\"kid\" + 0.010*\"cover\" + 0.010*\"ground\" '\n",
      "  '+ 0.009*\"drug\" + 0.009*\"obvious\" + 0.009*\"level\" + 0.008*\"text\" + '\n",
      "  '0.007*\"normal\"'),\n",
      " (9,\n",
      "  '0.040*\"_\" + 0.024*\"gd\" + 0.019*\"zoroastrian\" + 0.017*\"cubs_suck\" + '\n",
      "  '0.014*\"eg\" + 0.013*\"cylinder\" + 0.006*\"cooling_tower\" + 0.006*\"chong\" + '\n",
      "  '0.006*\"yik\" + 0.005*\"veda\"'),\n",
      " (10,\n",
      "  '0.018*\"government\" + 0.017*\"gun\" + 0.013*\"right\" + 0.012*\"law\" + '\n",
      "  '0.012*\"state\" + 0.010*\"american\" + 0.009*\"country\" + 0.009*\"people\" + '\n",
      "  '0.007*\"public\" + 0.007*\"police\"'),\n",
      " (11,\n",
      "  '0.021*\"christian\" + 0.019*\"god\" + 0.009*\"book\" + 0.009*\"word\" + 0.009*\"law\" '\n",
      "  '+ 0.009*\"religion\" + 0.008*\"life\" + 0.008*\"believe\" + 0.008*\"exist\" + '\n",
      "  '0.008*\"bible\"'),\n",
      " (12,\n",
      "  '0.028*\"car\" + 0.013*\"bike\" + 0.009*\"road\" + 0.008*\"door\" + 0.007*\"engine\" + '\n",
      "  '0.007*\"drive\" + 0.007*\"light\" + 0.007*\"mile\" + 0.006*\"hang\" + 0.006*\"ride\"'),\n",
      " (13,\n",
      "  '0.051*\"space\" + 0.011*\"science\" + 0.011*\"year\" + 0.010*\"russian\" + '\n",
      "  '0.010*\"earth\" + 0.009*\"satellite\" + 0.008*\"project\" + 0.008*\"first\" + '\n",
      "  '0.008*\"orbit\" + 0.007*\"nasa\"'),\n",
      " (14,\n",
      "  '0.796*\"ax\" + 0.058*\"max\" + 0.008*\"hour\" + 0.003*\"probe\" + 0.002*\"rating\" + '\n",
      "  '0.002*\"rat\" + 0.002*\"centris\" + 0.002*\"sweep\" + 0.002*\"patch\" + '\n",
      "  '0.002*\"qax\"'),\n",
      " (15,\n",
      "  '0.022*\"mail\" + 0.017*\"file\" + 0.015*\"information\" + 0.015*\"available\" + '\n",
      "  '0.014*\"software\" + 0.012*\"include\" + 0.012*\"send\" + 0.011*\"image\" + '\n",
      "  '0.011*\"address\" + 0.010*\"email\"'),\n",
      " (16,\n",
      "  '0.033*\"chip\" + 0.013*\"value\" + 0.010*\"man\" + 0.009*\"gay\" + 0.009*\"burn\" + '\n",
      "  '0.009*\"system\" + 0.008*\"marriage\" + 0.008*\"sex\" + 0.008*\"homosexual\" + '\n",
      "  '0.008*\"moral\"'),\n",
      " (17,\n",
      "  '0.016*\"president\" + 0.011*\"state\" + 0.010*\"israel\" + 0.010*\"report\" + '\n",
      "  '0.009*\"war\" + 0.008*\"israeli\" + 0.008*\"house\" + 0.007*\"center\" + '\n",
      "  '0.007*\"member\" + 0.007*\"arab\"'),\n",
      " (18,\n",
      "  '0.030*\"armenian\" + 0.010*\"matthew\" + 0.010*\"jewish\" + 0.009*\"turk\" + '\n",
      "  '0.008*\"turkish\" + 0.008*\"muslim\" + 0.008*\"kill\" + 0.008*\"greek\" + '\n",
      "  '0.007*\"serdar_argic\" + 0.007*\"attack\"'),\n",
      " (19,\n",
      "  '0.024*\"com\" + 0.016*\"inc\" + 0.016*\"computer_science\" + 0.014*\"ca\" + '\n",
      "  '0.014*\"brian\" + 0.013*\"pittsburgh\" + 0.011*\"gordon_bank\" + 0.011*\"ibm\" + '\n",
      "  '0.010*\"mouse\" + 0.010*\"manual\"')]\n"
     ]
    }
   ],
   "source": [
    "# Print the Keyword in the 10 topics\n",
    "pprint(lda_model.print_topics())\n",
    "doc_lda = lda_model[corpus]"
   ]
  },
  {
   "cell_type": "code",
   "execution_count": 12,
   "metadata": {},
   "outputs": [
    {
     "name": "stdout",
     "output_type": "stream",
     "text": [
      "\n",
      "Perplexity:  -8.73590444221\n",
      "\n",
      "Coherence Score:  0.588112527769\n"
     ]
    }
   ],
   "source": [
    "# Compute Perplexity\n",
    "print('\\nPerplexity: ', lda_model.log_perplexity(corpus))  # a measure of how good the model is. lower the better.\n",
    "\n",
    "# Compute Coherence Score\n",
    "coherence_model_lda = CoherenceModel(model=lda_model, texts=data_lemmatized, dictionary=id2word, coherence='c_v')\n",
    "coherence_lda = coherence_model_lda.get_coherence()\n",
    "print('\\nCoherence Score: ', coherence_lda)"
   ]
  },
  {
   "cell_type": "code",
   "execution_count": 13,
   "metadata": {},
   "outputs": [
    {
     "data": {
      "text/html": [
       "\n",
       "<link rel=\"stylesheet\" type=\"text/css\" href=\"https://cdn.rawgit.com/bmabey/pyLDAvis/files/ldavis.v1.0.0.css\">\n",
       "\n",
       "\n",
       "<div id=\"ldavis_el32596139908202544968216147314\"></div>\n",
       "<script type=\"text/javascript\">\n",
       "\n",
       "var ldavis_el32596139908202544968216147314_data = {\"mdsDat\": {\"Freq\": [22.57878255890133, 15.851866634232886, 5.984501275097732, 5.18753376513588, 5.0309879042498045, 4.934819142720477, 4.789653386668704, 4.503098062338374, 3.876197040607236, 3.8290420157464937, 3.260974654711109, 3.1866624809864788, 2.926116804213867, 2.6401546253820576, 2.551385117779263, 2.2599624126781146, 2.0228957118358495, 1.764759898378845, 1.5016653980046335, 1.3189411103308766], \"cluster\": [1, 1, 1, 1, 1, 1, 1, 1, 1, 1, 1, 1, 1, 1, 1, 1, 1, 1, 1, 1], \"topics\": [1, 2, 3, 4, 5, 6, 7, 8, 9, 10, 11, 12, 13, 14, 15, 16, 17, 18, 19, 20], \"x\": [-0.34351798729813743, -0.29617778903083947, -0.08828400507301211, -0.10038609729544562, -0.09484722134396625, -0.12178252744152349, -0.03533548555266219, 0.09883230391831567, -0.018904677376939412, -0.0341878218839035, 0.040094461557353786, 0.048561981190267486, 0.05535755784900206, 0.09393262032348335, 0.13097456601032736, 0.056439874502711214, 0.14702901149650663, 0.11142087059390181, 0.18050014543464568, 0.17028021941991486], \"y\": [6.544752542527441e-05, 0.13789501043314725, 0.09874616209463372, -0.18581930474878683, 0.0657450245579387, 0.020395659658512897, -0.21757048276534913, 0.03249704010708012, -0.05206884268158494, -0.1750742722092886, 0.18109330364632276, 0.08748120006371879, -0.16504292398411588, 0.1623026681065555, -0.00942783542412685, -0.008012253566737059, 0.04685328212106511, -0.03829845374041065, 0.011687618588577524, 0.006551952217422716]}, \"tinfo\": {\"Category\": [\"Default\", \"Default\", \"Default\", \"Default\", \"Default\", \"Default\", \"Default\", \"Default\", \"Default\", \"Default\", \"Default\", \"Default\", \"Default\", \"Default\", \"Default\", \"Default\", \"Default\", \"Default\", \"Default\", \"Default\", \"Default\", \"Default\", \"Default\", \"Default\", \"Default\", \"Default\", \"Default\", \"Default\", \"Default\", \"Default\", \"Topic1\", \"Topic1\", \"Topic1\", \"Topic1\", \"Topic1\", \"Topic1\", \"Topic1\", \"Topic1\", \"Topic1\", \"Topic1\", \"Topic1\", \"Topic1\", \"Topic1\", \"Topic1\", \"Topic1\", \"Topic1\", \"Topic1\", \"Topic1\", \"Topic1\", \"Topic1\", \"Topic1\", \"Topic1\", \"Topic1\", \"Topic1\", \"Topic1\", \"Topic1\", \"Topic1\", \"Topic1\", \"Topic1\", \"Topic1\", \"Topic1\", \"Topic1\", \"Topic1\", \"Topic1\", \"Topic1\", \"Topic1\", \"Topic1\", \"Topic1\", \"Topic1\", \"Topic1\", \"Topic1\", \"Topic1\", \"Topic1\", \"Topic1\", \"Topic1\", \"Topic1\", \"Topic1\", \"Topic1\", \"Topic1\", \"Topic1\", \"Topic1\", \"Topic1\", \"Topic1\", \"Topic1\", \"Topic1\", \"Topic1\", \"Topic1\", \"Topic1\", \"Topic1\", \"Topic1\", \"Topic1\", \"Topic1\", \"Topic1\", \"Topic1\", \"Topic1\", \"Topic1\", \"Topic1\", \"Topic2\", \"Topic2\", \"Topic2\", \"Topic2\", \"Topic2\", \"Topic2\", \"Topic2\", \"Topic2\", \"Topic2\", \"Topic2\", \"Topic2\", \"Topic2\", \"Topic2\", \"Topic2\", \"Topic2\", \"Topic2\", \"Topic2\", \"Topic2\", \"Topic2\", \"Topic2\", \"Topic2\", \"Topic2\", \"Topic2\", \"Topic2\", \"Topic2\", \"Topic2\", \"Topic2\", \"Topic2\", \"Topic2\", \"Topic2\", \"Topic2\", \"Topic2\", \"Topic2\", \"Topic2\", \"Topic2\", \"Topic2\", \"Topic2\", \"Topic2\", \"Topic2\", \"Topic2\", \"Topic2\", \"Topic2\", \"Topic2\", \"Topic2\", \"Topic2\", \"Topic2\", \"Topic2\", \"Topic2\", \"Topic2\", \"Topic2\", \"Topic2\", \"Topic2\", \"Topic2\", \"Topic2\", \"Topic2\", \"Topic2\", \"Topic2\", \"Topic2\", \"Topic2\", \"Topic2\", \"Topic2\", \"Topic2\", \"Topic2\", \"Topic2\", \"Topic2\", \"Topic2\", \"Topic2\", \"Topic3\", \"Topic3\", \"Topic3\", \"Topic3\", \"Topic3\", \"Topic3\", \"Topic3\", \"Topic3\", \"Topic3\", \"Topic3\", \"Topic3\", \"Topic3\", \"Topic3\", \"Topic3\", \"Topic3\", \"Topic3\", \"Topic3\", \"Topic3\", \"Topic3\", \"Topic3\", \"Topic3\", \"Topic3\", \"Topic3\", \"Topic3\", \"Topic3\", \"Topic3\", \"Topic3\", \"Topic3\", \"Topic3\", \"Topic3\", \"Topic3\", \"Topic3\", \"Topic3\", \"Topic3\", \"Topic3\", \"Topic3\", \"Topic3\", \"Topic3\", \"Topic3\", \"Topic3\", \"Topic3\", \"Topic3\", \"Topic3\", \"Topic3\", \"Topic3\", \"Topic3\", \"Topic3\", \"Topic3\", \"Topic3\", \"Topic3\", \"Topic3\", \"Topic3\", \"Topic3\", \"Topic3\", \"Topic3\", \"Topic3\", \"Topic3\", \"Topic3\", \"Topic3\", \"Topic3\", \"Topic4\", \"Topic4\", \"Topic4\", \"Topic4\", \"Topic4\", \"Topic4\", \"Topic4\", \"Topic4\", \"Topic4\", \"Topic4\", \"Topic4\", \"Topic4\", \"Topic4\", \"Topic4\", \"Topic4\", \"Topic4\", \"Topic4\", \"Topic4\", \"Topic4\", \"Topic4\", \"Topic4\", \"Topic4\", \"Topic4\", \"Topic4\", \"Topic4\", \"Topic4\", \"Topic4\", \"Topic4\", \"Topic4\", \"Topic4\", \"Topic4\", \"Topic4\", \"Topic4\", \"Topic4\", \"Topic4\", \"Topic4\", \"Topic4\", \"Topic4\", \"Topic4\", \"Topic4\", \"Topic4\", \"Topic4\", \"Topic4\", \"Topic4\", \"Topic4\", \"Topic4\", \"Topic4\", \"Topic4\", \"Topic4\", \"Topic4\", \"Topic4\", \"Topic5\", \"Topic5\", \"Topic5\", \"Topic5\", \"Topic5\", \"Topic5\", \"Topic5\", \"Topic5\", \"Topic5\", \"Topic5\", \"Topic5\", \"Topic5\", \"Topic5\", \"Topic5\", \"Topic5\", \"Topic5\", \"Topic5\", \"Topic5\", \"Topic5\", \"Topic5\", \"Topic5\", \"Topic5\", \"Topic5\", \"Topic5\", \"Topic5\", \"Topic5\", \"Topic5\", \"Topic5\", \"Topic5\", \"Topic5\", \"Topic5\", \"Topic5\", \"Topic5\", \"Topic5\", \"Topic5\", \"Topic5\", \"Topic5\", \"Topic5\", \"Topic5\", \"Topic5\", \"Topic5\", \"Topic5\", \"Topic5\", \"Topic5\", \"Topic5\", \"Topic5\", \"Topic5\", \"Topic5\", \"Topic6\", \"Topic6\", \"Topic6\", \"Topic6\", \"Topic6\", \"Topic6\", \"Topic6\", \"Topic6\", \"Topic6\", \"Topic6\", \"Topic6\", \"Topic6\", \"Topic6\", \"Topic6\", \"Topic6\", \"Topic6\", \"Topic6\", \"Topic6\", \"Topic6\", \"Topic6\", \"Topic6\", \"Topic6\", \"Topic6\", \"Topic6\", \"Topic6\", \"Topic6\", \"Topic6\", \"Topic6\", \"Topic6\", \"Topic6\", \"Topic6\", \"Topic6\", \"Topic6\", \"Topic6\", \"Topic6\", \"Topic6\", \"Topic6\", \"Topic6\", \"Topic6\", \"Topic6\", \"Topic6\", \"Topic6\", \"Topic6\", \"Topic6\", \"Topic6\", \"Topic6\", \"Topic6\", \"Topic6\", \"Topic6\", \"Topic6\", \"Topic6\", \"Topic6\", \"Topic6\", \"Topic6\", \"Topic7\", \"Topic7\", \"Topic7\", \"Topic7\", \"Topic7\", \"Topic7\", \"Topic7\", \"Topic7\", \"Topic7\", \"Topic7\", \"Topic7\", \"Topic7\", \"Topic7\", \"Topic7\", \"Topic7\", \"Topic7\", \"Topic7\", \"Topic7\", \"Topic7\", \"Topic7\", \"Topic7\", \"Topic7\", \"Topic7\", \"Topic7\", \"Topic7\", \"Topic7\", \"Topic7\", \"Topic7\", \"Topic7\", \"Topic7\", \"Topic7\", \"Topic7\", \"Topic7\", \"Topic7\", \"Topic7\", \"Topic7\", \"Topic7\", \"Topic7\", \"Topic7\", \"Topic7\", \"Topic7\", \"Topic7\", \"Topic7\", \"Topic7\", \"Topic7\", \"Topic7\", \"Topic7\", \"Topic7\", \"Topic7\", \"Topic7\", \"Topic7\", \"Topic7\", \"Topic7\", \"Topic7\", \"Topic7\", \"Topic7\", \"Topic8\", \"Topic8\", \"Topic8\", \"Topic8\", \"Topic8\", \"Topic8\", \"Topic8\", \"Topic8\", \"Topic8\", \"Topic8\", \"Topic8\", \"Topic8\", \"Topic8\", \"Topic8\", \"Topic8\", \"Topic8\", \"Topic8\", \"Topic8\", \"Topic8\", \"Topic8\", \"Topic8\", \"Topic8\", \"Topic8\", \"Topic8\", \"Topic8\", \"Topic8\", \"Topic8\", \"Topic8\", \"Topic8\", \"Topic8\", \"Topic9\", \"Topic9\", \"Topic9\", \"Topic9\", \"Topic9\", \"Topic9\", \"Topic9\", \"Topic9\", \"Topic9\", \"Topic9\", \"Topic9\", \"Topic9\", \"Topic9\", \"Topic9\", \"Topic9\", \"Topic9\", \"Topic9\", \"Topic9\", \"Topic9\", \"Topic9\", \"Topic9\", \"Topic9\", \"Topic9\", \"Topic9\", \"Topic9\", \"Topic9\", \"Topic9\", \"Topic9\", \"Topic9\", \"Topic9\", \"Topic9\", \"Topic9\", \"Topic9\", \"Topic9\", \"Topic9\", \"Topic9\", \"Topic9\", \"Topic9\", \"Topic9\", \"Topic9\", \"Topic9\", \"Topic9\", \"Topic9\", \"Topic10\", \"Topic10\", \"Topic10\", \"Topic10\", \"Topic10\", \"Topic10\", \"Topic10\", \"Topic10\", \"Topic10\", \"Topic10\", \"Topic10\", \"Topic10\", \"Topic10\", \"Topic10\", \"Topic10\", \"Topic10\", \"Topic10\", \"Topic10\", \"Topic10\", \"Topic10\", \"Topic10\", \"Topic10\", \"Topic10\", \"Topic10\", \"Topic10\", \"Topic10\", \"Topic10\", \"Topic10\", \"Topic10\", \"Topic10\", \"Topic10\", \"Topic10\", \"Topic10\", \"Topic10\", \"Topic10\", \"Topic10\", \"Topic10\", \"Topic10\", \"Topic10\", \"Topic10\", \"Topic10\", \"Topic10\", \"Topic10\", \"Topic10\", \"Topic10\", \"Topic10\", \"Topic10\", \"Topic10\", \"Topic11\", \"Topic11\", \"Topic11\", \"Topic11\", \"Topic11\", \"Topic11\", \"Topic11\", \"Topic11\", \"Topic11\", \"Topic11\", \"Topic11\", \"Topic11\", \"Topic11\", \"Topic11\", \"Topic11\", \"Topic11\", \"Topic11\", \"Topic11\", \"Topic11\", \"Topic11\", \"Topic11\", \"Topic11\", \"Topic11\", \"Topic11\", \"Topic11\", \"Topic11\", \"Topic11\", \"Topic11\", \"Topic11\", \"Topic11\", \"Topic11\", \"Topic11\", \"Topic11\", \"Topic11\", \"Topic11\", \"Topic11\", \"Topic11\", \"Topic11\", \"Topic11\", \"Topic11\", \"Topic11\", \"Topic11\", \"Topic11\", \"Topic11\", \"Topic11\", \"Topic12\", \"Topic12\", \"Topic12\", \"Topic12\", \"Topic12\", \"Topic12\", \"Topic12\", \"Topic12\", \"Topic12\", \"Topic12\", \"Topic12\", \"Topic12\", \"Topic12\", \"Topic12\", \"Topic12\", \"Topic12\", \"Topic12\", \"Topic12\", \"Topic12\", \"Topic12\", \"Topic12\", \"Topic12\", \"Topic12\", \"Topic12\", \"Topic12\", \"Topic12\", \"Topic12\", \"Topic12\", \"Topic12\", \"Topic12\", \"Topic12\", \"Topic12\", \"Topic12\", \"Topic12\", \"Topic12\", \"Topic12\", \"Topic12\", \"Topic12\", \"Topic12\", \"Topic12\", \"Topic12\", \"Topic12\", \"Topic13\", \"Topic13\", \"Topic13\", \"Topic13\", \"Topic13\", \"Topic13\", \"Topic13\", \"Topic13\", \"Topic13\", \"Topic13\", \"Topic13\", \"Topic13\", \"Topic13\", \"Topic13\", \"Topic13\", \"Topic13\", \"Topic13\", \"Topic13\", \"Topic13\", \"Topic13\", \"Topic13\", \"Topic13\", \"Topic13\", \"Topic13\", \"Topic13\", \"Topic13\", \"Topic13\", \"Topic13\", \"Topic13\", \"Topic13\", \"Topic13\", \"Topic13\", \"Topic13\", \"Topic13\", \"Topic13\", \"Topic13\", \"Topic13\", \"Topic13\", \"Topic13\", \"Topic13\", \"Topic13\", \"Topic13\", \"Topic13\", \"Topic13\", \"Topic13\", \"Topic13\", \"Topic13\", \"Topic14\", \"Topic14\", \"Topic14\", \"Topic14\", \"Topic14\", \"Topic14\", \"Topic14\", \"Topic14\", \"Topic14\", \"Topic14\", \"Topic14\", \"Topic14\", \"Topic14\", \"Topic14\", \"Topic14\", \"Topic14\", \"Topic14\", \"Topic14\", \"Topic14\", \"Topic14\", \"Topic14\", \"Topic14\", \"Topic14\", \"Topic14\", \"Topic14\", \"Topic14\", \"Topic14\", \"Topic14\", \"Topic14\", \"Topic14\", \"Topic14\", \"Topic14\", \"Topic14\", \"Topic14\", \"Topic14\", \"Topic14\", \"Topic14\", \"Topic14\", \"Topic14\", \"Topic14\", \"Topic14\", \"Topic14\", \"Topic14\", \"Topic14\", \"Topic14\", \"Topic14\", \"Topic15\", \"Topic15\", \"Topic15\", \"Topic15\", \"Topic15\", \"Topic15\", \"Topic15\", \"Topic15\", \"Topic15\", \"Topic15\", \"Topic15\", \"Topic15\", \"Topic15\", \"Topic15\", \"Topic15\", \"Topic15\", \"Topic15\", \"Topic15\", \"Topic15\", \"Topic15\", \"Topic15\", \"Topic15\", \"Topic15\", \"Topic15\", \"Topic15\", \"Topic15\", \"Topic15\", \"Topic15\", \"Topic15\", \"Topic15\", \"Topic15\", \"Topic15\", \"Topic15\", \"Topic15\", \"Topic15\", \"Topic15\", \"Topic15\", \"Topic15\", \"Topic15\", \"Topic15\", \"Topic16\", \"Topic16\", \"Topic16\", \"Topic16\", \"Topic16\", \"Topic16\", \"Topic16\", \"Topic16\", \"Topic16\", \"Topic16\", \"Topic16\", \"Topic16\", \"Topic16\", \"Topic16\", \"Topic16\", \"Topic16\", \"Topic16\", \"Topic16\", \"Topic16\", \"Topic16\", \"Topic16\", \"Topic16\", \"Topic16\", \"Topic16\", \"Topic16\", \"Topic16\", \"Topic16\", \"Topic16\", \"Topic16\", \"Topic16\", \"Topic16\", \"Topic16\", \"Topic16\", \"Topic16\", \"Topic16\", \"Topic16\", \"Topic16\", \"Topic16\", \"Topic16\", \"Topic16\", \"Topic16\", \"Topic16\", \"Topic16\", \"Topic16\", \"Topic16\", \"Topic17\", \"Topic17\", \"Topic17\", \"Topic17\", \"Topic17\", \"Topic17\", \"Topic17\", \"Topic17\", \"Topic17\", \"Topic17\", \"Topic17\", \"Topic17\", \"Topic17\", \"Topic17\", \"Topic17\", \"Topic17\", \"Topic17\", \"Topic17\", \"Topic17\", \"Topic17\", \"Topic17\", \"Topic17\", \"Topic17\", \"Topic17\", \"Topic17\", \"Topic17\", \"Topic17\", \"Topic17\", \"Topic17\", \"Topic17\", \"Topic17\", \"Topic17\", \"Topic17\", \"Topic17\", \"Topic17\", \"Topic17\", \"Topic17\", \"Topic17\", \"Topic17\", \"Topic17\", \"Topic17\", \"Topic17\", \"Topic17\", \"Topic17\", \"Topic18\", \"Topic18\", \"Topic18\", \"Topic18\", \"Topic18\", \"Topic18\", \"Topic18\", \"Topic18\", \"Topic18\", \"Topic18\", \"Topic18\", \"Topic18\", \"Topic18\", \"Topic18\", \"Topic18\", \"Topic18\", \"Topic18\", \"Topic18\", \"Topic18\", \"Topic18\", \"Topic18\", \"Topic18\", \"Topic18\", \"Topic18\", \"Topic18\", \"Topic18\", \"Topic18\", \"Topic18\", \"Topic18\", \"Topic18\", \"Topic18\", \"Topic18\", \"Topic18\", \"Topic18\", \"Topic18\", \"Topic18\", \"Topic18\", \"Topic18\", \"Topic18\", \"Topic18\", \"Topic18\", \"Topic18\", \"Topic18\", \"Topic18\", \"Topic18\", \"Topic19\", \"Topic19\", \"Topic19\", \"Topic19\", \"Topic19\", \"Topic19\", \"Topic19\", \"Topic19\", \"Topic19\", \"Topic19\", \"Topic19\", \"Topic19\", \"Topic19\", \"Topic19\", \"Topic19\", \"Topic19\", \"Topic19\", \"Topic19\", \"Topic19\", \"Topic19\", \"Topic19\", \"Topic19\", \"Topic19\", \"Topic19\", \"Topic19\", \"Topic19\", \"Topic19\", \"Topic19\", \"Topic19\", \"Topic19\", \"Topic19\", \"Topic19\", \"Topic20\", \"Topic20\", \"Topic20\", \"Topic20\", \"Topic20\", \"Topic20\", \"Topic20\", \"Topic20\", \"Topic20\", \"Topic20\", \"Topic20\", \"Topic20\", \"Topic20\", \"Topic20\", \"Topic20\", \"Topic20\", \"Topic20\", \"Topic20\", \"Topic20\", \"Topic20\", \"Topic20\", \"Topic20\", \"Topic20\", \"Topic20\", \"Topic20\", \"Topic20\", \"Topic20\", \"Topic20\", \"Topic20\", \"Topic20\", \"Topic20\", \"Topic20\", \"Topic20\", \"Topic20\", \"Topic20\", \"Topic20\"], \"Freq\": [57798.0, 12490.0, 11169.0, 16414.0, 4191.0, 9531.0, 10519.0, 6985.0, 11699.0, 2474.0, 4420.0, 7503.0, 8079.0, 5005.0, 4087.0, 1842.0, 7308.0, 5082.0, 6842.0, 5261.0, 2043.0, 3436.0, 4600.0, 5374.0, 5842.0, 2086.0, 3377.0, 1780.0, 1735.0, 1692.0, 1288.044438136543, 1285.9720643035043, 1169.8948708556381, 6979.855555244886, 1005.1962171248389, 948.4816598027588, 729.97941384492, 674.765690358255, 521.4535567555163, 517.2045073779252, 512.4112959114589, 467.09564536705693, 434.04596393061973, 402.05942802364257, 373.3318419239475, 370.5533608992081, 365.8910320536789, 354.2887642610945, 1972.9450394491535, 321.9073293899618, 317.77350485230465, 308.8447576093485, 305.27511380039806, 302.21599047289897, 1136.851023343774, 287.9060617172602, 284.064606706975, 281.2085275430631, 279.31944752326535, 270.94021055037825, 3084.263810433772, 5116.490339060973, 715.4609512542329, 14802.468505103467, 4039.0061853774723, 3144.892222378272, 3019.266939670232, 2357.4440411686437, 2792.8138648167887, 3379.2370156913207, 876.3077375987942, 833.8836392451682, 1187.5876205079048, 1992.2391465176183, 4772.723402983785, 2209.328373608324, 8112.036393405773, 4527.021152965037, 2508.5770914631607, 2874.522672112124, 2055.7756906130917, 4061.7980197648717, 8474.83024514335, 5787.095026268559, 2770.0507240408606, 5073.968528943111, 2024.8083273596071, 3764.485396580512, 2201.481336970513, 2677.326214642212, 2738.747179216027, 1789.0679794342252, 2339.0957588771485, 3739.0789331740475, 2598.6760716844046, 2369.1770192403883, 2242.687917561872, 4419.141330373699, 4086.063479546405, 877.6148216078898, 797.6558445763687, 762.2290691798262, 11154.761744876627, 611.171554647079, 590.9586494871415, 532.1433311176222, 503.0492625007972, 497.077740697021, 483.1566565845701, 460.6981448080741, 459.3629045746771, 422.0958707009276, 415.2662541277242, 394.7684767682257, 363.9530616016393, 349.77668182798715, 347.78855003508374, 344.12022752811805, 335.0686679392718, 331.4813212475314, 319.43676167975514, 312.966460378412, 311.5224214054594, 307.31557160921545, 304.47098664775456, 298.73590361389194, 289.9756234072802, 12433.936569087628, 4834.84029520077, 2266.3578869209477, 2583.3938010345973, 1753.4217979731357, 961.746286773242, 419.29411540178774, 2355.5746584486833, 585.8625395768626, 456.3174363836772, 509.0195406272005, 5169.915156204351, 2274.243384584908, 1685.6133642380414, 5791.551964728913, 2298.587378198058, 4194.944637066386, 774.4185353677046, 2321.88097106216, 743.9069756108732, 2538.4137567029447, 1879.3716924155244, 1978.936965126098, 927.6061750643232, 793.485665371589, 1987.9719422715398, 3018.7315833317634, 1271.8640273922279, 2233.856432419238, 2291.377040927102, 2406.8487471039994, 1424.9950537128143, 1312.6601614063154, 1266.2685159812204, 1188.8900590122976, 1608.0299903603059, 1190.1225790070746, 2085.2370185775735, 1369.3517524958468, 747.2330936282749, 634.9443912439074, 602.3056192223218, 411.5518103420147, 373.07931904205634, 366.3647655300705, 352.321526277953, 348.2244602330929, 334.5176781320588, 326.57997704773754, 267.9203917787383, 246.59811239198294, 242.26917139972562, 233.30648313079138, 222.2123155499445, 221.26055932131618, 216.6135917690143, 209.36283701398574, 200.208394203281, 198.17136625707718, 183.626222581657, 182.5110922462855, 180.07366875153915, 178.3238795510358, 175.10237523668707, 174.93456107994612, 172.25645689064575, 168.1549270092954, 492.21756976381573, 1072.0282696757813, 1048.190060164492, 310.4795698611873, 694.5050046874439, 1474.3081624517117, 608.4151787184168, 1670.701111322516, 687.4521242859513, 264.9947713391185, 1191.5032632694, 1003.2951943564103, 760.2242821189682, 974.4224467464464, 1490.165990902387, 824.2107119168555, 607.9672950776148, 1200.0777285413624, 785.6797594135991, 960.3130759998373, 590.6254608341734, 511.5906742617048, 668.2957501977819, 428.0100474750947, 741.998165846698, 609.0412041847719, 814.3553674081595, 613.9543267786275, 562.7621419025171, 608.9039941997764, 1734.123678991246, 1623.7457031747738, 734.3739171426296, 659.8214727404986, 558.6343655421007, 521.4762923575677, 496.58835646402156, 464.13381511321603, 400.6738621690184, 387.67691979649805, 308.56406999174004, 300.05184213586426, 298.72063890105346, 296.83060489801295, 287.3105056668018, 271.0448385884877, 260.1828504783931, 259.0377874312767, 251.62697402457314, 226.6011114018986, 217.29559628365212, 209.7741492943112, 197.26620290007187, 196.09675353616876, 195.23206808494322, 192.95791755346409, 182.69593647336356, 173.6672851350302, 172.85362415586363, 168.25556669258293, 235.22679620593377, 251.75907782421532, 692.1295505998028, 784.2974450300578, 789.6983602423666, 288.81518392598593, 754.4641991952117, 707.538830256817, 435.90015597111056, 586.8750770020434, 702.9637629032167, 465.14477849828654, 411.35408313481713, 361.07193105364445, 388.2412481805436, 421.96248316463647, 427.31578896405193, 404.0740653424363, 326.08873747329915, 362.1587723477846, 358.33409838401604, 1779.5653752294888, 1691.8286549739878, 967.6544074652573, 792.0016944006196, 656.6073291376633, 595.9328476536813, 525.8865685268187, 434.2361996934616, 421.5993804543005, 405.4078984096199, 354.0170828864136, 340.66821157252286, 333.3126600079707, 312.8250162222208, 296.470910161994, 283.1593464433478, 275.2555283307053, 259.06924968990404, 252.5683445953876, 251.4892830674881, 243.63802980500674, 234.87862925892335, 223.95405770994563, 215.053363449767, 202.22205629522153, 200.2705300010068, 199.6550552059198, 196.48904557082093, 195.13658658602841, 185.5190823207357, 1101.9787261121357, 979.15549106977, 379.6185266336104, 296.16760369984894, 1618.9663815370134, 352.53236349713717, 364.5724189527214, 312.6058753480677, 401.4695984611986, 328.5505086540096, 514.2425861428724, 787.093409779154, 488.52947361368456, 494.90537595842517, 362.4882863455555, 359.53349199501173, 315.02273742377616, 320.8743325462794, 1515.8734402577068, 550.6160067619663, 499.1319269086486, 457.0163993297453, 453.87442304520937, 398.1688554579203, 355.60961354483754, 299.8917669775067, 296.39992218210347, 295.44466707350205, 281.3620690983888, 277.4853459146583, 274.5134973242635, 272.22470613611125, 268.8172068066765, 259.2334906817814, 255.77473122354834, 250.47366576144694, 245.89147591494753, 245.0279434320832, 240.96028601803005, 229.03046677130365, 227.56684261635408, 225.81457835709762, 215.873331417508, 205.05522225623014, 204.79956589413777, 200.7325657007478, 200.45101972190017, 198.04154801042534, 356.75624997606616, 495.95950420436736, 463.47823515072116, 395.62859596383396, 401.53429201689994, 524.6551731481673, 434.42289734136443, 591.8025978070567, 563.3601674875256, 1108.6092394874472, 944.4099416695253, 617.0389638703743, 713.6818840645234, 473.0371244855181, 517.4546661654986, 610.1536187885379, 359.29110706247565, 323.5526949515412, 401.7553325607183, 395.01647844377544, 350.86329122400264, 379.8861981814907, 323.84622005409375, 372.22617307735607, 1283.4784558602125, 553.2673658224594, 536.0724985547865, 528.0989848888194, 404.24641526625294, 357.2383826002072, 354.894014400323, 335.8552463486532, 273.6955591538268, 257.5007273733299, 249.06403583632698, 242.6043468590499, 239.81733086929054, 238.15291639973088, 230.35014222276993, 227.34824888558285, 224.6479820991754, 222.296982749766, 218.60845964203105, 214.99891149847647, 214.59794862728606, 214.0873446903999, 207.47967664854588, 198.93895046188425, 185.26623154953816, 176.38375122807062, 176.14636898696781, 174.40054032512674, 172.86415109963318, 169.2881635101131, 301.4388904994788, 440.1240646832021, 245.77999021223005, 1371.2699783651349, 725.7154729692412, 270.6389706003831, 372.34547299561876, 746.1827541135333, 945.4787846905657, 573.8555662691105, 303.19300198421996, 897.871134023197, 1001.6940848986021, 473.83261314210705, 526.4153611962192, 477.95146903478854, 369.6963680992134, 403.7315934772009, 307.60578205297116, 357.50743931507594, 718.4626569119629, 418.6329061057295, 408.53633784510237, 330.98800934501224, 315.0768089833267, 304.84934629663536, 57797.65711723247, 4190.542682412703, 547.4547440324905, 232.68885905443022, 162.2555186780682, 154.01058896798, 149.46976503942497, 141.02432003982284, 132.4109225681262, 129.80341579693274, 124.20482919238012, 121.91426324627176, 120.56677206273314, 118.8287829503697, 107.94832640446914, 98.66547981536485, 87.62261408335293, 73.7762545544664, 70.47838491876793, 68.08346541001447, 67.37032338181446, 62.72634103573523, 61.21484915266709, 55.670411631738716, 53.01883160335299, 49.81369048052586, 48.72721318603807, 47.287615607416626, 47.153485635464435, 46.104499749080205, 742.9877383896431, 724.4784027033419, 588.6408437476479, 547.7300704318756, 474.1567140689319, 435.6341827415645, 418.043011559036, 375.3055230714694, 373.65265652623, 339.054172241199, 326.87221772355167, 314.02203114715013, 311.6629689633499, 310.5803404625758, 309.588310075623, 304.66685104478773, 258.6855828239594, 255.13873248803014, 245.80784569261425, 238.47888628557723, 228.13614501636627, 226.60197916483293, 221.41637938772126, 220.76638377531086, 219.3774668057418, 209.7695903639278, 188.05507948743147, 183.45208411709885, 181.19129328233205, 179.2618547464585, 611.2452911178511, 686.2893528828545, 636.0783035832268, 264.8170246830589, 275.82538902505564, 544.8872089794547, 251.65097603773077, 413.3332018123632, 285.3380735904769, 359.8928370783425, 327.2609779999217, 331.35617652242286, 285.77230122497775, 641.1581827068555, 560.576933217652, 494.77061120164507, 420.8994660461257, 368.4683598799771, 362.5305303280413, 304.22572741833187, 281.1370654372999, 270.66315047644605, 269.0356398137455, 266.8350524234285, 232.99718418624883, 223.03537066252963, 213.55192787414228, 209.07174257484587, 203.53412155712599, 193.48240742117787, 185.9026178834854, 172.09324270250045, 168.5435915220904, 160.6413181003532, 159.33153246577993, 158.9121415618835, 158.58101995952828, 156.55617356785166, 156.46935204520074, 151.57776678835467, 149.98870574046305, 145.90005575459173, 139.52180906383728, 983.3222532900388, 244.61674934869956, 635.0253867931516, 251.67440064571738, 483.76011012767566, 297.9919823301033, 439.16998220728476, 319.6879183431104, 194.78089426254638, 300.86695402700644, 327.4171960991059, 686.3713011648903, 455.96163394307376, 395.4442278934455, 341.3649764160939, 316.01874968062907, 249.99751037209012, 222.04759681152362, 2473.3553537487837, 888.5762386691155, 622.1981886975534, 601.5145203672445, 570.0466387923514, 416.5050424690813, 383.68735837410804, 366.4531263720452, 361.98191931318286, 345.6062220920395, 292.7494448513818, 264.6657281735684, 262.5509768899609, 261.9932962366767, 244.52602478992367, 243.86817323308625, 240.75917014736626, 234.2609529821225, 211.27304956618488, 207.3667734452976, 193.62242446037467, 193.60215233987645, 190.50441948064488, 183.86510319297358, 181.22998877241332, 181.1187071311558, 177.28886627921855, 173.0398601121988, 165.91780644755627, 165.72104638143438, 684.4207040364242, 331.8154638879188, 537.0877558921177, 197.15742265630251, 402.4665597987029, 383.05813635302434, 668.4288564008265, 527.3644765814571, 209.30926526300857, 495.54064586297835, 345.0464400410416, 309.44914476377977, 348.8649030382383, 257.84262798811903, 243.65290211229845, 1463.4319587509028, 689.289287783869, 389.973894091337, 382.5708728751919, 358.6245921480942, 314.40373962378646, 307.88806590370575, 307.05210512180633, 278.0542607715172, 244.83277072551817, 242.57612615508964, 235.74211095330352, 234.88687853771907, 233.9846297874152, 231.687855965402, 226.02254795410562, 222.75793313397227, 219.79856656919185, 217.77868828262768, 215.7937493748613, 195.10236187807914, 174.43322299253452, 170.11681030085285, 169.7014302247872, 157.08458385901307, 155.45275207566954, 149.24993094307942, 147.25482652382576, 142.9592803861998, 141.8233766558379, 282.055420211442, 285.1639106031252, 479.78634464804264, 227.75362161808653, 321.48009783922316, 222.50345246314396, 367.70702621663486, 257.27758333812676, 369.70908285432387, 302.1810621092679, 268.4382141192729, 266.4879109983984, 1421.489513214545, 462.945289034913, 456.99210264849086, 403.48064898897684, 399.8139426075155, 396.5327686160776, 350.5948080247942, 319.5060830818779, 305.89457769248594, 223.36257391890243, 220.00878900664583, 213.8711454894383, 203.16007842987196, 195.98710204532668, 181.95260508401233, 181.15768122262048, 177.92319987420015, 170.3664463659789, 165.65785607382128, 159.49331608419297, 153.6017980571588, 151.34042629202474, 146.98561593147562, 146.3146439454137, 145.52055738647834, 141.23480443325886, 139.39649534905752, 135.7664674544608, 133.47642264735478, 125.52836452540446, 158.94522908969898, 386.65595702694424, 223.6287231091991, 332.7139383227791, 178.39259984698393, 287.5977414726236, 192.5272951164391, 387.27306746368583, 240.60171301996763, 187.4912543546783, 183.08054230239088, 180.9781485767041, 262.1494933479048, 194.74005606363505, 190.32813981742274, 195.85251810068914, 201.52550239535955, 1178.9570691962456, 729.528375359501, 553.6010670437821, 409.14231548826905, 328.64686525711323, 325.8651731219632, 320.6930848923, 304.71469424863614, 281.23730339117884, 261.6793930516731, 260.67343695214373, 257.22856171058714, 246.40988436961206, 230.036940063869, 224.64378856150893, 221.72988585605566, 193.6844854640453, 168.32146326873433, 162.60152515410883, 160.57113343889995, 154.07283028735688, 153.43138548775855, 147.91519305150103, 145.9233996596456, 142.7903209141385, 136.52473503263013, 134.50258321112923, 128.11121254653625, 125.6459782437011, 124.85059146833295, 1672.4947200929314, 515.7122525661524, 448.5705867448076, 378.62697069066223, 317.52769080212533, 427.32852936215875, 497.0576942874435, 313.97805432805006, 297.20302485573995, 334.74623187167686, 313.4875238637584, 277.70442787852113, 239.04744700074534, 311.9547388393529, 245.4467155203759, 230.4350137182434, 455.6567426366755, 418.3500146859122, 387.4141625550087, 304.60623149897145, 288.7814979557442, 279.2767070477945, 258.3897724811354, 257.33596169150997, 246.5011359235899, 227.4336973852368, 226.31425891543316, 226.00244455840152, 218.26267884184793, 216.0404827337155, 213.06056584148854, 206.17362831120667, 203.89896292229486, 198.18718364295978, 190.0509303303297, 180.5640213939321, 169.8854080883746, 167.1753407892303, 165.89057854047925, 161.70592028047847, 160.88476783428038, 159.30003030266153, 154.59484585966686, 147.6358317405443, 147.42657401548175, 143.63321638320312, 288.9035896351755, 288.5442930614481, 225.20574791789522, 256.39472766850776, 310.23357607732345, 358.07531491689093, 219.27103707709477, 461.5877905315143, 260.7333207773432, 190.13259940341064, 1841.808128922882, 376.6936646971583, 312.40904190485793, 282.0392770996026, 271.8980925516597, 267.8534729240032, 264.90615959408655, 259.592602894874, 227.02518918921263, 204.65391448730648, 198.53439931956436, 176.96990893600554, 168.64036295056502, 164.49839643508366, 158.2553687797553, 144.8291943741407, 137.54231818516968, 124.26845398963623, 106.35956343199007, 106.06521707695302, 104.15087196727893, 102.86614123692357, 98.55565284698376, 98.51447811357812, 98.42147385609549, 96.85166130006523, 96.05229031140519, 92.54164366613628, 92.05865633049207, 85.67945944274899, 368.112204748485, 399.9160146347314, 301.7228225812979, 212.1120868947103, 171.26329703180156, 263.25358667379595, 391.0299198983132, 131.9490020722746, 199.81912599370673, 289.3766454581363, 180.7167929137148, 166.03750730687878, 164.78644784688706, 144.37083427476202, 146.32572816585588, 775.9396685944076, 521.4175284492909, 431.8720404124176, 355.5186541988131, 350.89555072362117, 335.9984699670524, 317.5679133113528, 301.15255059477136, 261.47853267090005, 259.6270099506325, 212.6649203402492, 208.05207188221416, 189.14964545646782, 178.05172681915192, 165.4032455341331, 157.26304931535927, 137.69828177085154, 136.58762916862074, 134.9163321513743, 133.02360394068026, 124.15284745559934, 118.79028570827408, 118.57337830589562, 114.3849972061302, 109.58986008333835, 107.22924778513533, 104.19080792546437, 101.3371764351892, 97.95387862131699, 97.93814561646631, 299.45372724967785, 448.6480755378148, 186.47352274858304, 532.4472189887414, 233.631139235394, 456.43529784915563, 312.60660604357537, 241.2642199604034, 197.405648833199, 191.633692106675, 173.102850027609, 179.92197867354486, 143.1217421027127, 143.98514489726972, 943.1165133021348, 258.64918101823395, 239.32561006885274, 239.15264218999914, 232.52424251489361, 206.0044415171779, 199.95863958502724, 172.79190058709517, 171.1801471253516, 167.20686006749972, 151.87338686570342, 151.56831609781452, 148.79096246437683, 144.76594271876098, 136.14847763581517, 120.92284191844047, 115.92416608897766, 114.96992676759027, 114.72714175369215, 114.35420641844053, 110.90770203009953, 108.75791536897283, 107.20706737271409, 106.3648534008467, 102.95416218465186, 102.95253727651716, 101.62131508347612, 101.018107258737, 96.75766711586112, 96.37815778010712, 142.7291955187877, 251.27651403003196, 178.9600953219857, 200.428665896097, 221.20923210452435, 370.12510613971176, 158.61779652953834, 297.5069583532965, 181.66496133416288, 122.27566427230204, 245.46384306033963, 147.93219781539435, 124.02083013850856, 131.3704413729905, 133.31338944537916, 956.9106946974766, 575.1782901673714, 453.45810500125106, 339.3436949240738, 304.2143402838793, 148.78550142534522, 138.6086013944313, 137.5459469612534, 129.12986162085394, 107.87613902165108, 106.84142379331676, 106.4717887826967, 104.7767854098222, 101.05451160046489, 96.41477781260791, 86.44911125119651, 84.33245870086387, 78.66838397406978, 76.20675584941065, 75.40720498934509, 73.6461443592516, 64.69177913126612, 62.78916895661621, 60.899229959571144, 60.588927277718334, 60.02028574709268, 59.85946690926612, 58.33631378413471, 56.08926851869522, 55.33167480724256, 401.0259428152059, 75.62537355147622, 293.01184417459035, 268.6539021109687, 251.90273432905397, 234.13225420742577, 227.59443377681302, 221.55630629335494, 214.41418719703165, 190.95361770085492, 187.93840942412004, 171.23052185243546, 170.4304156909397, 161.14845902388097, 160.3552088833081, 159.17367018377564, 147.28847663715058, 122.12572180509835, 120.75016160045014, 114.56507901213173, 105.1099783284447, 102.60178452056682, 98.78211517233932, 89.95993711179321, 78.56849845141788, 78.0780752695215, 77.0487055603069, 76.82096894105601, 76.68422971628863, 76.20351417248959, 65.92784664470805, 65.3695651818404, 212.70131419133176, 100.13839524204732, 119.9874509602281, 111.54074208837861, 83.69689316505476, 79.01133435453447], \"Term\": [\"ax\", \"line\", \"organization\", \"not\", \"max\", \"write\", \"do\", \"say\", \"would\", \"window\", \"nntp_post\", \"article\", \"be\", \"university\", \"host\", \"space\", \"know\", \"people\", \"get\", \"think\", \"drive\", \"year\", \"use\", \"good\", \"go\", \"mail\", \"system\", \"game\", \"christian\", \"team\", \"happen\", \"talk\", \"feel\", \"say\", \"mr_stephanopoulo\", \"nothing\", \"whole\", \"truth\", \"rise\", \"city\", \"everyone\", \"food\", \"doubt\", \"judge\", \"suffer\", \"genocide\", \"bus\", \"specifically\", \"never\", \"convince\", \"hate\", \"obviously\", \"happy\", \"teach\", \"that\", \"msg\", \"girl\", \"folk\", \"alone\", \"moment\", \"even\", \"think\", \"mind\", \"not\", \"see\", \"take\", \"thing\", \"tell\", \"way\", \"s\", \"wrong\", \"perhaps\", \"enough\", \"something\", \"go\", \"point\", \"do\", \"make\", \"well\", \"come\", \"day\", \"people\", \"would\", \"be\", \"give\", \"know\", \"can\", \"time\", \"many\", \"could\", \"may\", \"mean\", \"want\", \"write\", \"good\", \"get\", \"article\", \"nntp_post\", \"host\", \"driver\", \"color\", \"speed\", \"organization\", \"wonder\", \"anybody\", \"monitor\", \"appreciate\", \"fine\", \"disclaimer\", \"hd\", \"ram\", \"performance\", \"mine\", \"font\", \"vlb\", \"scsi\", \"clipper\", \"tom\", \"michael\", \"engineering\", \"dave\", \"pin\", \"command\", \"unix\", \"meg\", \"slow\", \"ago\", \"line\", \"university\", \"thank\", \"anyone\", \"card\", \"keyword\", \"worth\", \"reply\", \"distribution_usa\", \"mike\", \"peter\", \"article\", \"problem\", \"help\", \"write\", \"need\", \"get\", \"distribution_world\", \"work\", \"david\", \"use\", \"new\", \"look\", \"buy\", \"usa\", \"good\", \"would\", \"run\", \"know\", \"be\", \"do\", \"also\", \"want\", \"system\", \"try\", \"not\", \"time\", \"mail\", \"software\", \"format\", \"package\", \"faq\", \"mit\", \"motif\", \"update\", \"select\", \"location\", \"upgrade\", \"min\", \"ftp\", \"mailing_list\", \"brave\", \"programming\", \"management\", \"jpeg\", \"misc\", \"cpu\", \"copyright\", \"ftp_site\", \"sunday\", \"adapter\", \"procedure\", \"index\", \"routine\", \"vat\", \"linux\", \"polygon\", \"site\", \"image\", \"address\", \"archive\", \"network\", \"available\", \"sun\", \"file\", \"fax\", \"usenet\", \"send\", \"email\", \"internet\", \"list\", \"information\", \"source\", \"user\", \"include\", \"version\", \"program\", \"page\", \"access\", \"info\", \"newsgroup\", \"post\", \"support\", \"also\", \"group\", \"name\", \"system\", \"christian\", \"god\", \"religion\", \"bible\", \"belief\", \"faith\", \"church\", \"spank\", \"homeopathy\", \"lord\", \"atheist\", \"verse\", \"christ\", \"reality\", \"punishment\", \"existence\", \"nature\", \"christianity\", \"scripture\", \"sin\", \"century\", \"passage\", \"homeopathic\", \"soul\", \"tradition\", \"satan\", \"feeling\", \"absolute\", \"speaker\", \"punish\", \"principle\", \"religious\", \"exist\", \"word\", \"book\", \"father\", \"law\", \"life\", \"accept\", \"man\", \"believe\", \"love\", \"die\", \"evidence\", \"view\", \"claim\", \"world\", \"true\", \"death\", \"follow\", \"question\", \"game\", \"team\", \"player\", \"hockey\", \"season\", \"hit\", \"nhl\", \"fan\", \"score\", \"league\", \"hawk\", \"chicago\", \"baseball\", \"star\", \"smith\", \"health\", \"sport\", \"vancouver\", \"club\", \"devil\", \"playoff\", \"stat\", \"shot\", \"coach\", \"hug\", \"defenseman\", \"hockey_league\", \"islam\", \"round\", \"cup\", \"play\", \"win\", \"division\", \"ice\", \"year\", \"black\", \"pick\", \"blue\", \"canada\", \"final\", \"last\", \"good\", \"first\", \"go\", \"second\", \"run\", \"guy\", \"lose\", \"key\", \"encryption\", \"wiretap\", \"language\", \"law_enforcement\", \"directory\", \"algorithm\", \"auto\", \"jim\", \"pub\", \"magazine\", \"discipline\", \"encrypt\", \"secure\", \"traffic\", \"secret\", \"proposal\", \"proper\", \"privacy\", \"doc\", \"crypto\", \"ensure\", \"tap\", \"analysis\", \"nsa\", \"regular\", \"implement\", \"editor\", \"credit\", \"expand\", \"block\", \"rate\", \"function\", \"agency\", \"security\", \"contain\", \"method\", \"technology\", \"standard\", \"use\", \"system\", \"provide\", \"information\", \"datum\", \"bit\", \"new\", \"device\", \"unit\", \"message\", \"part\", \"public\", \"need\", \"design\", \"may\", \"gun\", \"police\", \"criminal\", \"tax\", \"crime\", \"weapon\", \"fbi\", \"pray\", \"congress\", \"freedom\", \"michigan\", \"administration\", \"permit\", \"court\", \"coverage\", \"federal\", \"limbaugh\", \"constitution\", \"terrorist\", \"illegal\", \"astronomy\", \"officer\", \"minority\", \"cop\", \"britain\", \"dare\", \"colorado\", \"hunt\", \"health_care\", \"ban\", \"morning\", \"military\", \"ad\", \"government\", \"country\", \"citizen\", \"building\", \"american\", \"law\", \"public\", \"private\", \"state\", \"right\", \"money\", \"pay\", \"national\", \"carry\", \"fire\", \"vote\", \"protect\", \"people\", \"issue\", \"kill\", \"bill\", \"support\", \"free\", \"ax\", \"max\", \"hour\", \"probe\", \"rating\", \"rat\", \"centris\", \"sweep\", \"patch\", \"qax\", \"postscript\", \"monochrome\", \"mb\", \"ps\", \"mainframe\", \"portion\", \"respectively\", \"toronto_zoology\", \"uucp_uunet\", \"beast\", \"scene\", \"virtual\", \"disc\", \"fashion\", \"oregon\", \"chemistry\", \"biz\", \"dave_medin\", \"virtual_reality\", \"pmfq\", \"wire\", \"study\", \"drug\", \"obvious\", \"text\", \"normal\", \"connect\", \"wiring\", \"air\", \"clipper_chip\", \"doctor\", \"medical\", \"case_western\", \"distribution_na\", \"outlet\", \"reserve_university\", \"jame\", \"translation\", \"posting\", \"medicine\", \"disease\", \"ignore\", \"patient\", \"cleveland_ohio\", \"pat\", \"demonstrate\", \"role\", \"gps\", \"economic\", \"newsletter\", \"ground\", \"kid\", \"cover\", \"hall\", \"neutral\", \"level\", \"quickly\", \"effect\", \"approach\", \"research\", \"control\", \"high\", \"job\", \"israel\", \"war\", \"israeli\", \"arab\", \"committee\", \"arrest\", \"mcgill\", \"chief\", \"firearm\", \"trial\", \"meeting\", \"central\", \"partition\", \"justice\", \"lebanon\", \"palestinian\", \"ohio\", \"newspaper\", \"yesterday\", \"policy_research\", \"israelis\", \"temple\", \"iran\", \"czar\", \"february\", \"senate\", \"servant\", \"literature\", \"floor\", \"joseph\", \"president\", \"border\", \"report\", \"german\", \"house\", \"march\", \"member\", \"medium\", \"association\", \"jew\", \"quote\", \"state\", \"center\", \"child\", \"page\", \"kill\", \"april\", \"group\", \"window\", \"graphic\", \"goal\", \"display\", \"screen\", \"canadian\", \"xfree\", \"laptop\", \"tank\", \"client\", \"gif\", \"serial\", \"draft\", \"professional\", \"widget\", \"resolution\", \"ohio_state\", \"keyboard\", \"terminal\", \"ott\", \"xterm\", \"tel\", \"hi\", \"timeout\", \"capital\", \"montreal\", \"mont_pierce\", \"thanx\", \"zip\", \"menu\", \"application\", \"san_jose\", \"server\", \"install\", \"error\", \"memory\", \"run\", \"program\", \"resource\", \"use\", \"set\", \"version\", \"file\", \"code\", \"win\", \"car\", \"bike\", \"door\", \"engine\", \"mile\", \"ride\", \"insurance\", \"dod\", \"spanking\", \"motorcycle\", \"printer\", \"dog\", \"eric\", \"john\", \"rear\", \"summer\", \"surface\", \"dollar\", \"brake\", \"apartment\", \"green\", \"compatible\", \"clean\", \"duke\", \"plane\", \"rid\", \"depth\", \"tire\", \"own\", \"knuckle\", \"dealer\", \"water\", \"road\", \"vehicle\", \"hang\", \"band\", \"light\", \"owner\", \"drive\", \"price\", \"turn\", \"buy\", \"armenian\", \"matthew\", \"jewish\", \"turk\", \"turkish\", \"muslim\", \"serdar_argic\", \"dream\", \"witness\", \"sumgait\", \"turkey\", \"azerbaijani\", \"consideration\", \"village\", \"ham\", \"armenia\", \"spell\", \"massacre\", \"blindly\", \"pool\", \"regardless\", \"crowd\", \"magic\", \"mutlu\", \"compromise\", \"david_davidian\", \"assign\", \"estimating_wiretap\", \"captain\", \"butcher\", \"vay\", \"greek\", \"neighbor\", \"attack\", \"yalanci\", \"land\", \"somebody\", \"kill\", \"lie\", \"soldier\", \"account\", \"blood\", \"people\", \"woman\", \"history\", \"today\", \"man\", \"sale\", \"contact\", \"cable\", \"apple\", \"tape\", \"battery\", \"count\", \"controller\", \"ide\", \"purchase\", \"wave\", \"hard_drive\", \"excellent\", \"audio\", \"signal\", \"mount\", \"tm\", \"metal\", \"voltage\", \"battery_charger\", \"cd\", \"best_offer\", \"predict\", \"lunar\", \"kit\", \"brand\", \"gene\", \"receiver\", \"external\", \"cheer\", \"drive\", \"mac\", \"disk\", \"model\", \"instal\", \"sell\", \"price\", \"video\", \"memory\", \"offer\", \"box\", \"device\", \"pc\", \"system\", \"old\", \"include\", \"circuit\", \"launch\", \"oil\", \"mon\", \"illinois\", \"california\", \"plug\", \"sci\", \"motor\", \"volt\", \"cal\", \"weekend\", \"chi\", \"nyi\", \"utility\", \"stl\", \"brown\", \"ranger\", \"buffalo\", \"timer\", \"roger\", \"amp\", \"urbana\", \"anger\", \"phil\", \"friday\", \"alan\", \"pm\", \"cold\", \"jason\", \"hot\", \"tv\", \"wall\", \"schedule\", \"switch\", \"king\", \"fly\", \"power\", \"short\", \"pain\", \"space\", \"russian\", \"satellite\", \"orbit\", \"nasa\", \"flight\", \"rocket\", \"moon\", \"spacecraft\", \"specify\", \"aerospace\", \"miller\", \"mar\", \"toss\", \"russia\", \"counter\", \"soviet\", \"pennsylvania\", \"naval\", \"shuttle\", \"giant\", \"upenn\", \"vms_vnews\", \"alaska\", \"centaur\", \"solar\", \"payload\", \"amateur\", \"ariane\", \"venus\", \"earth\", \"science\", \"project\", \"international\", \"technical\", \"cost\", \"year\", \"facility\", \"research\", \"first\", \"build\", \"center\", \"news\", \"office\", \"base\", \"com\", \"computer_science\", \"pittsburgh\", \"gordon_bank\", \"ibm\", \"mouse\", \"manual\", \"originator\", \"mhz\", \"supply\", \"description\", \"pressure\", \"corp\", \"jeff\", \"shipping\", \"edition\", \"finland\", \"surrender\", \"emergency\", \"inch\", \"kevin\", \"rochester\", \"suit\", \"syndrome\", \"irq\", \"opinions_express\", \"ltd\", \"larry\", \"clip\", \"sgi\", \"port\", \"brian\", \"item\", \"inc\", \"corporation\", \"ca\", \"advance\", \"paper\", \"picture\", \"univ\", \"radio\", \"soon\", \"search\", \"reply\", \"chip\", \"gay\", \"marriage\", \"sex\", \"homosexual\", \"estimate\", \"animal\", \"marry\", \"behavior\", \"understanding\", \"slap\", \"multi\", \"tomorrow\", \"painful\", \"undo\", \"please\", \"dan\", \"seizure\", \"virginia\", \"keith\", \"sea\", \"homosexuality\", \"laughter\", \"ken\", \"window_manager\", \"onur_yalcin\", \"ignorant\", \"england\", \"fancy\", \"expose\", \"objective\", \"burn\", \"husband\", \"table\", \"moral\", \"value\", \"natural\", \"man\", \"prove\", \"root\", \"system\", \"science\", \"relate\", \"human\", \"number\", \"_\", \"gd\", \"zoroastrian\", \"eg\", \"cylinder\", \"cooling_tower\", \"chong\", \"yik\", \"veda\", \"fp\", \"stanford\", \"biological\", \"zoroaster\", \"shk\", \"gq\", \"cc\", \"eeg\", \"ep\", \"rpi\", \"governor\", \"ai\", \"amanda_walker\", \"iq\", \"fifo\", \"bhj_bhj\", \"sed\", \"phil_fraer\", \"jt\", \"vedic\", \"accounting\", \"cubs_suck\", \"md\", \"mission\", \"boston\", \"wing\", \"pit\", \"detroit\", \"nyr\", \"la\", \"bos\", \"tor\", \"det\", \"phi\", \"km\", \"edm\", \"pt\", \"buf\", \"membership\", \"comet\", \"cec\", \"dalla\", \"ease\", \"new_jersey\", \"legend\", \"t\", \"jupiter\", \"toronto\", \"equation\", \"eastern\", \"kg\", \"tue\", \"adult\", \"van\", \"pts_pt\", \"april\", \"vote\", \"robert\", \"ahl\"], \"Total\": [57798.0, 12490.0, 11169.0, 16414.0, 4191.0, 9531.0, 10519.0, 6985.0, 11699.0, 2474.0, 4420.0, 7503.0, 8079.0, 5005.0, 4087.0, 1842.0, 7308.0, 5082.0, 6842.0, 5261.0, 2043.0, 3436.0, 4600.0, 5374.0, 5842.0, 2086.0, 3377.0, 1780.0, 1735.0, 1692.0, 1289.0098084907827, 1286.9374335015511, 1170.8602400547966, 6985.617937697904, 1006.1615867505318, 949.4470289988186, 730.9447830467298, 675.7310595522875, 522.4189259628571, 518.1701559877339, 513.3766651026876, 468.0610145615165, 435.01133313010337, 403.02479722575055, 374.2972111239718, 371.5187301119157, 366.8564012663278, 355.25413346682507, 1978.607501920654, 322.872698583275, 318.738874058815, 309.81012680468507, 306.2428065459874, 303.1813596803036, 1140.6521519778187, 288.87143090836105, 285.02997590712033, 282.17389673983797, 280.2848607558215, 271.9055797458229, 3136.7721200602014, 5261.010107770368, 721.8509842939682, 16414.704039608456, 4418.584776848657, 3424.9016872007696, 3287.6061038481644, 2571.9832094205935, 3079.817771325516, 3769.336725329315, 921.7088049543454, 878.08974347895, 1285.0954543466912, 2251.7018712415156, 5842.861657529944, 2532.716256658949, 10519.801496833454, 5638.401569622024, 2952.0312511854, 3439.6765597361714, 2377.825461453263, 5082.793372878783, 11699.453299588919, 8079.388423861072, 3464.7271499866106, 7308.741317686596, 2442.1390940265355, 5346.171072152572, 2735.0645713380804, 3681.6073150718503, 4405.972760127973, 2224.7167878914443, 3652.672276607909, 9531.54735909186, 5374.7573218613325, 6842.560629016854, 7503.1936943437595, 4420.104478549208, 4087.026627725602, 878.5779697825327, 798.6189927491823, 763.1922173505678, 11169.52194564934, 612.1347028285019, 591.9217976655093, 533.1064792881469, 504.01241067441504, 498.04088887878845, 484.11980476106373, 461.66129300329686, 460.32605274684056, 423.05901887628335, 416.2294023118693, 395.7316249414365, 364.91620977493756, 350.7398299919059, 348.7516982179906, 345.0833757124494, 336.03181611453215, 332.44446942180355, 320.3999098578484, 313.9296085503833, 312.48556958902765, 308.2787197824217, 305.4341348205121, 299.6990517859791, 290.9387715877114, 12490.918332101293, 5005.867556251612, 2320.8078865737652, 2750.7621501502895, 1870.243222744817, 1006.6105189746773, 424.47485423893113, 2617.2749501458056, 606.1556814325234, 470.59358129812153, 533.2322983098725, 7503.1936943437595, 2969.3452797741397, 2165.5002933503565, 9531.54735909186, 3252.043357841155, 6842.560629016854, 897.0904626833404, 3585.881879970356, 865.0237969426845, 4600.764300138908, 3105.650271057102, 3419.1562691513377, 1195.0096365765278, 973.7309159799976, 5374.7573218613325, 11699.453299588919, 2471.5729647220714, 7308.741317686596, 8079.388423861072, 10519.801496833454, 4523.6107996929595, 3652.672276607909, 3377.7530718510125, 3067.3139764526277, 16414.704039608456, 5346.171072152572, 2086.188982150685, 1370.303716061777, 748.1850571978005, 635.8963548144701, 603.2575827900046, 412.50377390690875, 374.03128260551944, 367.3167291035354, 353.2734898595226, 349.17642382190445, 335.4696417002285, 327.53194071617907, 268.87235533827385, 247.55007596158592, 243.22113498904528, 234.2584466961678, 223.16427912207692, 222.21252288294687, 217.56555534236188, 210.31480057861876, 201.16035777153945, 199.1233298290445, 184.57818617952884, 183.46305582119533, 181.02563234741305, 179.27584313372546, 176.05433880796886, 175.88652473365696, 173.20842045813424, 169.1068905699812, 497.431967658598, 1103.7012817310942, 1086.3611654280526, 314.9978244409608, 725.2643257639794, 1700.4778706252469, 663.5366002275828, 2020.4608509264995, 769.7152269782182, 274.7825073491398, 1505.0553175930238, 1299.1412393507526, 946.9435774582212, 1278.3028464532038, 2262.96224662307, 1098.9384030137126, 768.5584117026292, 1860.1980902137143, 1128.0773189190586, 1689.2624226891996, 932.8954094805634, 722.6913551568033, 1351.7142217223968, 547.3614464149773, 2604.1104554987037, 1697.1047196073102, 4523.6107996929595, 1937.7616661248035, 1515.0697303141299, 3377.7530718510125, 1735.0912312191108, 1624.7132554008276, 735.3414693705121, 660.7890249661668, 559.60191777017, 522.4438445861902, 497.5559086910834, 465.1013676312353, 401.641414519247, 388.6444720235666, 309.53162221532193, 301.0193943630783, 299.6881911250595, 297.798157153936, 288.27805791323186, 272.0123908164239, 261.150402710384, 260.00533965446664, 252.59452624741968, 227.56866362656493, 218.26314852085105, 210.74170152271097, 198.2337554775363, 197.06430577080812, 196.19962033411323, 193.9254697827295, 183.66348872693465, 174.63483737162474, 173.82117642599235, 169.2231189474954, 244.7937554870775, 289.05155891931804, 1195.7640030976718, 1483.6591067905363, 1506.5513607665334, 357.7974004369956, 1700.8599430712732, 1814.1499302955776, 856.2659896048599, 1549.3154748952322, 2287.178746057347, 1038.6181376805864, 1007.8517837788472, 737.1062965997869, 987.994918572476, 1449.5285159984949, 1637.9797014148044, 1320.860858413234, 659.5847073300711, 1652.694036397465, 2719.632141095097, 1780.5363704038227, 1692.7996501488994, 968.6254026359065, 792.9726895729808, 657.5783243089633, 596.9038428385431, 526.857563699175, 435.2071948699892, 422.5703756276534, 406.3788935838233, 354.98807807234857, 341.63920675996405, 334.28365517952227, 313.7960114051072, 297.44190534926423, 284.13034165071247, 276.2265235104526, 260.04024486673944, 253.53933978584828, 252.46027826175242, 244.6090249758052, 235.8496244355494, 224.92505289734487, 216.02435862358925, 203.1930515717858, 201.24152519094733, 200.6260503891253, 197.46004077060272, 196.1075817765301, 186.4900775039919, 1125.8380322046598, 1223.7222613649176, 429.25684684705436, 327.93924799420375, 3436.271148781518, 441.2576559932299, 465.50401213124934, 383.1431366608532, 580.344110323735, 462.73347545259384, 1360.6543009741945, 5374.7573218613325, 2888.6455408284473, 5842.861657529944, 1207.7998971946515, 2471.5729647220714, 705.4257265245113, 946.399941717028, 1516.8304505954868, 551.573017094093, 500.0889372659742, 457.9734097237183, 454.83143338270787, 399.1258658139461, 356.5666238831304, 300.84877733882934, 297.356932560494, 296.40167742499125, 282.3190794522123, 278.44235643054117, 275.4705076570443, 273.1817164749685, 269.77421715142737, 260.1905010228967, 256.7317415765944, 251.43067611625992, 246.84848624747085, 245.98495383188992, 241.9172963511884, 229.98747712590145, 228.5238529642029, 226.771588714481, 216.83034175036724, 206.01223262455548, 205.75657625855357, 201.68957605705805, 201.40803008100258, 198.99855837607043, 362.29237178589483, 516.1126419129981, 482.5881986222294, 414.9958410877585, 436.1286809350437, 589.0425466056116, 523.3709988972421, 1109.9798592508403, 1162.2369454947673, 4600.764300138908, 3377.7530718510125, 1536.0551068854127, 2262.96224662307, 1135.9880388634385, 1614.555615467877, 3105.650271057102, 673.907468115391, 512.6882162649538, 1222.181872414216, 1563.9750748867348, 925.6252747926512, 3252.043357841155, 678.3397668588772, 4405.972760127973, 1284.4400238524172, 554.2289338309537, 537.0340665671126, 529.0605528849813, 405.20798325944384, 358.1999505930964, 355.8555823974046, 336.81681446621474, 274.6571271477244, 258.4622953733664, 250.0256039048016, 243.56591486082604, 240.77889889082775, 239.11462550108584, 231.3117102430048, 228.3098168774243, 225.60985067409413, 223.2585507407045, 219.57002764621524, 215.96047949535517, 215.55951665980368, 215.04891269560713, 208.44124465806868, 199.90051845818417, 186.22779956407996, 177.345319269473, 177.10793699579418, 175.36210834155366, 173.82571909420133, 170.24973150675737, 313.8120326491799, 474.25293274712953, 254.8190661033067, 1715.6887321312845, 894.9531535544425, 292.93708647902815, 431.2538681382734, 1038.015271026653, 1700.8599430712732, 925.6252747926512, 358.9794726633747, 2354.449900598323, 2991.334856338626, 823.3519826923371, 1053.292527648044, 976.7396508037237, 602.7447682991191, 758.6929505288468, 420.06891183454513, 643.3999709115418, 5082.793372878783, 1171.6415319719613, 1121.4327110405627, 633.2424321545881, 1697.1047196073102, 993.3243681919605, 57798.618299419795, 4191.503864604266, 548.4159266108076, 233.65004134148444, 163.21670114602668, 154.97177157086122, 150.430947328463, 141.9855028155002, 133.37210486781203, 130.7645979839637, 125.16601146844464, 122.87544585388397, 121.52795436039571, 119.78996525087923, 108.90950926094277, 99.62666239938423, 88.5837972398822, 74.73743676442366, 71.43956720501642, 69.04464779100232, 68.33150581289436, 63.68752341065322, 62.17603162614913, 56.631594239539794, 53.980013919467886, 50.774872744070784, 49.6883953740483, 48.24879784401162, 48.114668001170386, 47.06568193694576, 743.9518618051726, 725.4425261170147, 589.6049671586134, 548.6941938672361, 475.1208374900692, 436.5983061697889, 419.00713497432747, 376.26964650630595, 374.61677999285337, 340.01829565803473, 327.83634113283165, 314.98615455899926, 312.62709237867676, 311.54446389114764, 310.5524334917796, 305.63097445993856, 259.649706244875, 256.1028559103889, 246.77196911374057, 239.44300969770114, 229.10026842703277, 227.5661025849397, 222.38050279250464, 221.73050719713927, 220.34159022121398, 210.73371378732372, 189.0192029101878, 184.41620758179548, 182.15541670019013, 180.22597820421802, 621.2940915666909, 801.5543656242688, 753.5012253771918, 280.205047583544, 301.2196637980464, 770.4848105123149, 278.29705501494226, 738.0534922080348, 391.67931540043406, 863.5592965496644, 957.5461998908299, 1388.5698204184255, 641.261570600549, 642.1233523906578, 561.5421029099346, 495.73578088308653, 421.86463572783487, 369.4335295786976, 363.49570005934874, 305.19089718629385, 282.1022351430075, 271.6283201652601, 270.00080950558464, 267.80022212282836, 233.96235393217395, 224.00054077910556, 214.51906974044167, 210.03691225692282, 204.49929123850194, 194.44757722727576, 186.86778757875632, 173.05841239709963, 169.50876120451474, 161.60648778248952, 160.29670218250317, 159.8773112529668, 159.54618974715567, 157.52134326956974, 157.4345217340296, 152.54293657413368, 150.95387544962605, 146.8652254574822, 140.48697878445859, 1037.1997569676964, 250.5940421427681, 840.1015067955752, 282.95031546189136, 630.7792377548781, 357.4455680438495, 666.5181425934755, 448.2971495494364, 221.93036622626389, 455.8399520370966, 570.2299901516142, 2354.449900598323, 1122.485563877132, 1137.0246760820355, 932.8954094805634, 1121.4327110405627, 562.4128383032164, 1937.7616661248035, 2474.3103877948656, 889.5312727099237, 623.1532227625172, 602.4695544129921, 571.0016728346831, 417.46007653348113, 384.64239259819544, 367.40816050574864, 362.9369534039146, 346.56125613031946, 293.70447890729343, 265.6207622576841, 263.50601098478876, 262.94833034914126, 245.4810588262622, 244.8232073091993, 241.7142042030554, 235.21598702733561, 212.228083621619, 208.32180771623484, 194.57745849675712, 194.55718640494376, 191.4594535408959, 184.82013778592446, 182.18502285846284, 182.07374118872536, 178.2439030663841, 173.99489417983608, 166.87284051425948, 166.6760804204172, 813.6481223312022, 367.2067376870007, 787.2139758666428, 209.0254462668814, 652.778299287754, 681.1641521717119, 2471.5729647220714, 1689.2624226891996, 253.86305222892875, 4600.764300138908, 1431.7770957248463, 1128.0773189190586, 2020.4608509264995, 918.1340933043821, 1223.7222613649176, 1464.3965221284896, 690.2538511572387, 390.9384574800231, 383.53543625317434, 359.5891555353211, 315.36830300284095, 308.85262929261324, 308.01666850235125, 279.01883259127123, 245.79733409967048, 243.54068954067566, 236.70667433985443, 235.85144195145787, 234.94919319601587, 232.65241935456828, 226.98711138121476, 223.7224965247005, 220.7631299736283, 218.74325165742295, 216.75831277767924, 196.06692528729508, 175.39778639116918, 171.08137371488044, 170.66599361130676, 158.04914725517182, 156.4173154529876, 150.214494367233, 148.21938990602175, 143.92384377994705, 142.78794398015447, 295.20357649522145, 313.9971980981763, 582.1742016018214, 245.01494615158327, 396.3669948612602, 251.37260846382264, 700.1258036405729, 374.54565048050483, 2043.1169462393723, 1058.4091396910794, 1172.594531275278, 1195.0096365765278, 1422.4551672903435, 463.9109431480282, 457.9577567407686, 404.4463030647206, 400.77959668327514, 397.49842270137685, 351.5604621010182, 320.4717372064294, 306.8602317860399, 224.32822800323044, 220.97444308285532, 214.83679956988055, 204.12573255647274, 196.95275612273562, 182.91825920535243, 182.12333529733158, 178.8888539936542, 171.33210044430888, 166.6235102431317, 160.45897020963426, 154.5674521620609, 152.3060803836223, 147.95127005101094, 147.2803011039448, 146.48621148240233, 142.20045851040945, 140.36214954164274, 136.73218823814068, 134.4420767381028, 126.49401863947578, 166.19287655241408, 468.8341125262869, 248.20559692886786, 483.2583504725993, 199.97406310837317, 430.3591098801099, 258.9885167078538, 1121.4327110405627, 591.4785772912195, 295.3299373625604, 309.99667120652646, 319.91825050380714, 5082.793372878783, 594.9004729938805, 532.4421526655497, 804.7869748704907, 1549.3154748952322, 1179.917187134517, 730.4884933317127, 554.561184984155, 410.1024334238613, 329.6069831966738, 326.82529106316014, 321.65320287368803, 305.6748121825493, 282.19742132503154, 262.6395110000469, 261.63355492189095, 258.18867964406866, 247.3700023267547, 230.99705800002266, 225.60390650826088, 222.6900038147542, 194.644603685351, 169.28158122062004, 163.56164309530797, 161.53125142875282, 155.03294822440455, 154.39150342163578, 148.87531103009482, 146.88351762094646, 143.75043886028675, 137.48485297973937, 135.46270117814757, 129.0713304822135, 126.60609618074177, 125.81070942207019, 2043.1169462393723, 594.889635978447, 627.8987339361739, 553.9732009547262, 492.1951186029126, 821.4503684860673, 1058.4091396910794, 582.2959232178591, 681.1641521717119, 906.5828028231088, 834.2089770148858, 673.907468115391, 481.36974722845, 3377.7530718510125, 1500.0533919054392, 1860.1980902137143, 456.62322548436606, 419.3164975307665, 388.3806454059271, 305.57271437179634, 289.7479808075396, 280.24318990555633, 259.35625532524483, 258.3024445337503, 247.46761877272485, 228.40018022758457, 227.28074175951136, 226.96892743007692, 219.22916169119486, 217.00696559257653, 214.0270486916866, 207.14011115916844, 204.8654460327196, 199.15366648391213, 191.01741317252768, 181.53050424897864, 170.85189092713537, 168.1418236258491, 166.85706139038717, 162.67240328477962, 161.85125068446348, 160.26651316024086, 155.5613287058154, 148.60231459155958, 148.39305685539847, 144.59969923072376, 292.7478908873713, 309.4072034982599, 235.79731327058218, 297.92026991231677, 399.86892077491086, 513.2980645712514, 298.66698964951786, 1504.058728572595, 471.7942445439887, 243.37197564990527, 1842.773860838546, 377.6593966208518, 313.3747738176126, 283.005009007978, 272.8638244640022, 268.8192048388874, 265.87189152134613, 260.5583348038103, 227.9909210977251, 205.61964642987022, 199.50013123438174, 177.9356408841251, 169.6060948616195, 165.46412855907238, 159.2211007075651, 145.79492640135996, 138.50805010527205, 125.23418594791995, 107.32529536553353, 107.0309489853233, 105.11660389490112, 103.83187316808277, 99.52138477938564, 99.48021003621604, 99.38720577442656, 97.81739321236104, 97.01802222102415, 93.50737561610433, 93.02438825852713, 86.645191353954, 577.2100610881557, 772.4934059022164, 531.0356415388768, 330.62388484597835, 331.4232625349291, 997.6964276573162, 3436.271148781518, 230.16714851224944, 863.5592965496644, 2888.6455408284473, 1065.9451348643904, 1122.485563877132, 1246.402970398229, 584.2613877342451, 1166.9850942791802, 776.9052750059255, 522.3831348642162, 432.83764682880553, 356.4842606008131, 351.8611571313692, 336.96407637003267, 318.53351972187664, 302.1181570079214, 262.44413907607856, 260.5926163786791, 213.63052677566202, 209.01767833086942, 190.11525187550555, 179.01733323833753, 166.36885194303744, 158.22865574485064, 138.66388819062382, 137.5532355755215, 135.88193860796633, 133.98921035523372, 125.11845386513518, 119.7558921277131, 119.53898475006764, 115.35060361528218, 110.55546648537201, 108.19485420046773, 105.156414340498, 102.30278285493688, 98.9194850452263, 98.90375202467395, 330.68919773988387, 515.4555508681055, 199.3277188275107, 1002.2985294492316, 346.5039629654017, 1033.7092022753457, 841.0450264221884, 505.16562088612164, 373.59638014408836, 386.064885988592, 333.74815151880534, 537.8115929317696, 262.9218339178762, 2617.2749501458056, 944.0849555668304, 259.61762327905564, 240.29405231940422, 240.12108444771252, 233.49268476556668, 206.97288379434804, 200.92708185394966, 173.76034283982824, 172.1485893847773, 168.17530234777087, 152.84182938945787, 152.5367583794232, 149.75940473323024, 145.73438505798114, 137.11692008604948, 121.89128418942818, 116.8926083540388, 115.93836902289104, 115.69558401497201, 115.32264868435276, 111.87614429732334, 109.72635762716669, 108.17550966028178, 107.33329565920263, 103.92260444167204, 103.92097958129473, 102.58975735182197, 101.9865495313901, 97.72610938717628, 97.34660008818564, 145.1704324513681, 306.8401862127581, 208.259259856092, 257.0283289963055, 327.4106229686317, 759.2953276951762, 224.37569993203974, 1549.3154748952322, 507.92145854925076, 162.4592924193588, 3377.7530718510125, 772.4934059022164, 333.6316920066145, 778.5846047698379, 2238.8394363305715, 957.829058965401, 576.0966545142954, 454.37647165949704, 340.26205923705083, 305.13270456740287, 149.70386567121557, 139.52696688510642, 138.4643164897821, 130.05073684663662, 108.79450343301937, 107.75978805534032, 107.39015311928483, 105.69516513827597, 101.9734277754943, 97.33314224452201, 87.36747552580671, 85.25082304241327, 79.58674823764397, 77.12512015147793, 76.32556930717644, 74.56450862549748, 65.61014337855964, 63.70753321592851, 61.817598365250475, 61.50729207547276, 60.938656973467744, 60.77783118065443, 59.254678034929135, 57.007632807098204, 56.250039138236566, 410.16256682716244, 152.29374536387894, 293.9848249230667, 269.6268828606171, 252.87571507452938, 235.10523494474992, 228.5674145129359, 222.5292870245687, 215.38716793642396, 191.92659843311742, 188.91139015652038, 172.20350258187844, 171.40339642431317, 162.12143995019275, 161.3281896138128, 160.1466509141068, 148.2614573684551, 123.0987026835926, 121.7231423573091, 115.53806016948347, 106.08295907019327, 103.57476540189353, 99.75509591215632, 90.93291790093267, 79.54147919829619, 79.05105600769589, 78.02168629585165, 77.79394968687187, 77.6572104786922, 77.17649494577766, 66.90083251144553, 66.34254595027795, 238.15441852142982, 114.41510581882712, 562.4128383032164, 420.06891183454513, 600.6081067539908, 176.0744374056835], \"loglift\": [30.0, 29.0, 28.0, 27.0, 26.0, 25.0, 24.0, 23.0, 22.0, 21.0, 20.0, 19.0, 18.0, 17.0, 16.0, 15.0, 14.0, 13.0, 12.0, 11.0, 10.0, 9.0, 8.0, 7.0, 6.0, 5.0, 4.0, 3.0, 2.0, 1.0, 1.4874, 1.4874, 1.4873, 1.4873, 1.4872, 1.4871, 1.4868, 1.4867, 1.4863, 1.4863, 1.4863, 1.4861, 1.4859, 1.4858, 1.4856, 1.4856, 1.4855, 1.4854, 1.4853, 1.4852, 1.4851, 1.485, 1.485, 1.485, 1.4848, 1.4848, 1.4848, 1.4847, 1.4847, 1.4846, 1.4713, 1.4603, 1.4793, 1.3848, 1.3983, 1.4029, 1.403, 1.4011, 1.3903, 1.3789, 1.4376, 1.4365, 1.4093, 1.3657, 1.2859, 1.3516, 1.2282, 1.2686, 1.3254, 1.3087, 1.3426, 1.2639, 1.1657, 1.1545, 1.2644, 1.1232, 1.3008, 1.1374, 1.2711, 1.1696, 1.0127, 1.2702, 1.0425, 0.5524, 0.7614, 0.4275, 0.2805, 1.8417, 1.8416, 1.8408, 1.8407, 1.8406, 1.8406, 1.8403, 1.8403, 1.8401, 1.84, 1.8399, 1.8399, 1.8398, 1.8398, 1.8396, 1.8396, 1.8394, 1.8392, 1.8391, 1.8391, 1.8391, 1.839, 1.839, 1.8389, 1.8388, 1.8388, 1.8388, 1.8387, 1.8387, 1.8386, 1.8373, 1.8071, 1.8181, 1.7791, 1.7774, 1.7963, 1.8296, 1.7365, 1.8078, 1.8111, 1.7954, 1.4694, 1.5752, 1.5914, 1.3437, 1.4949, 1.3526, 1.6948, 1.4073, 1.691, 1.2472, 1.3396, 1.295, 1.5886, 1.6372, 0.8473, 0.4872, 1.1775, 0.6565, 0.5817, 0.3669, 0.6867, 0.8185, 0.8607, 0.8941, -0.4813, 0.3396, 2.8155, 2.8153, 2.8147, 2.8145, 2.8144, 2.8137, 2.8134, 2.8134, 2.8133, 2.8133, 2.8132, 2.8131, 2.8125, 2.8121, 2.8121, 2.8119, 2.8117, 2.8117, 2.8116, 2.8115, 2.8113, 2.8112, 2.8108, 2.8108, 2.8107, 2.8107, 2.8106, 2.8106, 2.8105, 2.8104, 2.8055, 2.7869, 2.7802, 2.8015, 2.7727, 2.6733, 2.7293, 2.6259, 2.703, 2.7797, 2.5824, 2.5576, 2.5964, 2.5446, 2.3982, 2.5283, 2.5816, 2.3777, 2.4543, 2.2512, 2.3589, 2.4705, 2.1116, 2.57, 1.5605, 1.7912, 1.1013, 1.6666, 1.8256, 1.1027, 2.9584, 2.9583, 2.9576, 2.9574, 2.9572, 2.9571, 2.957, 2.9568, 2.9565, 2.9564, 2.9558, 2.9557, 2.9557, 2.9557, 2.9555, 2.9553, 2.9552, 2.9552, 2.9551, 2.9547, 2.9545, 2.9543, 2.954, 2.954, 2.954, 2.9539, 2.9536, 2.9534, 2.9533, 2.9532, 2.919, 2.8208, 2.4121, 2.3214, 2.313, 2.7447, 2.146, 2.0173, 2.2837, 1.9882, 1.7791, 2.1556, 2.0628, 2.2453, 2.0249, 1.7248, 1.6152, 1.7745, 2.2545, 1.4408, 0.9321, 2.989, 2.989, 2.9886, 2.9883, 2.9881, 2.9879, 2.9877, 2.9873, 2.9873, 2.9872, 2.9868, 2.9867, 2.9866, 2.9865, 2.9863, 2.9861, 2.986, 2.9858, 2.9857, 2.9857, 2.9856, 2.9854, 2.9852, 2.985, 2.9848, 2.9847, 2.9847, 2.9846, 2.9846, 2.9843, 2.9681, 2.7666, 2.8667, 2.8877, 2.237, 2.7651, 2.7452, 2.7861, 2.6211, 2.6471, 2.0165, 1.0684, 1.2124, 0.5209, 1.786, 1.0618, 2.1834, 1.9079, 3.0082, 3.0071, 3.0069, 3.0068, 3.0067, 3.0065, 3.0062, 3.0057, 3.0056, 3.0056, 3.0055, 3.0054, 3.0054, 3.0053, 3.0053, 3.0052, 3.0051, 3.005, 3.005, 3.005, 3.0049, 3.0047, 3.0047, 3.0046, 3.0044, 3.0042, 3.0042, 3.0041, 3.0041, 3.004, 2.9935, 2.969, 2.9684, 2.9611, 2.9262, 2.8931, 2.8226, 2.3799, 2.2847, 1.5857, 1.7344, 2.0968, 1.8549, 2.1328, 1.871, 1.3816, 2.3799, 2.5485, 1.8963, 1.6328, 2.0388, 0.8617, 2.2695, 0.5376, 3.038, 3.037, 3.0369, 3.0369, 3.0363, 3.036, 3.036, 3.0359, 3.0352, 3.035, 3.0349, 3.0348, 3.0347, 3.0347, 3.0345, 3.0345, 3.0344, 3.0344, 3.0343, 3.0342, 3.0342, 3.0342, 3.0341, 3.0339, 3.0335, 3.0333, 3.0333, 3.0332, 3.0332, 3.033, 2.9985, 2.964, 3.0026, 2.8146, 2.8291, 2.9595, 2.8918, 2.7086, 2.4515, 2.5606, 2.8698, 2.0747, 1.9447, 2.4862, 2.3451, 2.324, 2.5499, 2.4079, 2.7271, 2.4511, 1.0822, 2.0095, 2.0289, 2.3899, 1.3548, 1.8575, 3.1004, 3.1002, 3.0987, 3.0963, 3.0945, 3.0942, 3.094, 3.0936, 3.0932, 3.093, 3.0927, 3.0926, 3.0925, 3.0923, 3.0915, 3.0907, 3.0895, 3.0875, 3.0869, 3.0864, 3.0862, 3.0852, 3.0848, 3.0833, 3.0824, 3.0813, 3.0809, 3.0803, 3.0802, 3.0798, 3.249, 3.249, 3.2487, 3.2486, 3.2483, 3.2481, 3.248, 3.2478, 3.2477, 3.2475, 3.2474, 3.2473, 3.2472, 3.2472, 3.2472, 3.2472, 3.2466, 3.2465, 3.2464, 3.2463, 3.2461, 3.2461, 3.246, 3.246, 3.2459, 3.2457, 3.2452, 3.2451, 3.245, 3.245, 3.234, 3.0951, 3.0809, 3.1938, 3.1622, 2.9039, 3.1497, 2.6706, 2.9335, 2.3751, 2.1767, 1.8175, 2.4421, 3.2611, 3.2608, 3.2606, 3.2603, 3.2599, 3.2599, 3.2594, 3.2591, 3.259, 3.259, 3.2589, 3.2584, 3.2582, 3.258, 3.2579, 3.2578, 3.2576, 3.2574, 3.257, 3.2568, 3.2566, 3.2565, 3.2565, 3.2565, 3.2564, 3.2564, 3.2562, 3.2561, 3.256, 3.2557, 3.2092, 3.2384, 2.9827, 3.1454, 2.9972, 3.0806, 2.8454, 2.9244, 3.1321, 2.8471, 2.7078, 2.0299, 2.3617, 2.2064, 2.2572, 1.996, 2.4518, 1.0962, 3.4228, 3.4221, 3.4216, 3.4216, 3.4215, 3.4209, 3.4207, 3.4205, 3.4205, 3.4204, 3.4199, 3.4195, 3.4195, 3.4195, 3.4192, 3.4192, 3.4192, 3.4191, 3.4186, 3.4185, 3.4182, 3.4182, 3.4181, 3.418, 3.4179, 3.4179, 3.4178, 3.4176, 3.4174, 3.4174, 3.2502, 3.3218, 3.0408, 3.3647, 2.9395, 2.8475, 2.1155, 2.259, 3.2302, 1.1948, 2.0002, 2.1297, 1.6667, 2.1532, 1.8092, 3.4455, 3.4448, 3.4437, 3.4437, 3.4435, 3.4431, 3.4431, 3.4431, 3.4427, 3.4423, 3.4422, 3.4421, 3.4421, 3.4421, 3.442, 3.4419, 3.4419, 3.4418, 3.4418, 3.4417, 3.4413, 3.4407, 3.4405, 3.4405, 3.4401, 3.44, 3.4398, 3.4397, 3.4395, 3.4394, 3.4006, 3.3499, 3.2528, 3.3731, 3.2368, 3.3242, 2.8022, 3.0706, 1.7367, 2.1927, 1.9718, 1.9456, 3.5308, 3.5294, 3.5294, 3.5291, 3.5291, 3.5291, 3.5287, 3.5285, 3.5283, 3.5272, 3.5271, 3.527, 3.5268, 3.5266, 3.5262, 3.5262, 3.5261, 3.5258, 3.5257, 3.5255, 3.5252, 3.5251, 3.5249, 3.5249, 3.5249, 3.5247, 3.5246, 3.5244, 3.5243, 3.5238, 3.4869, 3.3388, 3.4272, 3.1582, 3.4173, 3.1284, 3.2349, 2.4683, 2.632, 3.0771, 3.0049, 2.9618, 0.5668, 2.4148, 2.5028, 2.1183, 1.4918, 3.6335, 3.633, 3.6326, 3.632, 3.6314, 3.6314, 3.6313, 3.6312, 3.6309, 3.6307, 3.6307, 3.6306, 3.6304, 3.6302, 3.6301, 3.63, 3.6294, 3.6286, 3.6284, 3.6284, 3.6281, 3.6281, 3.6279, 3.6278, 3.6276, 3.6273, 3.6272, 3.6269, 3.6267, 3.6267, 3.4342, 3.4915, 3.298, 3.2538, 3.196, 2.9808, 2.8785, 3.0167, 2.8049, 2.638, 2.6556, 2.7478, 2.9344, 1.2522, 1.8242, 1.5459, 3.6664, 3.6662, 3.666, 3.6654, 3.6652, 3.6651, 3.6648, 3.6648, 3.6646, 3.6643, 3.6643, 3.6643, 3.6641, 3.6641, 3.664, 3.6639, 3.6638, 3.6637, 3.6635, 3.6632, 3.6629, 3.6628, 3.6627, 3.6626, 3.6625, 3.6625, 3.6623, 3.662, 3.662, 3.6618, 3.6553, 3.5987, 3.6226, 3.5184, 3.4147, 3.3084, 3.3595, 2.4873, 3.0755, 3.4217, 3.7893, 3.7873, 3.7867, 3.7864, 3.7863, 3.7862, 3.7862, 3.7861, 3.7856, 3.7851, 3.785, 3.7844, 3.7841, 3.784, 3.7837, 3.7832, 3.7828, 3.7821, 3.7808, 3.7808, 3.7806, 3.7805, 3.7801, 3.7801, 3.7801, 3.7799, 3.7798, 3.7794, 3.7794, 3.7786, 3.34, 3.1315, 3.2245, 3.346, 3.1296, 2.4575, 1.6165, 3.2334, 2.3262, 1.489, 2.0151, 1.8787, 1.7665, 2.3919, 1.7135, 3.8994, 3.8988, 3.8984, 3.8979, 3.8979, 3.8978, 3.8976, 3.8974, 3.897, 3.8969, 3.8961, 3.896, 3.8955, 3.8952, 3.8948, 3.8945, 3.8937, 3.8936, 3.8935, 3.8934, 3.8929, 3.8925, 3.8925, 3.8922, 3.8919, 3.8917, 3.8914, 3.8912, 3.8908, 3.8908, 3.8014, 3.7618, 3.834, 3.2681, 3.5065, 3.0832, 2.9109, 3.1616, 3.2627, 3.2002, 3.2441, 2.8057, 3.2925, 1.0005, 4.0361, 4.0334, 4.0331, 4.0331, 4.033, 4.0325, 4.0323, 4.0316, 4.0315, 4.0314, 4.0308, 4.0308, 4.0307, 4.0305, 4.0301, 4.0292, 4.0288, 4.0288, 4.0287, 4.0287, 4.0285, 4.0283, 4.0282, 4.0281, 4.0278, 4.0278, 4.0277, 4.0276, 4.0272, 4.0272, 4.0202, 3.8374, 3.8855, 3.7884, 3.645, 3.3186, 3.6903, 2.387, 3.009, 3.753, 1.4153, 2.3843, 3.0476, 2.2577, 1.2161, 4.1976, 4.197, 4.1966, 4.1959, 4.1956, 4.1924, 4.192, 4.1919, 4.1915, 4.1901, 4.19, 4.19, 4.1899, 4.1895, 4.1891, 4.188, 4.1878, 4.187, 4.1866, 4.1865, 4.1862, 4.1845, 4.1841, 4.1836, 4.1836, 4.1834, 4.1834, 4.183, 4.1824, 4.1821, 4.1761, 3.4986, 4.325, 4.3247, 4.3245, 4.3242, 4.3241, 4.324, 4.3238, 4.3233, 4.3232, 4.3227, 4.3226, 4.3223, 4.3223, 4.3222, 4.3218, 4.3204, 4.3203, 4.3199, 4.3191, 4.3189, 4.3185, 4.3176, 4.316, 4.316, 4.3158, 4.3158, 4.3157, 4.3157, 4.3137, 4.3136, 4.2153, 4.1951, 2.7835, 3.0023, 2.3576, 3.527], \"logprob\": [30.0, 29.0, 28.0, 27.0, 26.0, 25.0, 24.0, 23.0, 22.0, 21.0, 20.0, 19.0, 18.0, 17.0, 16.0, 15.0, 14.0, 13.0, 12.0, 11.0, 10.0, 9.0, 8.0, 7.0, 6.0, 5.0, 4.0, 3.0, 2.0, 1.0, -5.6444, -5.646, -5.7406, -3.9545, -5.8924, -5.9504, -6.2123, -6.2909, -6.5487, -6.5569, -6.5662, -6.6588, -6.7322, -6.8087, -6.8828, -6.8903, -6.903, -6.9352, -5.218, -7.031, -7.044, -7.0725, -7.0841, -7.0942, -5.7693, -7.1427, -7.1561, -7.1662, -7.173, -7.2034, -4.7712, -4.2651, -6.2324, -3.2028, -4.5016, -4.7518, -4.7925, -5.04, -4.8705, -4.6799, -6.0296, -6.0792, -5.7256, -5.2083, -4.3346, -5.1049, -3.8042, -4.3875, -4.9778, -4.8417, -5.1769, -4.4959, -3.7605, -4.1419, -4.8787, -4.2734, -5.1921, -4.5719, -5.1084, -4.9127, -4.8901, -5.3159, -5.0478, -4.5787, -4.9426, -5.035, -5.0899, -4.0579, -4.1362, -5.6744, -5.7699, -5.8153, -3.132, -6.0362, -6.0698, -6.1747, -6.2309, -6.2428, -6.2712, -6.3188, -6.3217, -6.4064, -6.4227, -6.4733, -6.5546, -6.5943, -6.6, -6.6106, -6.6373, -6.648, -6.685, -6.7055, -6.7101, -6.7237, -6.733, -6.752, -6.7818, -3.0234, -3.968, -4.7257, -4.5947, -4.9823, -5.5828, -6.413, -4.687, -6.0785, -6.3284, -6.2191, -3.901, -4.7222, -5.0217, -3.7874, -4.7115, -4.11, -5.7995, -4.7015, -5.8397, -4.6123, -4.9129, -4.8613, -5.619, -5.7752, -4.8567, -4.439, -5.3033, -4.7401, -4.7147, -4.6655, -5.1897, -5.2718, -5.3078, -5.3708, -5.0688, -5.3698, -3.8348, -4.2554, -4.8611, -5.0239, -5.0767, -5.4575, -5.5557, -5.5738, -5.6129, -5.6246, -5.6648, -5.6888, -5.8868, -5.9697, -5.9874, -6.0251, -6.0738, -6.0781, -6.0994, -6.1334, -6.1781, -6.1883, -6.2646, -6.2707, -6.2841, -6.2939, -6.3121, -6.3131, -6.3285, -6.3526, -5.2786, -4.5002, -4.5227, -5.7394, -4.9343, -4.1815, -5.0666, -4.0565, -4.9445, -5.8978, -4.3945, -4.5664, -4.8439, -4.5956, -4.1708, -4.763, -5.0674, -4.3873, -4.8109, -4.6102, -5.0963, -5.2399, -4.9727, -5.4183, -4.8681, -5.0656, -4.7751, -5.0576, -5.1446, -5.0658, -3.8763, -3.9421, -4.7355, -4.8426, -5.0091, -5.0779, -5.1268, -5.1944, -5.3414, -5.3744, -5.6026, -5.6306, -5.635, -5.6414, -5.674, -5.7323, -5.7732, -5.7776, -5.8066, -5.9114, -5.9533, -5.9885, -6.05, -6.0559, -6.0604, -6.0721, -6.1267, -6.1774, -6.1821, -6.2091, -5.874, -5.8061, -4.7948, -4.6698, -4.6629, -5.6688, -4.7086, -4.7728, -5.2571, -4.9597, -4.7793, -5.1922, -5.3151, -5.4455, -5.3729, -5.2896, -5.277, -5.333, -5.5474, -5.4425, -5.4531, -3.8198, -3.8704, -4.429, -4.6294, -4.8168, -4.9138, -5.0388, -5.2303, -5.2599, -5.299, -5.4346, -5.473, -5.4948, -5.5583, -5.612, -5.6579, -5.6862, -5.7468, -5.7722, -5.7765, -5.8082, -5.8448, -5.8925, -5.933, -5.9945, -6.0042, -6.0073, -6.0233, -6.0302, -6.0808, -4.2991, -4.4172, -5.3647, -5.613, -3.9144, -5.4388, -5.4052, -5.559, -5.3088, -5.5092, -5.0612, -4.6356, -5.1125, -5.0995, -5.4109, -5.4191, -5.5513, -5.5329, -3.9609, -4.9736, -5.0717, -5.1599, -5.1668, -5.2977, -5.4108, -5.5812, -5.5929, -5.5961, -5.645, -5.6588, -5.6696, -5.678, -5.6906, -5.7269, -5.7403, -5.7613, -5.7797, -5.7832, -5.8, -5.8508, -5.8572, -5.8649, -5.9099, -5.9613, -5.9626, -5.9826, -5.984, -5.9961, -5.4076, -5.0781, -5.1459, -5.3041, -5.2893, -5.0219, -5.2106, -4.9014, -4.9507, -4.2738, -4.4341, -4.8597, -4.7142, -5.1254, -5.0357, -4.8709, -5.4005, -5.5053, -5.2888, -5.3057, -5.4242, -5.3447, -5.5043, -5.3651, -4.0974, -4.9389, -4.9705, -4.9855, -5.2527, -5.3764, -5.3829, -5.4381, -5.6427, -5.7037, -5.737, -5.7633, -5.7749, -5.7818, -5.8152, -5.8283, -5.8402, -5.8507, -5.8675, -5.8841, -5.886, -5.8884, -5.9197, -5.9618, -6.033, -6.0821, -6.0834, -6.0934, -6.1023, -6.1232, -5.5462, -5.1677, -5.7503, -4.0313, -4.6676, -5.654, -5.3349, -4.6398, -4.4031, -4.9024, -5.5404, -4.4547, -4.3453, -5.0939, -4.9887, -5.0852, -5.3421, -5.254, -5.5259, -5.3756, -4.6776, -5.2178, -5.2422, -5.4527, -5.5019, -5.5349, -0.2284, -2.8525, -4.8878, -5.7434, -6.1039, -6.156, -6.186, -6.2441, -6.3072, -6.327, -6.3711, -6.3897, -6.4009, -6.4154, -6.5114, -6.6013, -6.72, -6.892, -6.9378, -6.9723, -6.9829, -7.0543, -7.0787, -7.1736, -7.2224, -7.2848, -7.3068, -7.3368, -7.3397, -7.3622, -4.4325, -4.4577, -4.6653, -4.7374, -4.8816, -4.9664, -5.0076, -5.1154, -5.1198, -5.217, -5.2536, -5.2937, -5.3012, -5.3047, -5.3079, -5.3239, -5.4875, -5.5013, -5.5386, -5.5689, -5.6132, -5.62, -5.6431, -5.646, -5.6524, -5.6971, -5.8064, -5.8312, -5.8436, -5.8543, -4.6277, -4.5119, -4.5878, -5.4641, -5.4234, -4.7426, -5.5151, -5.0189, -5.3895, -5.1573, -5.2524, -5.24, -5.388, -4.5676, -4.7019, -4.8268, -4.9885, -5.1216, -5.1378, -5.3131, -5.3921, -5.43, -5.4361, -5.4443, -5.5799, -5.6236, -5.667, -5.6882, -5.7151, -5.7657, -5.8057, -5.8829, -5.9037, -5.9517, -5.9599, -5.9626, -5.9646, -5.9775, -5.9781, -6.0098, -6.0204, -6.048, -6.0927, -4.14, -5.5312, -4.5772, -5.5028, -4.8493, -5.3338, -4.946, -5.2636, -5.759, -5.3242, -5.2397, -4.4995, -4.9085, -5.0509, -5.198, -5.2751, -5.5095, -5.628, -3.057, -4.0807, -4.4371, -4.4709, -4.5246, -4.8384, -4.9205, -4.9665, -4.9787, -5.025, -5.191, -5.2919, -5.2999, -5.302, -5.371, -5.3737, -5.3865, -5.4139, -5.5172, -5.5358, -5.6044, -5.6045, -5.6207, -5.6561, -5.6706, -5.6712, -5.6925, -5.7168, -5.7588, -5.76, -4.3418, -5.0657, -4.5842, -5.5863, -4.8727, -4.9221, -4.3654, -4.6024, -5.5265, -4.6647, -5.0266, -5.1355, -5.0156, -5.318, -5.3746, -3.5587, -4.3116, -4.8812, -4.9004, -4.965, -5.0966, -5.1175, -5.1203, -5.2195, -5.3467, -5.356, -5.3845, -5.3882, -5.392, -5.4019, -5.4266, -5.4412, -5.4546, -5.4638, -5.473, -5.5737, -5.6857, -5.7108, -5.7132, -5.7905, -5.8009, -5.8417, -5.8551, -5.8847, -5.8927, -5.2052, -5.1942, -4.6739, -5.419, -5.0743, -5.4423, -4.94, -5.2971, -4.9346, -5.1362, -5.2547, -5.2619, -3.5025, -4.6244, -4.6373, -4.7618, -4.771, -4.7792, -4.9023, -4.9952, -5.0387, -5.3532, -5.3683, -5.3966, -5.448, -5.4839, -5.5582, -5.5626, -5.5806, -5.624, -5.6521, -5.69, -5.7276, -5.7424, -5.7716, -5.7762, -5.7817, -5.8116, -5.8247, -5.851, -5.8681, -5.9294, -5.6934, -4.8044, -5.352, -4.9547, -5.578, -5.1004, -5.5017, -4.8028, -5.2788, -5.5282, -5.552, -5.5636, -5.1931, -5.4903, -5.5132, -5.4846, -5.4561, -3.5868, -4.0667, -4.3427, -4.6451, -4.8642, -4.8727, -4.8887, -4.9398, -5.0199, -5.092, -5.0959, -5.1092, -5.1521, -5.2209, -5.2446, -5.2577, -5.3929, -5.5333, -5.5678, -5.5804, -5.6217, -5.6259, -5.6625, -5.6761, -5.6978, -5.7426, -5.7576, -5.8062, -5.8257, -5.832, -3.2371, -4.4136, -4.5531, -4.7226, -4.8986, -4.6016, -4.4504, -4.9098, -4.9647, -4.8458, -4.9114, -5.0326, -5.1825, -4.9163, -5.1561, -5.2192, -4.5032, -4.5886, -4.6654, -4.9059, -4.9593, -4.9927, -5.0705, -5.0746, -5.1176, -5.1981, -5.203, -5.2044, -5.2392, -5.2495, -5.2634, -5.2962, -5.3073, -5.3357, -5.3776, -5.4289, -5.4898, -5.5059, -5.5136, -5.5392, -5.5442, -5.5541, -5.5841, -5.6302, -5.6316, -5.6577, -4.9588, -4.9601, -5.2079, -5.0782, -4.8876, -4.7442, -5.2346, -4.4903, -5.0614, -5.3772, -2.9851, -4.5722, -4.7593, -4.8616, -4.8982, -4.9132, -4.9243, -4.9445, -5.0786, -5.1823, -5.2127, -5.3277, -5.3759, -5.4007, -5.4394, -5.5281, -5.5797, -5.6812, -5.8368, -5.8396, -5.8578, -5.8702, -5.913, -5.9134, -5.9144, -5.9305, -5.9388, -5.976, -5.9812, -6.053, -4.5953, -4.5124, -4.7941, -5.1465, -5.3604, -4.9305, -4.5349, -5.6212, -5.2062, -4.8359, -5.3067, -5.3914, -5.399, -5.5313, -5.5178, -3.7388, -4.1363, -4.3247, -4.5193, -4.5323, -4.5757, -4.6321, -4.6852, -4.8265, -4.8336, -5.0331, -5.055, -5.1503, -5.2108, -5.2844, -5.3349, -5.4678, -5.4759, -5.4882, -5.5023, -5.5713, -5.6155, -5.6173, -5.6533, -5.6961, -5.7179, -5.7466, -5.7744, -5.8083, -5.8085, -4.6909, -4.2866, -5.1645, -4.1153, -4.9391, -4.2694, -4.6479, -4.9069, -5.1076, -5.1372, -5.2389, -5.2003, -5.4291, -5.4231, -3.4071, -4.7008, -4.7785, -4.7792, -4.8073, -4.9284, -4.9582, -5.1042, -5.1136, -5.1371, -5.2333, -5.2353, -5.2538, -5.2812, -5.3426, -5.4612, -5.5034, -5.5116, -5.5138, -5.517, -5.5476, -5.5672, -5.5816, -5.5894, -5.622, -5.622, -5.6351, -5.641, -5.6841, -5.688, -5.2954, -4.7298, -5.0692, -4.9559, -4.8572, -4.3425, -5.1898, -4.5609, -5.0542, -5.45, -4.7532, -5.2596, -5.4359, -5.3783, -5.3636, -3.2312, -3.7402, -3.978, -4.2679, -4.3771, -5.0924, -5.1632, -5.1709, -5.2341, -5.4139, -5.4235, -5.427, -5.443, -5.4792, -5.5262, -5.6353, -5.6601, -5.7296, -5.7614, -5.772, -5.7956, -5.9252, -5.9551, -5.9857, -5.9908, -6.0002, -6.0029, -6.0286, -6.0679, -6.0815, -4.1008, -5.7691, -4.2849, -4.3717, -4.4361, -4.5092, -4.5376, -4.5645, -4.5972, -4.7131, -4.729, -4.8221, -4.8268, -4.8828, -4.8877, -4.8951, -4.9727, -5.1601, -5.1714, -5.224, -5.3101, -5.3343, -5.3722, -5.4658, -5.6012, -5.6074, -5.6207, -5.6237, -5.6254, -5.6317, -5.7766, -5.7851, -4.6052, -5.3586, -5.1777, -5.2507, -5.5379, -5.5955]}, \"token.table\": {\"Topic\": [19, 4, 1, 3, 4, 10, 18, 2, 3, 5, 6, 13, 18, 19, 7, 19, 3, 3, 7, 10, 7, 20, 3, 11, 17, 16, 6, 16, 2, 5, 20, 19, 9, 15, 16, 6, 1, 1, 2, 3, 4, 6, 9, 10, 16, 19, 16, 5, 7, 9, 10, 15, 6, 15, 18, 2, 1, 2, 12, 14, 6, 11, 2, 1, 4, 9, 5, 10, 16, 20, 10, 3, 13, 16, 13, 13, 10, 1, 2, 7, 10, 12, 13, 4, 10, 7, 4, 1, 6, 7, 13, 14, 6, 3, 6, 9, 8, 13, 7, 11, 12, 1, 2, 3, 4, 5, 6, 7, 10, 16, 5, 14, 14, 1, 2, 8, 18, 4, 1, 4, 14, 19, 4, 12, 2, 5, 7, 19, 2, 6, 11, 8, 4, 5, 13, 13, 6, 9, 13, 17, 5, 11, 1, 3, 4, 17, 10, 13, 20, 20, 2, 3, 11, 14, 12, 14, 3, 5, 17, 7, 15, 20, 15, 1, 2, 3, 6, 16, 7, 16, 12, 18, 1, 13, 2, 12, 3, 5, 6, 12, 17, 19, 14, 15, 15, 1, 2, 3, 5, 11, 14, 11, 11, 13, 12, 2, 14, 4, 5, 7, 9, 13, 15, 9, 19, 14, 20, 16, 2, 5, 9, 10, 15, 16, 10, 8, 4, 14, 8, 15, 5, 10, 1, 10, 18, 18, 19, 4, 4, 4, 4, 15, 7, 10, 1, 1, 4, 10, 12, 9, 11, 17, 2, 9, 5, 5, 3, 6, 11, 15, 2, 7, 17, 1, 2, 4, 5, 13, 20, 2, 10, 12, 13, 17, 7, 9, 13, 7, 14, 1, 6, 2, 6, 9, 13, 15, 14, 1, 19, 7, 3, 17, 6, 17, 2, 12, 16, 1, 2, 6, 14, 16, 7, 10, 13, 7, 7, 9, 7, 3, 6, 7, 7, 13, 6, 1, 2, 5, 6, 10, 12, 13, 15, 16, 19, 5, 19, 10, 20, 18, 7, 3, 6, 14, 16, 2, 8, 2, 4, 5, 13, 1, 2, 5, 7, 9, 10, 15, 16, 10, 12, 1, 4, 7, 10, 5, 9, 12, 17, 2, 6, 14, 15, 20, 20, 2, 6, 14, 5, 1, 4, 13, 6, 8, 6, 2, 9, 3, 6, 14, 11, 9, 2, 7, 8, 2, 13, 16, 17, 5, 17, 1, 2, 6, 9, 12, 12, 12, 12, 1, 11, 13, 12, 14, 2, 9, 12, 4, 16, 20, 20, 9, 17, 6, 20, 19, 1, 2, 7, 9, 19, 2, 3, 17, 6, 6, 12, 2, 18, 1, 2, 9, 12, 6, 19, 20, 12, 1, 2, 4, 9, 11, 18, 13, 1, 2, 5, 6, 1, 1, 4, 14, 1, 3, 4, 6, 4, 6, 18, 14, 3, 9, 16, 4, 5, 18, 3, 8, 1, 4, 3, 11, 14, 7, 10, 7, 1, 4, 19, 3, 11, 3, 4, 5, 15, 2, 17, 1, 7, 13, 15, 10, 1, 2, 3, 5, 6, 10, 13, 16, 16, 10, 13, 15, 1, 1, 2, 3, 4, 6, 10, 11, 14, 2, 1, 3, 19, 1, 2, 3, 4, 7, 7, 15, 3, 3, 2, 6, 5, 18, 19, 14, 1, 1, 10, 1, 2, 5, 12, 16, 11, 1, 1, 2, 5, 6, 10, 1, 2, 5, 12, 11, 4, 1, 2, 5, 17, 6, 7, 13, 19, 9, 19, 11, 4, 13, 12, 9, 15, 1, 3, 6, 9, 10, 16, 7, 2, 5, 7, 9, 13, 12, 14, 1, 1, 14, 1, 5, 2, 5, 7, 1, 2, 3, 10, 11, 11, 2, 5, 6, 7, 9, 12, 16, 1, 4, 5, 7, 10, 13, 16, 5, 5, 5, 4, 4, 18, 18, 2, 9, 15, 8, 9, 10, 5, 1, 4, 10, 18, 7, 4, 18, 17, 5, 15, 14, 18, 9, 7, 15, 3, 16, 6, 3, 6, 17, 17, 1, 3, 4, 5, 6, 7, 10, 14, 16, 3, 2, 3, 3, 6, 9, 17, 11, 14, 6, 11, 12, 7, 13, 16, 2, 3, 19, 10, 17, 5, 10, 10, 10, 1, 4, 6, 7, 9, 7, 17, 9, 15, 17, 4, 10, 13, 6, 2, 5, 9, 12, 10, 3, 19, 1, 20, 10, 18, 18, 17, 6, 11, 2, 3, 15, 20, 7, 9, 7, 10, 12, 13, 4, 15, 14, 20, 1, 2, 12, 20, 7, 13, 16, 6, 11, 17, 1, 2, 5, 6, 10, 13, 16, 18, 15, 4, 7, 6, 5, 10, 20, 2, 5, 9, 11, 14, 1, 4, 13, 1, 4, 10, 2, 12, 7, 1, 2, 3, 5, 8, 3, 2, 3, 9, 10, 3, 1, 2, 3, 5, 12, 4, 1, 2, 5, 1, 2, 4, 12, 17, 14, 3, 14, 6, 13, 3, 3, 8, 1, 2, 5, 6, 7, 1, 4, 5, 10, 13, 18, 3, 17, 1, 2, 3, 4, 6, 7, 9, 10, 16, 10, 15, 18, 18, 13, 13, 8, 1, 2, 3, 4, 5, 6, 9, 16, 8, 10, 6, 19, 1, 2, 4, 6, 7, 9, 9, 5, 6, 10, 14, 10, 2, 4, 7, 10, 20, 11, 14, 11, 2, 3, 4, 6, 14, 6, 13, 18, 17, 2, 7, 2, 12, 12, 7, 10, 16, 3, 1, 4, 6, 2, 7, 3, 20, 3, 12, 14, 1, 15, 2, 5, 7, 9, 12, 16, 2, 8, 11, 11, 16, 4, 18, 7, 17, 3, 15, 12, 14, 17, 1, 1, 18, 13, 13, 1, 3, 5, 16, 3, 5, 7, 10, 16, 4, 18, 4, 16, 1, 2, 3, 6, 7, 13, 3, 14, 9, 10, 1, 2, 2, 3, 4, 6, 9, 10, 12, 14, 16, 17, 18, 20, 2, 3, 5, 7, 9, 16, 3, 9, 9, 10, 5, 2, 9, 1, 2, 5, 1, 6, 1, 2, 3, 5, 6, 7, 10, 13, 18, 15, 20, 4, 18, 9, 1, 1, 3, 14, 2, 3, 5, 7, 9, 16, 7, 10, 11, 15, 1, 2, 5, 9, 12, 13, 14, 18, 17, 16, 8, 1, 2, 4, 5, 8, 17, 11, 9, 12, 2, 12, 3, 3, 10, 4, 15, 18, 10, 5, 13, 15, 16, 17, 1, 2, 4, 6, 8, 9, 10, 12, 14, 10, 4, 9, 8, 9, 2, 7, 12, 14, 16, 3, 11, 14, 16, 1, 4, 7, 13, 2, 1, 4, 6, 7, 2, 13, 20, 15, 19, 5, 6, 12, 4, 11, 12, 17, 2, 20, 17, 12, 5, 6, 5, 5, 18, 15, 15, 8, 1, 5, 6, 7, 10, 3, 13, 11, 17, 8, 1, 2, 3, 9, 8, 2, 4, 7, 10, 12, 14, 15, 16, 7, 14, 6, 10, 17, 2, 12, 14, 4, 16, 12, 6, 3, 7, 9, 8, 1, 2, 4, 9, 11, 3, 11, 3, 6, 11, 16, 3, 2, 16, 6, 6, 6, 7, 5, 6, 18, 3, 4, 6, 7, 9, 10, 8, 20, 3, 5, 11, 15, 16, 17, 20, 6, 6, 7, 4, 4, 14, 8, 1, 2, 3, 4, 6, 10, 5, 9, 2, 10, 7, 17, 2, 15, 8, 5, 6, 8, 4, 12, 14, 13, 6, 10, 14, 18, 4, 4, 10, 2, 4, 8, 13, 17, 3, 6, 10, 2, 9, 16, 9, 11, 6, 7, 11, 8, 12, 12, 1, 2, 5, 7, 10, 12, 1, 5, 12, 16, 2, 20, 17, 16, 15, 9, 6, 18, 5, 3, 19, 2, 3, 5, 6, 11, 16, 16, 1, 2, 5, 14, 9, 11, 4, 16, 1, 4, 8, 15, 20, 15, 4, 16, 17, 18, 5, 11, 4, 2, 18, 4, 13, 17, 5, 1, 2, 5, 6, 13, 6, 6, 6, 10, 19, 1, 2, 3, 5, 18, 3, 2, 7, 12, 14, 10, 1, 3, 5, 13, 13, 11, 10, 3, 11, 1, 2, 3, 4, 11, 16, 18, 17, 17, 19, 7, 9, 12, 15, 5, 16, 14, 4, 3, 13, 18, 2, 5, 3, 16, 10, 13, 11, 13, 1, 2, 2, 6, 9, 13, 17, 4, 1, 3, 10, 16, 16, 16, 4, 12, 4, 1, 16, 2, 13, 5, 2, 6, 19, 5, 5, 2, 4, 7, 10, 15, 9, 1, 17, 13, 12, 3, 15, 3, 17, 1, 2, 3, 4, 7, 10, 11, 12, 17, 8, 11, 15, 17, 2, 3, 6, 14, 18, 20, 14, 18, 1, 2, 5, 9, 12, 1, 11, 6, 14, 7, 1, 5, 2, 16, 2, 3, 6, 16, 11, 1, 2, 10, 11, 7, 9, 2, 3, 11, 11, 1, 2, 1, 2, 1, 2, 5, 1, 2, 5, 6, 16, 11, 15, 12, 14, 1, 5, 6, 10, 13, 2, 18, 20, 20, 8, 16, 4, 6, 9, 10, 1, 2, 4, 1, 1, 2, 11, 20, 13, 13, 13, 1, 2, 12, 5, 15, 18, 18, 6, 14, 2, 17, 2, 5, 8, 10, 2, 3, 16, 3, 15, 2, 7, 9, 1, 2, 3, 4, 6, 9, 11, 14, 3, 12, 3, 6, 15, 8, 2, 4, 6, 11, 18, 13, 20, 5, 3, 1, 3, 4, 10, 13, 18, 19, 19, 12, 15, 16, 4, 2, 3, 11, 2, 11, 14, 1, 2, 3, 4, 10, 13, 18, 8, 8, 2, 16, 15, 14, 7, 20, 13, 15, 1, 2, 10, 4, 12, 14, 1, 2, 6, 13, 7, 15, 1, 2, 5, 7, 9, 1, 11, 5, 11, 11, 18, 20, 9, 6, 9, 13, 1, 4, 10, 13, 18, 2, 1, 2, 3, 4, 1, 2, 6, 10, 11, 13, 1, 2, 4, 5, 10, 13, 16, 2, 4, 1, 2, 7, 19, 1, 2, 1, 2, 11, 11, 1, 2, 3, 4, 6, 7, 9, 10, 12, 13, 16, 18, 19, 1, 5, 7, 9, 10, 16, 10, 19, 11, 19, 19], \"Freq\": [0.9991344395352794, 0.9963647724521666, 0.32232974724053376, 0.0478823175248619, 0.5091875717277997, 0.0665680999735885, 0.05372162454008896, 0.29058047879158044, 0.7084628816251866, 0.04838761636252112, 0.3032290625384657, 0.5903289196227577, 0.054839298544190604, 0.9777770974493982, 0.9653908703215663, 0.03139482505110785, 0.997476026881147, 0.9646883866536804, 0.03313815068657681, 0.0009205041857382446, 0.9976765432833679, 0.9797634243448518, 0.5386156338466982, 0.08798577683146946, 0.37215605605743163, 0.9974930781684842, 0.9542264302264623, 0.04337392864665737, 0.996773301878645, 0.545223948544056, 0.4486738743227128, 0.9924292584246381, 0.9983535708334658, 0.996391592238988, 0.9951728083802677, 0.998410889171399, 0.9954158752907427, 0.33513051125063603, 0.3150138380818973, 0.1799447468060803, 0.05836045842359361, 0.05194965049069886, 0.02564323173157901, 0.024316857676497338, 0.009505680728085322, 0.9907004717999286, 0.9945739508486757, 0.1888218848708704, 0.7186792148656598, 0.017340785345284018, 0.07321664923564362, 0.9932091635428559, 0.9965975071266424, 0.9958665190210383, 0.995385978607784, 0.9984427036322284, 0.06034691148812357, 0.9390124841796578, 0.9965015746433817, 0.9973118096016711, 0.1573161622167384, 0.8406582418456957, 0.997991298124861, 0.23999224953684095, 0.03063730845151161, 0.7276360757234007, 0.13513205038009063, 0.44451332361871915, 0.2062541821590857, 0.2133663953369852, 0.9979504427377679, 0.9841337810829943, 0.012698500401070895, 0.9889879602789732, 0.9938320078780809, 0.9989770030551364, 0.9986362973227254, 0.29893937053642544, 0.6890399222796788, 0.006530552454875099, 0.0038650208406403644, 0.0015993189685408406, 0.9902954639403081, 0.1171538642598026, 0.8786539819485195, 0.9974043518538469, 0.9982824946559027, 0.04966287696121414, 0.16140435012394594, 0.09725646738237768, 0.6890724178368461, 0.9956836766292384, 0.9971787243201145, 0.866815161468715, 0.11232136759872766, 0.020582449559976273, 0.9999893025224826, 0.9961049523565987, 0.9926594215703197, 0.1113884291972478, 0.8871292753923663, 0.20051669995368399, 0.1345347089432837, 0.3033457768530091, 0.05141453844966256, 0.07797871664865488, 0.05912671921711195, 0.008569089741610428, 0.03770399486308588, 0.12510871022751224, 0.9961599822197921, 0.9974748249730752, 0.9967111538847506, 0.7162670856260729, 0.2835610667304878, 0.9848699671238174, 0.9933279186958074, 0.9989243822241203, 0.6921190583502865, 0.3073655704486743, 0.9909871761671001, 0.9917523262957132, 0.9988059351224738, 0.9981834927032474, 0.4121644203657602, 0.06316696097559543, 0.5227066020730522, 0.987055115586429, 0.5871584669601375, 0.3202119487535771, 0.09166608977858687, 0.9861457515609804, 0.038526243724280734, 0.7999861196865352, 0.16090372378964307, 0.996257969585313, 0.9853919866990121, 0.013801008217072998, 0.5657695355452877, 0.4313601983715454, 0.8169270699400736, 0.18269934471503244, 0.13474482535843557, 0.30466933418483705, 0.5243764139564734, 0.03517968346796593, 0.9776768749371102, 0.01995258928443082, 0.9951721207967935, 0.9976749986723646, 0.5346382169081375, 0.08031560657588613, 0.007192442379930101, 0.37520574415302027, 0.9966021733160163, 0.9964734080210943, 0.9949793220515138, 0.12804207829141806, 0.8710741386794957, 0.9934070017099811, 0.9957755392650189, 0.9914916702503459, 0.9946737150523092, 0.14634899573874066, 0.41090294957415646, 0.2589251463070027, 0.013133884232963905, 0.1698023604404619, 0.8626009584700705, 0.1344915472883443, 0.1792464040608549, 0.8180154076231742, 0.9976655681531749, 0.9960945296482058, 0.7765627753919551, 0.22259234725674573, 0.3869560212093897, 0.049336892704197194, 0.03869560212093898, 0.0793259843479249, 0.4411298641787043, 0.002902170159070423, 0.9989880557829321, 0.9943649349716285, 0.9955638889709495, 0.8291910992920688, 0.1703424678051855, 0.14646482748413558, 0.6909693626016279, 0.10855628390000638, 0.05169346852381256, 0.9988979148921221, 0.9934954979291384, 0.9892736204833252, 0.9990463497369826, 0.9373112430944955, 0.0620240183679187, 0.009954462179624313, 0.04479507980830941, 0.6138585010768326, 0.016590770299373853, 0.15429416378417685, 0.16093047190392637, 0.9979941201707586, 0.9843480023020377, 0.9933372342057935, 0.9953430049916522, 0.9860424109560437, 0.2788454569686218, 0.035635202168513964, 0.11759616715609608, 0.40624130472105924, 0.013363200813192738, 0.14788608899933295, 0.995886714610279, 0.990487679869897, 0.9942127265669386, 0.9935561175531534, 0.9847390509873554, 0.9943932564367224, 0.9981290005733646, 0.9960927812484409, 0.5910161970411939, 0.34739791343939225, 0.059805210414882716, 0.9988507860861112, 0.9962231897039635, 0.9977036428346543, 0.9993710813590222, 0.9961333884303966, 0.9988827211548028, 0.9986351428276453, 0.9251133178707345, 0.071687747879282, 0.9977417534101258, 0.6429676889509138, 0.2911291467138258, 0.06553855198533994, 0.9936791849901636, 0.9967054276546178, 0.9983804994921059, 0.9907047125770428, 0.9978446034189036, 0.9970051739243501, 0.9978727569997468, 0.9952581337117906, 0.3866537606967063, 0.33110631901915133, 0.28100470495704294, 0.9906123852091279, 0.9992249210765055, 0.9937442837707466, 0.9988347678474462, 0.8358344018893791, 0.10495172837637073, 0.015989875514405512, 0.03401482609428082, 0.009593925308643309, 0.9940591218456523, 0.9984461055604383, 0.9961196549205147, 0.9920307637859701, 0.9966808378926454, 0.9973522597268081, 0.9976074636964692, 0.997596377507058, 0.9944851021849423, 0.9943628105775613, 0.999331278540084, 0.10695322496318947, 0.8912768746932456, 0.32792151442489065, 0.2913697532628805, 0.3414978828564944, 0.0365517611620101, 0.0010443360332002887, 0.997792385385858, 0.9972970815212798, 0.9952982799204303, 0.9954951669704021, 0.9942316777301754, 0.9941338116510723, 0.3232286264246368, 0.6753169516371875, 0.5963737901689347, 0.13932093585459146, 0.2636072383435795, 0.7271280641585088, 0.25994081337306424, 0.012494542753564217, 0.9979692324906072, 0.9945476401615541, 0.8112156453291222, 0.15419801522784968, 0.03352130765822819, 0.9953385306367185, 0.15527512903702512, 0.8440596757910084, 0.9943292527575591, 0.9937484163026022, 0.9930090668160734, 0.9970188562186585, 0.9980744860866598, 0.9914246339979823, 0.9962082233679695, 0.0024380576895048247, 0.0024380576895048247, 0.0048761153790096495, 0.0024380576895048247, 0.0024380576895048247, 0.0024380576895048247, 0.0024380576895048247, 0.0024380576895048247, 0.0024380576895048247, 0.9776611334914348, 0.9973720987703413, 0.9962878296870579, 0.9965766042547224, 0.989791394586979, 0.9923638597289632, 0.9924141258702812, 0.33451056437195575, 0.41637762354719754, 0.14260713533751798, 0.10563491506482812, 0.9956307420358842, 0.9741175345332129, 0.8600919450188219, 0.07861055411462352, 0.0601139531464768, 0.9915579842499483, 0.8646555574955566, 0.0037849708256128445, 0.03995246982591336, 0.011775464790795517, 0.006728837023311724, 0.014719330988494397, 0.029859214290945773, 0.028597557349074827, 0.04064991401008398, 0.9552729792369735, 0.1106757012234202, 0.4942503917648628, 0.3168660487081482, 0.07732138030677302, 0.9938306709325061, 0.9965182894842152, 0.9919149322284181, 0.9970485174325102, 0.2830439985688528, 0.4776367475849392, 0.0707609996422132, 0.16658318665771027, 0.993011160842642, 0.9975175179097816, 0.053419796787050645, 0.5327140846264218, 0.4125195418555578, 0.9942158098224133, 0.506026787081531, 0.407798057824528, 0.08533000723335622, 0.9971791710074963, 0.9810854505282622, 0.9948199101277863, 0.9976869263557263, 0.9951974371981882, 0.22296588993318633, 0.06211192648138762, 0.715083461285719, 0.9992206171921009, 0.9982523717984029, 0.9667483419690308, 0.02144663557269181, 0.01154818838529559, 0.8627892416611395, 0.10143904520822182, 0.023409010432666574, 0.01003243304257139, 0.8852508766980606, 0.11415077094264466, 0.7711172119019335, 0.22880659874851506, 0.9959958777293222, 0.997448906579601, 0.9966993068677272, 0.9970145567638713, 0.9965432181826763, 0.9975994751550605, 0.9976751568221767, 0.9980796985127677, 0.9985279912339804, 0.18109584998599032, 0.818357462639394, 0.9993421531128583, 0.9989739449422742, 0.9960976782942268, 0.36035407908150224, 0.6375495245288116, 0.9944507197321345, 0.9915370321102053, 0.9936569731434787, 0.9922349353278215, 0.996581002992128, 0.9917671572649999, 0.985327730598085, 0.4281532481536301, 0.009484407395808261, 0.0013549153422583232, 0.5595800363526874, 0.9962909198872167, 0.227073078018389, 0.7720484652625226, 0.993509522921138, 0.9982919853706078, 0.9989611219614914, 0.9986039458090102, 0.9956550054079233, 0.9903266701744189, 0.9244449476353863, 0.020231960133434382, 0.005447066189770795, 0.04980174802076155, 0.9957063874162119, 0.9926275636253921, 0.9897941974913526, 0.9963899226376869, 0.026042532385878468, 0.2313189641333911, 0.10570204321327144, 0.01991487770684824, 0.6158292952425379, 0.9952994625358039, 0.994645092369432, 0.983176297786277, 0.002550392471559733, 0.003187990589449666, 0.010839168004128865, 0.9973184112246078, 0.5087461628395326, 0.48975297276019003, 0.9944617281243946, 0.2743016173344436, 0.1254428128053858, 0.5787095097421798, 0.0209071354675643, 0.9962781444867814, 0.9949820823617056, 0.9861669530629137, 0.9952127409419803, 0.3823308433406458, 0.039102018068929684, 0.5734962650109687, 0.9972363640587367, 0.9972261605869134, 0.9925699550332088, 0.9979153469000946, 0.9888473166256228, 0.1900516882373887, 0.8077196750089018, 0.8925378840393411, 0.02858199919776638, 0.07665172512128257, 0.9975957033141352, 0.9966903325051161, 0.994262984853921, 0.9992652922822315, 0.9963874761852036, 0.9867740192619635, 0.8270390387587806, 0.172732869256023, 0.16640248455050127, 0.0713153505216434, 0.7109924339885054, 0.051865709470286105, 0.9979100332883677, 0.9952122488465694, 0.20825289056642232, 0.5324947328407255, 0.0909458825891338, 0.1673931462147825, 0.9976868385267124, 0.5234287068555898, 0.07027515045746345, 0.027002274560010586, 0.16928349051083558, 0.06439003933540985, 0.0010385490215388687, 0.04396524191181211, 0.10004688907491101, 0.9969525806782354, 0.9941087112024848, 0.2611604318626979, 0.7332581356144979, 0.9958398110051963, 0.2753080666956401, 0.029648561028761247, 0.20814499987538507, 0.2190363080083994, 0.08531524704194562, 0.04961595927262086, 0.09257611913062185, 0.03993479648771923, 0.9981512093163017, 0.9977331704019177, 0.9984160907967891, 0.9926972098042754, 0.13590726687368568, 0.0956384470592603, 0.36644626031127103, 0.09362500606853903, 0.3070497510849936, 0.9982113624244552, 0.9920974560732188, 0.9967555037884935, 0.99435862271885, 0.03729888143014956, 0.9594101167866248, 0.9996987590858921, 0.9976210271427076, 0.9980964053415308, 0.9965842909219781, 0.9986037578461806, 0.10602568140285566, 0.8906157237839876, 0.34621541970032643, 0.6130745823735202, 0.03989734469319929, 0.0007307205987765438, 0.9893774736480496, 0.997601402232903, 0.9963864295190624, 0.7994857546028421, 0.095245595313696, 0.03780961510937629, 0.05916771830093236, 0.008081444450859053, 0.8168942343258859, 0.07496326726057784, 0.08471876094517358, 0.02327626563342143, 0.9981493752733801, 0.9995609961336521, 0.4835567160267508, 0.369877164856168, 0.14642521566489144, 0.9986415652685564, 0.13813694498394874, 0.7990959981982857, 0.06236562495055913, 0.9826326967593048, 0.9923205904710554, 0.9863033062143123, 0.9994027498231679, 0.17276899832125256, 0.8254518808682068, 0.9945583617138295, 0.9834312096213039, 0.014485893431410369, 0.5067702685871759, 0.3168604327011466, 0.03818839091186457, 0.009805127396289554, 0.11456517273559372, 0.0139336020894641, 0.9988788703048211, 0.5514400529684729, 0.4465388603729279, 0.049963411154561224, 0.9457359968541945, 0.994979947822915, 0.809855523193497, 0.18669566578292454, 0.9992166013911368, 0.9959417608530806, 0.9953960814792215, 0.9976818828233714, 0.9972165880113101, 0.9985675797098023, 0.9960217495810355, 0.9952497300255444, 0.11821748571732091, 0.7785729723414181, 0.05633802053716074, 0.008773954018082411, 0.03786653839382935, 0.9976002566997938, 0.5646097073921374, 0.02592595595167978, 0.06481488987919945, 0.008641985317226594, 0.23837476166683352, 0.03168727949649751, 0.06481488987919945, 0.29862398986256616, 0.18781383010224287, 0.07324739373987471, 0.020659521311246716, 0.043197180923515856, 0.35684627719426143, 0.016903244709201858, 0.9984857815050328, 0.9987733630858023, 0.9968795159556246, 0.9937762593733633, 0.9984030169796738, 0.9978899348985544, 0.9933802812480594, 0.9997488081632164, 0.010247725409417853, 0.9871975477739199, 0.9974181519133517, 0.2314597425870505, 0.7673049000830989, 0.9941284824330506, 0.38916772582418535, 0.3763239064900538, 0.06421909667065764, 0.16825403327712304, 0.9922325960012942, 0.13444780327822212, 0.8595055995286344, 0.9975525655108111, 0.9026062046871307, 0.09452970386926031, 0.9957567956524579, 0.994251303765156, 0.9975123598000348, 0.9955525219354968, 0.9974185124415538, 0.971277299160718, 0.028087309957073005, 0.9963229546665724, 0.3591744270021247, 0.10875003484230998, 0.5307799865698065, 0.9926172387118999, 0.06773472172822419, 0.6450925878878494, 0.016127314697196235, 0.0069885030354517015, 0.031179475081246053, 0.04999467556130832, 0.046769212621869075, 0.12364274601183779, 0.011826697444610571, 0.9928833516472502, 0.505284318995845, 0.49418729881292023, 0.6584290136627197, 0.31551564815784017, 0.0017675946675509253, 0.02386252801193749, 0.35351833739004973, 0.6460852372990564, 0.05262517170256544, 0.9424689841277629, 0.9972393652773296, 0.14518007379400577, 0.21172094094959173, 0.6412119925901921, 0.1964214177356372, 0.8025821369843241, 0.9888940415644346, 0.994512596902642, 0.9949756759839143, 0.9926058924889066, 0.9982505660532738, 0.9985157801565668, 0.9962471322110173, 0.21337584335989787, 0.13314652625657628, 0.2227643804677334, 0.3576179134711889, 0.07340129011580487, 0.06020236458123651, 0.933136651009166, 0.9974977585984162, 0.9958526937890315, 0.9943171243815643, 0.33783787338470794, 0.6603194797973837, 0.9979086351815835, 0.9954366876574572, 0.40856962589327456, 0.1450266229315822, 0.445995851165941, 0.9959600065737448, 0.9965336375750117, 0.9945434088627598, 0.9788256712121609, 0.9974572353046145, 0.9867040864375858, 0.9975803095684234, 0.988530885307942, 0.9875779863926286, 0.9910608401032452, 0.9994525092800183, 0.9948303385211895, 0.9556824430762783, 0.01589492628817095, 0.02781612100429916, 0.9847557867637777, 0.14222366552917992, 0.8558371452019072, 0.36471202950776627, 0.28178239932629373, 0.008025448082077986, 0.3450942675293534, 0.3000206130304298, 0.6974505160058044, 0.9947795716921872, 0.9930827165701385, 0.6942371852347965, 0.30566138585229313, 0.9944817191270435, 0.9935596537634339, 0.18589126653386406, 0.6692085595219106, 0.14174209073207136, 0.9978745278589306, 0.9961673129311819, 0.9872654211490591, 0.3887835430507582, 0.15801221503953308, 0.37775943502474424, 0.0029397621402703833, 0.0051445837454731705, 0.04924101584952892, 0.016903632306554704, 0.9891333106358973, 0.9968603726814494, 0.4433051663492579, 0.5556013026525845, 0.9981719966526406, 0.9966068769672978, 0.9950631903422078, 0.9897405920488658, 0.21155511150390774, 0.032447102991396894, 0.7073468452124523, 0.01817037767518226, 0.031149218871741016, 0.40745347211677896, 0.18428393552169672, 0.40745347211677896, 0.5694126944798297, 0.3902654285495831, 0.0402392320397169, 0.4742004912169192, 0.5256198215898381, 0.9972968792263637, 0.0031222684323994935, 0.9954432227809051, 0.0003202326597332814, 0.0010407561441331645, 8.005816493332035e-05, 0.9930233157548692, 0.19557180889775327, 0.7619477674656467, 0.041461223486323695, 0.9936810138409174, 0.9966308612447887, 0.33955745470743565, 0.5787977630198236, 0.02749216256890521, 0.021935236092211607, 0.03187920978734753, 0.9983417440103779, 0.5114116967525292, 0.14898563892997232, 0.33918007160653274, 0.5045165118820113, 0.027921715352248716, 0.44771026340674663, 0.019256355415343943, 0.9890029120168218, 0.9939849097076603, 0.13111675726491553, 0.8673877788294412, 0.9953276999387654, 0.9935703826625959, 0.9994300697775427, 0.9977779204492295, 0.9916489453757098, 0.8028871204190361, 0.13709559180117403, 0.016139325813592287, 0.021459982675216118, 0.022169403590099297, 0.2420423768279719, 0.37887700052805195, 0.031626870572188326, 0.025172407190109075, 0.13038016031800084, 0.19234300878596164, 0.9947828607398228, 0.9983250751056201, 0.8047342000862527, 0.0007312441618230375, 0.07860874739597654, 0.041680917223913136, 0.03802469641479795, 0.0021937324854691127, 0.02303419109742568, 0.010603040346434044, 0.9964264558881919, 0.8336933694011922, 0.16506009662641052, 0.9946147134857748, 0.9956241865813471, 0.9922250387355644, 0.9980363835742984, 0.999879789063653, 0.6216561356862417, 0.07376350642498304, 0.12256090298304875, 0.02564700377237872, 0.028370579394224247, 0.08443084427721136, 0.04176149286829809, 0.0018157170812303518, 0.9956556961468302, 0.9960978613802924, 0.49903559610023024, 0.49903559610023024, 0.8041473007877058, 0.002696972501244402, 0.12720720297536095, 0.020227293759333013, 0.0449495416874067, 0.9968692129964254, 0.9939734732723124, 0.08253454218298523, 0.08253454218298523, 0.7138122567177101, 0.12045581832111359, 0.9970118690847787, 0.9953046020172078, 0.04501002760895239, 0.29406551371182227, 0.6586467373443367, 0.9910746201248224, 0.5622726897457915, 0.43601824766188, 0.9959437465849216, 0.35182979694389255, 0.27737279340460363, 0.041728650335205855, 0.3289199497010344, 0.992429293184887, 0.8292396806747997, 0.061142096270952975, 0.10699866847416771, 0.994497346821451, 0.9969294094634763, 0.9958980044892037, 0.9689889920345588, 0.027624686176423826, 0.9983615870327235, 0.9277749690471748, 0.06958312267853811, 0.9947416893013896, 0.9983759119339142, 0.9905091432400428, 0.002770654946125994, 0.004155982419188991, 0.9970463347734667, 0.9930856071194886, 0.9974005290429732, 0.9966500824546831, 0.9987787410957786, 0.3140946163101855, 0.6841486182848293, 0.996669506574049, 0.9981257673055863, 0.3230696052132986, 0.04858189552079678, 0.5756954619214418, 0.006072736940099598, 0.017003663432278875, 0.02914913731247807, 0.9979244685046327, 0.992875339350345, 0.9930213429745149, 0.9941027125508868, 0.99785716007039, 0.32069820779779573, 0.6749933706982177, 0.9591729082501343, 0.03505283053405806, 0.997242790500475, 0.9981103839967268, 0.996756132028075, 0.9969015052183116, 0.9971389342732963, 0.998845526637244, 0.9969833260920928, 0.9964811211072937, 0.9987461014361023, 0.9913070444971375, 0.5748910314638849, 0.37160005822522063, 0.05280285019186084, 0.9968342287010781, 0.25902501223515956, 0.06552411376699688, 0.4893832246972579, 0.07576225654309014, 0.11057194198180724, 0.2896926896258712, 0.7086328869309773, 0.9955948652636779, 0.9876516029047973, 0.1396045347628405, 0.7069401440964103, 0.03659237805457713, 0.11684961059444798, 0.09669403227388967, 0.9024776345563036, 0.9582713161410503, 0.0413642294737144, 0.9162748424852005, 0.07967607325958265, 0.9971659351765266, 0.002527029739423534, 0.6050262701860585, 0.04185918846417648, 0.017387662900504076, 0.1964161920242127, 0.031233394469423987, 0.0016099687870837107, 0.01513370659858688, 0.027691463137839822, 0.03219937574167421, 0.006439875148334843, 0.024793519321089145, 0.9924305028705376, 0.47416446689883446, 0.10750937151344132, 0.06097546444045926, 0.2174256692547955, 0.007220778683738596, 0.1323809425352076, 0.7819330404127797, 0.2155796700203458, 0.993197550006754, 0.9953561414195553, 0.9983723044741849, 0.9997501238817843, 0.9986296186647224, 0.9017524753588597, 0.09796094989711164, 0.00018276296622595455, 0.9984759244543169, 0.9961705463190055, 0.12863807708873853, 0.27380257380346085, 0.2112701752186574, 0.07280557835230689, 0.12908473707863, 0.07101893839274107, 0.024119639454138475, 0.029032899342944462, 0.059405778655563284, 0.9953597545137465, 0.9976214949877125, 0.01377691012024778, 0.9850490735977163, 0.998734825564048, 0.9973850861072859, 0.2834821035648362, 0.3463555662231851, 0.3695194735183663, 0.21223377516160996, 0.07359719622539701, 0.0718856335224808, 0.31663910003949874, 0.07873188433414563, 0.24646502921993416, 0.9951224459474862, 0.992555437059605, 0.9970452534826815, 0.9964451230455007, 0.31465546663005317, 0.39265269034979094, 0.029998932199899138, 0.011999572879959656, 0.03599871863987897, 0.0513315062087163, 0.16332751975500642, 0.9911376934185433, 0.9889564599971283, 0.996448794275759, 0.9818448746432344, 0.0006267054251795067, 0.998699859696771, 8.952934645421524e-05, 0.00017905869290843048, 0.00026858803936264574, 0.9962989413844064, 0.9936549719363258, 0.9982211265081128, 0.9935810234379262, 0.30970857584698563, 0.6861646895920285, 0.9985904073711327, 0.6335115319401872, 0.36552865040880517, 0.21366469931937804, 0.7806979398208044, 0.9949607976340726, 0.9975584695894147, 0.04157052485710223, 0.0554273664761363, 0.17617984344200469, 0.24942314914261338, 0.47707126145531603, 0.43159255594203405, 0.11637014100955585, 0.10102462790939463, 0.2525615697734866, 0.00831215292925399, 0.011509134825120908, 0.05434869222973762, 0.010869738445947524, 0.012148531204294292, 0.9955333108767258, 0.9964805184861287, 0.993911316425251, 0.9897122050433863, 0.9937921590464577, 0.279124737224225, 0.49938643462565424, 0.18418435041326411, 0.036077346988165136, 0.989506875138055, 0.41548103334604314, 0.08517361183593884, 0.49649983484852156, 0.9901449756823332, 0.7991668560981404, 0.007869688390922112, 0.1412609066170519, 0.05154645896053983, 0.9974967585395147, 0.9497890234951742, 0.01594370063421156, 0.034165072787596194, 0.9967650865818566, 0.9545558316953439, 0.043133171176803355, 0.9918123184628207, 0.9947405368765235, 0.9872020576327835, 0.7840963568260028, 0.06659448510029065, 0.15037464377484985, 0.23554832080027174, 0.16327781328200655, 0.06959382205462575, 0.527307036336972, 0.99703879938348, 0.9952989777322072, 0.9980647551456243, 0.9933618923392358, 0.9788264106178939, 0.020429226355908856, 0.9993543400429055, 0.9975102105252844, 0.9926878759596703, 0.9947706858909416, 0.9959468020857207, 0.9773575587755541, 0.8721861338364125, 0.08133560143517474, 0.045800629934370236, 0.9977826241902259, 0.9969986141076159, 0.9934544916162175, 0.9909075185530097, 0.09071962496820848, 0.9041722621831445, 0.9937098926703771, 0.4765542864664474, 0.23808513908879725, 0.2849341503288509, 0.9968717309485635, 0.9906842803827891, 0.24799563535261032, 0.07313544206109152, 0.1602331048793005, 0.0166216913775208, 0.02592983854893245, 0.14427628115688054, 0.3071688566565844, 0.024600103238730783, 0.9975748999719352, 0.9941205091425946, 0.051099124969859286, 0.9477441480258807, 0.995131137523887, 0.24376206735639408, 0.28533389279701943, 0.4695726646361545, 0.9599918083384504, 0.03676564372360023, 0.9977798800615396, 0.9965627245264116, 0.08078456348726694, 0.8440594047117891, 0.07242753967823932, 0.9972178847572537, 0.11281948323149588, 0.7658253876669302, 0.000673549153620871, 0.04613811702302966, 0.0740904068982958, 0.9943343252880082, 0.9963934726344067, 0.5682953619910281, 0.04854189550340032, 0.31197047475965817, 0.06985297157806389, 0.9946279559438896, 0.42934971245862835, 0.5687000577302884, 0.9943098585329406, 0.9971497814329433, 0.4429592988576361, 0.5564190490913463, 0.16341109162244988, 0.4764516165377455, 0.3583231165697094, 0.23306455503793735, 0.043618226780843025, 0.40167829736985294, 0.07096099580764015, 0.1425730099254421, 0.1080690394868648, 0.9934054138072017, 0.9928399944203529, 0.008740104664007129, 0.034960418656028516, 0.017480209328014258, 0.034960418656028516, 0.008740104664007129, 0.008740104664007129, 0.8740104664007128, 0.9952710206056578, 0.3792031284783438, 0.6201213554033315, 0.9927721522029451, 0.9955665792863897, 0.9975650617166782, 0.994152867092839, 0.4375591764851074, 0.3548273994185955, 0.019120232922038308, 0.1316354497324945, 0.04154973692673709, 0.014707871478491005, 0.09342535083098172, 0.9055072465156689, 0.42439016568675464, 0.5734528271883007, 0.4794034042492207, 0.5183549308444699, 0.9971193184940809, 0.9942071541825953, 0.9937293639931265, 0.0368136690656821, 0.96103051876728, 0.9925454862309825, 0.997319804925712, 0.997195733633984, 0.991699702186295, 0.9963287732693819, 0.9950865411647656, 0.5754848972686727, 0.04795707477238939, 0.3716673294860178, 0.99817571913677, 0.8718167822452045, 0.1245452546064578, 0.9001729068888042, 0.010698149996980695, 0.0022924607136387202, 0.03171237320533563, 0.05501905712732929, 0.21902115221985116, 0.024996979329439534, 0.7558610416282907, 0.3508734156538306, 0.41687930572732357, 0.23159961429295753, 0.9979355022472657, 0.9966375438086651, 0.11029568798672658, 0.05908697570717496, 0.8232785281866377, 0.9934096611561898, 0.9909388839152301, 0.9956612538742404, 0.5398927494117958, 0.07087137020142459, 0.024738119787289712, 0.3349675138765445, 0.0060173804888002, 0.023400924123111892, 0.9972839307836294, 0.0429424731140848, 0.8244954837904281, 0.13226281719138117, 0.8591292628212122, 0.13985825208717406, 0.9936880589816243, 0.9967206329471044, 0.9950138630452812, 0.9946079398574542, 0.24006013703007317, 0.7509573517351007, 0.9943521725855953, 0.9940112875654892, 0.9854117549604055, 0.5146520123645375, 0.059880894520402156, 0.14565622991449173, 0.009305814688981416, 0.27027322661911246, 0.9923307859188346, 0.9982539912239657, 0.8964441879903386, 0.055978018249766635, 0.04722316231496901, 0.999222668213907, 0.09259089365887639, 0.9041228439631459, 0.9952277037989575, 0.9956130041966532, 0.9991957851477122, 0.0007157562930857538, 0.9805140279428307, 0.8592903063472161, 0.13762071312592133, 0.9949576763158348, 0.19288190534905444, 0.5178037727491395, 0.09708820739046364, 0.1915873959171816, 0.9986502233460967, 0.9982457619962647, 0.9976463217305139, 0.9978906587486145, 0.9921686226958727, 0.12170917691832021, 0.3308968247466831, 0.5438878843537435, 0.999120524069021, 0.3336645423931939, 0.2624606946368299, 0.2997185219512064, 0.09273059242689259, 0.010763372335264318, 0.9954245023618602, 0.9956742475659905, 0.9217463046413892, 0.07795864268111252, 0.9845966908349092, 0.9140935851593238, 0.03779490683872421, 0.03010013538652886, 0.01787902778598331, 0.9919063116826685, 0.9963951728729235, 0.1789517731557184, 0.13269213111546466, 0.1667781831451253, 0.5198122934523248, 0.9908881373778168, 0.14218746480510885, 0.7919974675125689, 0.008637556273207548, 0.05714075688429608, 0.9984057874492805, 0.997662975392406, 0.9964407622776436, 0.31630535995740705, 0.6821525232816369, 0.28216682694974415, 0.3031198091489826, 0.15016303909454207, 0.015365520279441514, 0.24095929529124194, 0.006984327399746143, 0.9953311703122987, 0.9908623079896051, 0.9917721861571412, 0.9904541036157242, 0.08266315337885338, 0.315815637267927, 0.04663049677781473, 0.5532072572277111, 0.9958872838510922, 0.9903677488138064, 0.9973231558016538, 0.9975011338665762, 0.9890799787473126, 0.008041300640222054, 0.9944921531440664, 0.9976674874951612, 0.9951523126925539, 0.9990485933545273, 0.9916436823194983, 0.3623066491516638, 0.6331901251529077, 0.2548375535678666, 0.7452067854333068, 0.8846641846514413, 0.11502410834574463, 0.5038939352770346, 0.02789080822566612, 0.06693793974159869, 0.06321916531150988, 0.3346896987079935, 0.9945991955943257, 0.15287481039817996, 0.7498145462386923, 0.09645672560837545, 0.996331981391075, 0.9995800565359692, 0.9956536817652473, 0.9976319836752049, 0.9963485167584953, 0.9952757400284771, 0.9964697568622599, 0.996986443461853, 0.9984378544179779, 0.9950312499979136, 0.9955597185423573, 0.5145250306471972, 0.484410689388582, 0.9929492432283726, 0.9974632838653913, 0.9963976010664305, 0.28541698841382374, 0.0411985831490192, 0.38140543987442516, 0.2913631756724451, 0.9944959421292752, 0.9980115225326864, 0.9965342752085263, 0.9954911382994046, 0.9940790866354487, 0.9956512447988426, 0.9163021298169015, 0.08138209705610638, 0.9968675270274545, 0.9977258896014999, 0.12786482619069683, 0.19268109753160306, 0.3588464476964717, 0.005892388303718748, 0.18561023156714054, 0.01355249309855312, 0.11490157192251559, 0.9967705682891809, 0.9959780257206835, 0.9930591307143463, 0.22257293672017775, 0.7752540492500573, 0.9882913173147605, 0.37480537300088385, 0.1802973713724631, 0.2794757283671677, 0.09236909666372493, 0.072533425264784, 0.9931924927251317, 0.21787481644019457, 0.7781243444292663, 0.9182745337634676, 0.032409689426945915, 0.027154064114468197, 0.001167916736106159, 0.020730522065884324, 0.9992715780292438, 0.9974184127707938, 0.9977076661477218, 0.9981584637837857, 0.9979954035900085, 0.9961034554315961, 0.9995276167803856, 0.4797490640333154, 0.5159565405641316, 0.3567632301610163, 0.022522931197033857, 0.5333430107457617, 0.08648805579661001, 0.9971361304342464, 0.9164134475555056, 0.08320427567962588, 0.9919106122281491, 0.9942133783584998, 0.9974038913583702, 0.9976409422579943, 0.9763841346408562, 0.003016191060232124, 0.020251568547272832, 0.9942820495709042, 0.9967981895519278, 0.002630074378764981, 0.9182973582103527, 0.08121410885795435, 0.9724368315589829, 0.014065739940454404, 0.013115352106639918, 0.7040552853997001, 0.22258921084634514, 0.03778405091677455, 0.025625816710881752, 0.009539537607700507, 0.9955625085245071, 0.9970776027358409, 0.9917730743137257, 0.9966883043601197, 0.44359564847262817, 0.0074553890499601365, 0.12922674353264238, 0.1752016426740632, 0.24354270896536448, 0.9968605392531219, 0.994929168324467, 0.9951755679963751, 0.9869050985135401, 0.9901329668724377, 0.9911513838568964, 0.993885715313463, 0.9971301291887623, 0.9956936992894184, 0.996293309240749, 0.5647831830645499, 0.12870394252141218, 0.3058611339920619, 0.9989181205422585, 0.5607512022584638, 0.38763556946820543, 0.05118484811312721, 0.9865348086469415, 0.9964239923723838, 0.9955902453276466, 0.9980547994715129, 0.533006067596332, 0.23793390857500257, 0.22855300178530713, 0.06463973615957677, 0.9340441875058845, 0.9930114450138436, 0.9918542504794555, 0.6319630327383202, 0.36669459924322284, 0.502506203078341, 0.49732572675794584, 0.9658665447434336, 0.013184527808286788, 0.0011985934371169806, 0.01977679171243018, 0.9958520660027257, 0.9964152759751809, 0.9919882677380178, 0.9986000470926422, 0.9948634994333146, 0.8143933678041808, 0.0379981773124271, 0.145830842658504, 0.03847186868378716, 0.5516474729912532, 0.015866928892183406, 0.00478181418668541, 0.24104690604700543, 0.02021403269826105, 0.1078081743907256, 0.02021403269826105, 0.9643990898710663, 0.03275317663713055, 0.7910914651926905, 0.20818196452439225, 0.995201313581789, 0.9798491611674359, 0.030291243948275016, 0.042144339406295674, 0.1856984955089903, 0.2541830470442208, 0.48729392438529373, 0.10497390791743982, 0.8943776954565873, 0.9959996774065779, 0.9949596779230279, 0.006017105069389776, 0.006017105069389776, 0.006017105069389776, 0.006017105069389776, 0.9567197060329744, 0.006017105069389776, 0.9919205621427911, 0.9823245983479472, 0.9305554766399571, 0.06530213871157593, 0.992553639228306, 0.9966135259648794, 0.028366849916513615, 0.6967607510743656, 0.2739173945063346, 0.31427319461333875, 0.1459738882083814, 0.5392447164403736, 0.35931358889267245, 0.01619441527403594, 0.1902843794699223, 0.39271457039537155, 0.039473887230462607, 0.9951625143943561, 0.9939878084293866, 0.9892047394240766, 0.976833093784555, 0.9974892598618663, 0.9947610779277095, 0.9938696185520108, 0.9965661686647358, 0.7332130308212708, 0.26662292029864393, 0.04240930425074351, 0.954209345641729, 0.6403530957264351, 0.35946285365062386, 0.9990346175164331, 0.08917277023359091, 0.9076514113061931, 0.997578464573934, 0.9068718370301263, 0.08864160813076423, 0.0006493890705550492, 0.003571639888052771, 0.9966500537168987, 0.9957310128701409, 0.8499232516568045, 0.10636743763261722, 0.041327475768086944, 0.0016937490068888092, 0.0006774996027555237, 0.9987074494973591, 0.9980403423850202, 0.8000181339416357, 0.19939164931742503, 0.9994704028236193, 0.9911221966902315, 0.9965369744015502, 0.9987205330693535, 0.9978225127875703, 0.9966257004302773, 0.9971966657880917, 0.3765335718640523, 0.16641439113634454, 0.030257162024789917, 0.3277859219352241, 0.09917625330347805, 0.9981463184111949, 0.3848592964425581, 0.014828204066088055, 0.07077097395178389, 0.5284232721733197, 0.26492785646577227, 0.6475394554879191, 0.031233599920175256, 0.0066929142686089835, 0.03318569991518621, 0.01617454281580504, 0.45238655849029236, 0.07936606289303375, 0.26068699119481087, 0.023199310691809864, 0.056166752201223885, 0.10928096352194647, 0.018925753459108047, 0.98710205284422, 0.0094234086190379, 0.7243928227225612, 0.2580462456400487, 0.014872489811649046, 0.002649696460696094, 0.3922762862247628, 0.6076662877276882, 0.9504086272056287, 0.04773741963133295, 0.9983298965206197, 0.9970322436051001, 0.010001297012783742, 0.005000648506391871, 0.010001297012783742, 0.010001297012783742, 0.005000648506391871, 0.010001297012783742, 0.005000648506391871, 0.020002594025567484, 0.005000648506391871, 0.890115434137753, 0.005000648506391871, 0.010001297012783742, 0.005000648506391871, 0.337575223192538, 0.471150246852344, 0.044525007886602, 0.011931538061115568, 0.02066193176437086, 0.11378613126576066, 0.9938840742704204, 0.9966466704090048, 0.9947694273581632, 0.9934229239590429, 0.9969706361456837], \"Term\": [\"_\", \"absolute\", \"accept\", \"accept\", \"accept\", \"accept\", \"accept\", \"access\", \"access\", \"account\", \"account\", \"account\", \"account\", \"accounting\", \"ad\", \"ad\", \"adapter\", \"address\", \"address\", \"address\", \"administration\", \"adult\", \"advance\", \"advance\", \"advance\", \"aerospace\", \"agency\", \"agency\", \"ago\", \"ahl\", \"ahl\", \"ai\", \"air\", \"alan\", \"alaska\", \"algorithm\", \"alone\", \"also\", \"also\", \"also\", \"also\", \"also\", \"also\", \"also\", \"also\", \"amanda_walker\", \"amateur\", \"american\", \"american\", \"american\", \"american\", \"amp\", \"analysis\", \"anger\", \"animal\", \"anybody\", \"anyone\", \"anyone\", \"apartment\", \"apple\", \"application\", \"application\", \"appreciate\", \"approach\", \"approach\", \"approach\", \"april\", \"april\", \"april\", \"april\", \"arab\", \"archive\", \"archive\", \"ariane\", \"armenia\", \"armenian\", \"arrest\", \"article\", \"article\", \"article\", \"article\", \"article\", \"assign\", \"association\", \"association\", \"astronomy\", \"atheist\", \"attack\", \"attack\", \"attack\", \"attack\", \"audio\", \"auto\", \"available\", \"available\", \"available\", \"ax\", \"azerbaijani\", \"ban\", \"band\", \"band\", \"base\", \"base\", \"base\", \"base\", \"base\", \"base\", \"base\", \"base\", \"base\", \"baseball\", \"battery\", \"battery_charger\", \"be\", \"be\", \"beast\", \"behavior\", \"belief\", \"believe\", \"believe\", \"best_offer\", \"bhj_bhj\", \"bible\", \"bike\", \"bill\", \"bill\", \"bill\", \"biological\", \"bit\", \"bit\", \"bit\", \"biz\", \"black\", \"black\", \"black\", \"blindly\", \"block\", \"block\", \"blood\", \"blood\", \"blue\", \"blue\", \"book\", \"book\", \"book\", \"book\", \"border\", \"border\", \"bos\", \"boston\", \"box\", \"box\", \"box\", \"box\", \"brake\", \"brand\", \"brave\", \"brian\", \"brian\", \"britain\", \"brown\", \"buf\", \"buffalo\", \"build\", \"build\", \"build\", \"build\", \"build\", \"building\", \"building\", \"burn\", \"burn\", \"bus\", \"butcher\", \"buy\", \"buy\", \"ca\", \"ca\", \"ca\", \"ca\", \"ca\", \"ca\", \"cable\", \"cal\", \"california\", \"can\", \"can\", \"canada\", \"canada\", \"canada\", \"canada\", \"canadian\", \"capital\", \"captain\", \"car\", \"card\", \"card\", \"carry\", \"carry\", \"carry\", \"carry\", \"carry\", \"carry\", \"case_western\", \"cc\", \"cd\", \"cec\", \"centaur\", \"center\", \"center\", \"center\", \"center\", \"center\", \"center\", \"central\", \"centris\", \"century\", \"cheer\", \"chemistry\", \"chi\", \"chicago\", \"chief\", \"child\", \"child\", \"child\", \"chip\", \"chong\", \"christ\", \"christian\", \"christianity\", \"church\", \"circuit\", \"citizen\", \"citizen\", \"city\", \"claim\", \"claim\", \"claim\", \"clean\", \"cleveland_ohio\", \"client\", \"clip\", \"clipper\", \"clipper_chip\", \"club\", \"coach\", \"code\", \"code\", \"code\", \"cold\", \"color\", \"colorado\", \"com\", \"come\", \"come\", \"come\", \"come\", \"come\", \"comet\", \"command\", \"committee\", \"compatible\", \"compromise\", \"computer_science\", \"congress\", \"connect\", \"consideration\", \"constitution\", \"contact\", \"contain\", \"contain\", \"control\", \"control\", \"control\", \"control\", \"control\", \"controller\", \"convince\", \"cooling_tower\", \"cop\", \"copyright\", \"corp\", \"corporation\", \"corporation\", \"cost\", \"cost\", \"cost\", \"could\", \"could\", \"could\", \"count\", \"counter\", \"country\", \"country\", \"country\", \"court\", \"cover\", \"cover\", \"coverage\", \"cpu\", \"credit\", \"crime\", \"criminal\", \"crowd\", \"crypto\", \"cubs_suck\", \"cubs_suck\", \"cubs_suck\", \"cubs_suck\", \"cubs_suck\", \"cubs_suck\", \"cubs_suck\", \"cubs_suck\", \"cubs_suck\", \"cubs_suck\", \"cup\", \"cylinder\", \"czar\", \"dalla\", \"dan\", \"dare\", \"datum\", \"datum\", \"datum\", \"datum\", \"dave\", \"dave_medin\", \"david\", \"david\", \"david\", \"david_davidian\", \"day\", \"day\", \"day\", \"day\", \"day\", \"day\", \"day\", \"day\", \"dealer\", \"dealer\", \"death\", \"death\", \"death\", \"death\", \"defenseman\", \"demonstrate\", \"depth\", \"description\", \"design\", \"design\", \"design\", \"design\", \"det\", \"detroit\", \"device\", \"device\", \"device\", \"devil\", \"die\", \"die\", \"die\", \"directory\", \"disc\", \"discipline\", \"disclaimer\", \"disease\", \"disk\", \"disk\", \"disk\", \"display\", \"distribution_na\", \"distribution_usa\", \"distribution_usa\", \"distribution_usa\", \"distribution_world\", \"distribution_world\", \"distribution_world\", \"distribution_world\", \"division\", \"division\", \"do\", \"do\", \"doc\", \"doctor\", \"dod\", \"dog\", \"dollar\", \"door\", \"doubt\", \"draft\", \"dream\", \"drive\", \"drive\", \"driver\", \"drug\", \"duke\", \"earth\", \"earth\", \"ease\", \"eastern\", \"economic\", \"edition\", \"editor\", \"edm\", \"eeg\", \"effect\", \"effect\", \"effect\", \"effect\", \"eg\", \"email\", \"email\", \"emergency\", \"encrypt\", \"encryption\", \"engine\", \"engineering\", \"england\", \"enough\", \"enough\", \"enough\", \"enough\", \"ensure\", \"ep\", \"equation\", \"eric\", \"error\", \"error\", \"error\", \"error\", \"error\", \"estimate\", \"estimating_wiretap\", \"even\", \"even\", \"even\", \"even\", \"everyone\", \"evidence\", \"evidence\", \"excellent\", \"exist\", \"exist\", \"exist\", \"exist\", \"existence\", \"expand\", \"expose\", \"external\", \"facility\", \"facility\", \"facility\", \"faith\", \"fan\", \"fancy\", \"faq\", \"fashion\", \"father\", \"father\", \"fax\", \"fax\", \"fax\", \"fbi\", \"february\", \"federal\", \"feel\", \"feeling\", \"fifo\", \"file\", \"file\", \"final\", \"final\", \"final\", \"final\", \"fine\", \"finland\", \"fire\", \"fire\", \"fire\", \"fire\", \"firearm\", \"first\", \"first\", \"first\", \"first\", \"first\", \"first\", \"first\", \"first\", \"flight\", \"floor\", \"fly\", \"fly\", \"folk\", \"follow\", \"follow\", \"follow\", \"follow\", \"follow\", \"follow\", \"follow\", \"follow\", \"font\", \"food\", \"format\", \"fp\", \"free\", \"free\", \"free\", \"free\", \"free\", \"freedom\", \"friday\", \"ftp\", \"ftp_site\", \"function\", \"function\", \"game\", \"gay\", \"gd\", \"gene\", \"genocide\", \"german\", \"german\", \"get\", \"get\", \"get\", \"get\", \"giant\", \"gif\", \"girl\", \"give\", \"give\", \"give\", \"give\", \"give\", \"go\", \"go\", \"go\", \"go\", \"goal\", \"god\", \"good\", \"good\", \"good\", \"gordon_bank\", \"government\", \"government\", \"government\", \"governor\", \"gps\", \"gq\", \"graphic\", \"greek\", \"greek\", \"green\", \"ground\", \"ground\", \"group\", \"group\", \"group\", \"group\", \"group\", \"group\", \"gun\", \"guy\", \"guy\", \"hall\", \"hall\", \"ham\", \"hang\", \"hang\", \"happen\", \"happy\", \"hard_drive\", \"hate\", \"hawk\", \"hd\", \"health\", \"health_care\", \"help\", \"help\", \"help\", \"help\", \"help\", \"hi\", \"high\", \"high\", \"high\", \"high\", \"high\", \"high\", \"high\", \"history\", \"history\", \"history\", \"history\", \"history\", \"history\", \"history\", \"hit\", \"hockey\", \"hockey_league\", \"homeopathic\", \"homeopathy\", \"homosexual\", \"homosexuality\", \"host\", \"hot\", \"hot\", \"hour\", \"house\", \"house\", \"hug\", \"human\", \"human\", \"human\", \"human\", \"hunt\", \"husband\", \"husband\", \"ibm\", \"ice\", \"ice\", \"ide\", \"ignorant\", \"ignore\", \"illegal\", \"illinois\", \"image\", \"image\", \"implement\", \"inc\", \"inc\", \"inc\", \"inch\", \"include\", \"include\", \"include\", \"include\", \"include\", \"include\", \"include\", \"include\", \"include\", \"index\", \"info\", \"info\", \"information\", \"information\", \"information\", \"information\", \"instal\", \"instal\", \"install\", \"install\", \"insurance\", \"international\", \"international\", \"international\", \"internet\", \"internet\", \"iq\", \"iran\", \"irq\", \"islam\", \"israel\", \"israeli\", \"israelis\", \"issue\", \"issue\", \"issue\", \"issue\", \"issue\", \"item\", \"item\", \"jame\", \"jason\", \"jeff\", \"jew\", \"jew\", \"jewish\", \"jim\", \"job\", \"job\", \"job\", \"john\", \"joseph\", \"jpeg\", \"jt\", \"judge\", \"jupiter\", \"justice\", \"keith\", \"ken\", \"kevin\", \"key\", \"keyboard\", \"keyword\", \"keyword\", \"keyword\", \"kg\", \"kid\", \"kid\", \"kill\", \"kill\", \"kill\", \"kill\", \"king\", \"king\", \"kit\", \"km\", \"know\", \"know\", \"knuckle\", \"la\", \"land\", \"land\", \"land\", \"language\", \"laptop\", \"larry\", \"last\", \"last\", \"last\", \"last\", \"last\", \"last\", \"last\", \"laughter\", \"launch\", \"law\", \"law\", \"law_enforcement\", \"league\", \"lebanon\", \"legend\", \"level\", \"level\", \"level\", \"level\", \"level\", \"lie\", \"lie\", \"lie\", \"life\", \"life\", \"life\", \"light\", \"light\", \"limbaugh\", \"line\", \"line\", \"line\", \"line\", \"line\", \"linux\", \"list\", \"list\", \"list\", \"literature\", \"location\", \"look\", \"look\", \"look\", \"look\", \"look\", \"lord\", \"lose\", \"lose\", \"lose\", \"love\", \"love\", \"love\", \"love\", \"ltd\", \"lunar\", \"mac\", \"mac\", \"magazine\", \"magic\", \"mail\", \"mailing_list\", \"mainframe\", \"make\", \"make\", \"make\", \"make\", \"make\", \"man\", \"man\", \"man\", \"man\", \"man\", \"man\", \"management\", \"manual\", \"many\", \"many\", \"many\", \"many\", \"many\", \"many\", \"many\", \"many\", \"mar\", \"march\", \"march\", \"marriage\", \"marry\", \"massacre\", \"matthew\", \"max\", \"may\", \"may\", \"may\", \"may\", \"may\", \"may\", \"may\", \"may\", \"mb\", \"mcgill\", \"md\", \"md\", \"mean\", \"mean\", \"mean\", \"mean\", \"mean\", \"medical\", \"medicine\", \"medium\", \"medium\", \"medium\", \"medium\", \"meeting\", \"meg\", \"member\", \"member\", \"member\", \"membership\", \"memory\", \"memory\", \"menu\", \"message\", \"message\", \"message\", \"message\", \"metal\", \"method\", \"method\", \"method\", \"mhz\", \"michael\", \"michigan\", \"mike\", \"mike\", \"mile\", \"military\", \"military\", \"miller\", \"min\", \"mind\", \"mind\", \"mind\", \"mine\", \"minority\", \"misc\", \"mission\", \"mit\", \"model\", \"model\", \"moment\", \"mon\", \"money\", \"money\", \"money\", \"money\", \"money\", \"money\", \"monitor\", \"monochrome\", \"mont_pierce\", \"montreal\", \"moon\", \"moral\", \"moral\", \"morning\", \"morning\", \"motif\", \"motor\", \"motorcycle\", \"mount\", \"mouse\", \"mr_stephanopoulo\", \"msg\", \"multi\", \"muslim\", \"mutlu\", \"name\", \"name\", \"name\", \"nasa\", \"national\", \"national\", \"national\", \"national\", \"national\", \"natural\", \"natural\", \"nature\", \"naval\", \"need\", \"need\", \"need\", \"need\", \"neighbor\", \"neighbor\", \"network\", \"network\", \"neutral\", \"neutral\", \"never\", \"never\", \"new\", \"new\", \"new\", \"new\", \"new\", \"new\", \"new\", \"new\", \"new\", \"new\", \"new\", \"new_jersey\", \"news\", \"news\", \"news\", \"news\", \"news\", \"news\", \"newsgroup\", \"newsgroup\", \"newsletter\", \"newspaper\", \"nhl\", \"nntp_post\", \"normal\", \"not\", \"not\", \"not\", \"nothing\", \"nsa\", \"number\", \"number\", \"number\", \"number\", \"number\", \"number\", \"number\", \"number\", \"number\", \"nyi\", \"nyr\", \"objective\", \"objective\", \"obvious\", \"obviously\", \"offer\", \"offer\", \"offer\", \"office\", \"office\", \"office\", \"office\", \"office\", \"office\", \"officer\", \"ohio\", \"ohio_state\", \"oil\", \"old\", \"old\", \"old\", \"old\", \"old\", \"old\", \"old\", \"onur_yalcin\", \"opinions_express\", \"orbit\", \"oregon\", \"organization\", \"organization\", \"organization\", \"organization\", \"organization\", \"originator\", \"ott\", \"outlet\", \"own\", \"owner\", \"owner\", \"package\", \"page\", \"page\", \"pain\", \"pain\", \"painful\", \"palestinian\", \"paper\", \"paper\", \"paper\", \"paper\", \"paper\", \"part\", \"part\", \"part\", \"part\", \"part\", \"part\", \"part\", \"part\", \"part\", \"partition\", \"passage\", \"pat\", \"patch\", \"patient\", \"pay\", \"pay\", \"pay\", \"pay\", \"payload\", \"pc\", \"pc\", \"pc\", \"pennsylvania\", \"people\", \"people\", \"people\", \"people\", \"performance\", \"perhaps\", \"perhaps\", \"perhaps\", \"permit\", \"peter\", \"peter\", \"phi\", \"phil\", \"phil_fraer\", \"pick\", \"pick\", \"pick\", \"picture\", \"picture\", \"picture\", \"picture\", \"pin\", \"pit\", \"pittsburgh\", \"plane\", \"play\", \"play\", \"player\", \"playoff\", \"please\", \"plug\", \"pm\", \"pmfq\", \"point\", \"point\", \"point\", \"police\", \"policy_research\", \"polygon\", \"pool\", \"port\", \"port\", \"portion\", \"post\", \"post\", \"post\", \"posting\", \"postscript\", \"power\", \"power\", \"power\", \"power\", \"power\", \"power\", \"power\", \"power\", \"pray\", \"predict\", \"president\", \"president\", \"pressure\", \"price\", \"price\", \"price\", \"principle\", \"principle\", \"printer\", \"privacy\", \"private\", \"private\", \"private\", \"probe\", \"problem\", \"problem\", \"problem\", \"problem\", \"problem\", \"procedure\", \"professional\", \"program\", \"program\", \"program\", \"program\", \"programming\", \"project\", \"project\", \"proper\", \"proposal\", \"protect\", \"protect\", \"prove\", \"prove\", \"prove\", \"provide\", \"provide\", \"provide\", \"provide\", \"provide\", \"provide\", \"ps\", \"pt\", \"pts_pt\", \"pts_pt\", \"pts_pt\", \"pts_pt\", \"pts_pt\", \"pts_pt\", \"pts_pt\", \"pub\", \"public\", \"public\", \"punish\", \"punishment\", \"purchase\", \"qax\", \"question\", \"question\", \"question\", \"question\", \"question\", \"question\", \"quickly\", \"quickly\", \"quote\", \"quote\", \"radio\", \"radio\", \"ram\", \"ranger\", \"rat\", \"rate\", \"rate\", \"rating\", \"reality\", \"rear\", \"receiver\", \"regardless\", \"regular\", \"relate\", \"relate\", \"relate\", \"religion\", \"religious\", \"religious\", \"reply\", \"reply\", \"reply\", \"reply\", \"reply\", \"report\", \"report\", \"report\", \"research\", \"research\", \"research\", \"reserve_university\", \"resolution\", \"resource\", \"resource\", \"resource\", \"respectively\", \"rid\", \"ride\", \"right\", \"right\", \"right\", \"right\", \"right\", \"right\", \"rise\", \"road\", \"road\", \"road\", \"robert\", \"robert\", \"rochester\", \"rocket\", \"roger\", \"role\", \"root\", \"root\", \"round\", \"routine\", \"rpi\", \"run\", \"run\", \"run\", \"run\", \"run\", \"russia\", \"russian\", \"s\", \"s\", \"s\", \"sale\", \"san_jose\", \"san_jose\", \"satan\", \"satellite\", \"say\", \"say\", \"scene\", \"schedule\", \"schedule\", \"sci\", \"science\", \"science\", \"science\", \"science\", \"score\", \"screen\", \"scripture\", \"scsi\", \"sea\", \"search\", \"search\", \"search\", \"season\", \"second\", \"second\", \"second\", \"second\", \"second\", \"secret\", \"secure\", \"security\", \"security\", \"sed\", \"see\", \"see\", \"see\", \"see\", \"seizure\", \"select\", \"sell\", \"sell\", \"sell\", \"sell\", \"senate\", \"send\", \"send\", \"send\", \"send\", \"serdar_argic\", \"serial\", \"servant\", \"server\", \"server\", \"set\", \"set\", \"set\", \"set\", \"set\", \"set\", \"sex\", \"sgi\", \"shipping\", \"shk\", \"short\", \"short\", \"short\", \"short\", \"shot\", \"shuttle\", \"signal\", \"sin\", \"site\", \"site\", \"slap\", \"slow\", \"smith\", \"software\", \"solar\", \"soldier\", \"soldier\", \"somebody\", \"somebody\", \"something\", \"something\", \"soon\", \"soon\", \"soon\", \"soon\", \"soon\", \"soul\", \"source\", \"source\", \"source\", \"soviet\", \"space\", \"spacecraft\", \"spank\", \"spanking\", \"speaker\", \"specifically\", \"specify\", \"speed\", \"spell\", \"sport\", \"standard\", \"standard\", \"stanford\", \"star\", \"stat\", \"state\", \"state\", \"state\", \"state\", \"stl\", \"study\", \"suffer\", \"suit\", \"sumgait\", \"summer\", \"sun\", \"sun\", \"sunday\", \"supply\", \"support\", \"support\", \"support\", \"support\", \"support\", \"support\", \"support\", \"surface\", \"surrender\", \"sweep\", \"switch\", \"switch\", \"syndrome\", \"system\", \"system\", \"system\", \"system\", \"system\", \"t\", \"table\", \"table\", \"take\", \"take\", \"take\", \"take\", \"take\", \"talk\", \"tank\", \"tap\", \"tape\", \"tax\", \"teach\", \"team\", \"technical\", \"technical\", \"technology\", \"technology\", \"technology\", \"technology\", \"tel\", \"tell\", \"tell\", \"temple\", \"terminal\", \"terrorist\", \"text\", \"thank\", \"thank\", \"thank\", \"thanx\", \"that\", \"that\", \"thing\", \"thing\", \"think\", \"think\", \"think\", \"time\", \"time\", \"time\", \"time\", \"time\", \"timeout\", \"timer\", \"tire\", \"tm\", \"today\", \"today\", \"today\", \"today\", \"today\", \"tom\", \"tomorrow\", \"tor\", \"toronto\", \"toronto_zoology\", \"toss\", \"tradition\", \"traffic\", \"translation\", \"trial\", \"true\", \"true\", \"true\", \"truth\", \"try\", \"try\", \"try\", \"tue\", \"turk\", \"turkey\", \"turkish\", \"turn\", \"turn\", \"turn\", \"tv\", \"tv\", \"understanding\", \"undo\", \"unit\", \"unit\", \"univ\", \"univ\", \"university\", \"university\", \"university\", \"university\", \"unix\", \"update\", \"upenn\", \"upgrade\", \"urbana\", \"usa\", \"usa\", \"usa\", \"use\", \"use\", \"use\", \"use\", \"use\", \"use\", \"use\", \"use\", \"usenet\", \"usenet\", \"user\", \"user\", \"utility\", \"uucp_uunet\", \"value\", \"value\", \"value\", \"value\", \"value\", \"van\", \"van\", \"vancouver\", \"vat\", \"vay\", \"vay\", \"vay\", \"vay\", \"vay\", \"vay\", \"veda\", \"vedic\", \"vehicle\", \"vehicle\", \"venus\", \"verse\", \"version\", \"version\", \"version\", \"video\", \"video\", \"video\", \"view\", \"view\", \"view\", \"view\", \"view\", \"village\", \"virginia\", \"virtual\", \"virtual_reality\", \"vlb\", \"vms_vnews\", \"volt\", \"voltage\", \"vote\", \"vote\", \"wall\", \"wall\", \"want\", \"want\", \"war\", \"water\", \"water\", \"wave\", \"way\", \"way\", \"way\", \"way\", \"weapon\", \"weekend\", \"well\", \"well\", \"well\", \"well\", \"well\", \"whole\", \"widget\", \"win\", \"win\", \"window\", \"window_manager\", \"wing\", \"wire\", \"wiretap\", \"wiring\", \"witness\", \"woman\", \"woman\", \"woman\", \"woman\", \"woman\", \"wonder\", \"word\", \"word\", \"word\", \"word\", \"work\", \"work\", \"work\", \"work\", \"work\", \"work\", \"world\", \"world\", \"world\", \"world\", \"world\", \"world\", \"world\", \"worth\", \"worth\", \"would\", \"would\", \"would\", \"would\", \"write\", \"write\", \"wrong\", \"wrong\", \"xfree\", \"xterm\", \"yalanci\", \"yalanci\", \"yalanci\", \"yalanci\", \"yalanci\", \"yalanci\", \"yalanci\", \"yalanci\", \"yalanci\", \"yalanci\", \"yalanci\", \"yalanci\", \"yalanci\", \"year\", \"year\", \"year\", \"year\", \"year\", \"year\", \"yesterday\", \"yik\", \"zip\", \"zoroaster\", \"zoroastrian\"]}, \"R\": 30, \"lambda.step\": 0.01, \"plot.opts\": {\"xlab\": \"PC1\", \"ylab\": \"PC2\"}, \"topic.order\": [2, 8, 16, 12, 6, 3, 11, 15, 9, 18, 1, 13, 19, 7, 5, 14, 20, 17, 10, 4]};\n",
       "\n",
       "function LDAvis_load_lib(url, callback){\n",
       "  var s = document.createElement('script');\n",
       "  s.src = url;\n",
       "  s.async = true;\n",
       "  s.onreadystatechange = s.onload = callback;\n",
       "  s.onerror = function(){console.warn(\"failed to load library \" + url);};\n",
       "  document.getElementsByTagName(\"head\")[0].appendChild(s);\n",
       "}\n",
       "\n",
       "if(typeof(LDAvis) !== \"undefined\"){\n",
       "   // already loaded: just create the visualization\n",
       "   !function(LDAvis){\n",
       "       new LDAvis(\"#\" + \"ldavis_el32596139908202544968216147314\", ldavis_el32596139908202544968216147314_data);\n",
       "   }(LDAvis);\n",
       "}else if(typeof define === \"function\" && define.amd){\n",
       "   // require.js is available: use it to load d3/LDAvis\n",
       "   require.config({paths: {d3: \"https://cdnjs.cloudflare.com/ajax/libs/d3/3.5.5/d3.min\"}});\n",
       "   require([\"d3\"], function(d3){\n",
       "      window.d3 = d3;\n",
       "      LDAvis_load_lib(\"https://cdn.rawgit.com/bmabey/pyLDAvis/files/ldavis.v1.0.0.js\", function(){\n",
       "        new LDAvis(\"#\" + \"ldavis_el32596139908202544968216147314\", ldavis_el32596139908202544968216147314_data);\n",
       "      });\n",
       "    });\n",
       "}else{\n",
       "    // require.js not available: dynamically load d3 & LDAvis\n",
       "    LDAvis_load_lib(\"https://cdnjs.cloudflare.com/ajax/libs/d3/3.5.5/d3.min.js\", function(){\n",
       "         LDAvis_load_lib(\"https://cdn.rawgit.com/bmabey/pyLDAvis/files/ldavis.v1.0.0.js\", function(){\n",
       "                 new LDAvis(\"#\" + \"ldavis_el32596139908202544968216147314\", ldavis_el32596139908202544968216147314_data);\n",
       "            })\n",
       "         });\n",
       "}\n",
       "</script>"
      ],
      "text/plain": [
       "PreparedData(topic_coordinates=            Freq  cluster  topics         x         y\n",
       "topic                                                \n",
       "1      22.578783        1       1 -0.343518  0.000065\n",
       "7      15.851867        1       2 -0.296178  0.137895\n",
       "15      5.984501        1       3 -0.088284  0.098746\n",
       "11      5.187534        1       4 -0.100386 -0.185819\n",
       "5       5.030988        1       5 -0.094847  0.065745\n",
       "2       4.934819        1       6 -0.121783  0.020396\n",
       "10      4.789653        1       7 -0.035335 -0.217570\n",
       "14      4.503098        1       8  0.098832  0.032497\n",
       "8       3.876197        1       9 -0.018905 -0.052069\n",
       "17      3.829042        1      10 -0.034188 -0.175074\n",
       "0       3.260975        1      11  0.040094  0.181093\n",
       "12      3.186662        1      12  0.048562  0.087481\n",
       "18      2.926117        1      13  0.055358 -0.165043\n",
       "6       2.640155        1      14  0.093933  0.162303\n",
       "4       2.551385        1      15  0.130975 -0.009428\n",
       "13      2.259962        1      16  0.056440 -0.008012\n",
       "19      2.022896        1      17  0.147029  0.046853\n",
       "16      1.764760        1      18  0.111421 -0.038298\n",
       "9       1.501665        1      19  0.180500  0.011688\n",
       "3       1.318941        1      20  0.170280  0.006552, topic_info=      Category          Freq          Term         Total  loglift  logprob\n",
       "term                                                                      \n",
       "4156   Default  57798.000000            ax  57798.000000  30.0000  30.0000\n",
       "12     Default  12490.000000          line  12490.000000  29.0000  29.0000\n",
       "8      Default  11169.000000  organization  11169.000000  28.0000  28.0000\n",
       "100    Default  16414.000000           not  16414.000000  27.0000  27.0000\n",
       "3724   Default   4191.000000           max   4191.000000  26.0000  26.0000\n",
       "247    Default   9531.000000         write   9531.000000  25.0000  25.0000\n",
       "98     Default  10519.000000            do  10519.000000  24.0000  24.0000\n",
       "258    Default   6985.000000           say   6985.000000  23.0000  23.0000\n",
       "140    Default  11699.000000         would  11699.000000  22.0000  22.0000\n",
       "169    Default   2474.000000        window   2474.000000  21.0000  21.0000\n",
       "4      Default   4420.000000     nntp_post   4420.000000  20.0000  20.0000\n",
       "60     Default   7503.000000       article   7503.000000  19.0000  19.0000\n",
       "259    Default   8079.000000            be   8079.000000  18.0000  18.0000\n",
       "9      Default   5005.000000    university   5005.000000  17.0000  17.0000\n",
       "5      Default   4087.000000          host   4087.000000  16.0000  16.0000\n",
       "1840   Default   1842.000000         space   1842.000000  15.0000  15.0000\n",
       "33     Default   7308.000000          know   7308.000000  14.0000  14.0000\n",
       "395    Default   5082.000000        people   5082.000000  13.0000  13.0000\n",
       "146    Default   6842.000000           get   6842.000000  12.0000  12.0000\n",
       "137    Default   5261.000000         think   5261.000000  11.0000  11.0000\n",
       "298    Default   2043.000000         drive   2043.000000  10.0000  10.0000\n",
       "39     Default   3436.000000          year   3436.000000   9.0000   9.0000\n",
       "301    Default   4600.000000           use   4600.000000   8.0000   8.0000\n",
       "284    Default   5374.000000          good   5374.000000   7.0000   7.0000\n",
       "232    Default   5842.000000            go   5842.000000   6.0000   6.0000\n",
       "46     Default   2086.000000          mail   2086.000000   5.0000   5.0000\n",
       "171    Default   3377.000000        system   3377.000000   4.0000   4.0000\n",
       "2840   Default   1780.000000          game   1780.000000   3.0000   3.0000\n",
       "954    Default   1735.000000     christian   1735.000000   2.0000   2.0000\n",
       "563    Default   1692.000000          team   1692.000000   1.0000   1.0000\n",
       "...        ...           ...           ...           ...      ...      ...\n",
       "8065   Topic20    214.414187            la    215.387168   4.3238  -4.5972\n",
       "14491  Topic20    190.953618           bos    191.926598   4.3233  -4.7131\n",
       "14477  Topic20    187.938409           tor    188.911390   4.3232  -4.7290\n",
       "14479  Topic20    171.230522           det    172.203503   4.3227  -4.8221\n",
       "25542  Topic20    170.430416           phi    171.403396   4.3226  -4.8268\n",
       "6359   Topic20    161.148459            km    162.121440   4.3223  -4.8828\n",
       "43075  Topic20    160.355209           edm    161.328190   4.3223  -4.8877\n",
       "6774   Topic20    159.173670            pt    160.146651   4.3222  -4.8951\n",
       "16954  Topic20    147.288477           buf    148.261457   4.3218  -4.9727\n",
       "7062   Topic20    122.125722    membership    123.098703   4.3204  -5.1601\n",
       "1893   Topic20    120.750162         comet    121.723142   4.3203  -5.1714\n",
       "29029  Topic20    114.565079           cec    115.538060   4.3199  -5.2240\n",
       "295    Topic20    105.109978         dalla    106.082959   4.3191  -5.3101\n",
       "310    Topic20    102.601785          ease    103.574765   4.3189  -5.3343\n",
       "6496   Topic20     98.782115    new_jersey     99.755096   4.3185  -5.3722\n",
       "19326  Topic20     89.959937        legend     90.932918   4.3176  -5.4658\n",
       "8093   Topic20     78.568498             t     79.541479   4.3160  -5.6012\n",
       "1895   Topic20     78.078075       jupiter     79.051056   4.3160  -5.6074\n",
       "5627   Topic20     77.048706       toronto     78.021686   4.3158  -5.6207\n",
       "13284  Topic20     76.820969      equation     77.793950   4.3158  -5.6237\n",
       "2301   Topic20     76.684230       eastern     77.657210   4.3157  -5.6254\n",
       "7316   Topic20     76.203514            kg     77.176495   4.3157  -5.6317\n",
       "21290  Topic20     65.927847           tue     66.900833   4.3137  -5.7766\n",
       "605    Topic20     65.369565         adult     66.342546   4.3136  -5.7851\n",
       "3474   Topic20    212.701314           van    238.154419   4.2153  -4.6052\n",
       "70849  Topic20    100.138395        pts_pt    114.415106   4.1951  -5.3586\n",
       "1805   Topic20    119.987451         april    562.412838   2.7835  -5.1777\n",
       "1461   Topic20    111.540742          vote    420.068912   3.0023  -5.2507\n",
       "237    Topic20     83.696893        robert    600.608107   2.3576  -5.5379\n",
       "14826  Topic20     79.011334           ahl    176.074437   3.5270  -5.5955\n",
       "\n",
       "[976 rows x 6 columns], token_table=       Topic      Freq            Term\n",
       "term                                  \n",
       "2216      19  0.999134               _\n",
       "1254       4  0.996365        absolute\n",
       "2760       1  0.322330          accept\n",
       "2760       3  0.047882          accept\n",
       "2760       4  0.509188          accept\n",
       "2760      10  0.066568          accept\n",
       "2760      18  0.053722          accept\n",
       "2085       2  0.290580          access\n",
       "2085       3  0.708463          access\n",
       "627        5  0.048388         account\n",
       "627        6  0.303229         account\n",
       "627       13  0.590329         account\n",
       "627       18  0.054839         account\n",
       "8160      19  0.977777      accounting\n",
       "4694       7  0.965391              ad\n",
       "4694      19  0.031395              ad\n",
       "85         3  0.997476         adapter\n",
       "767        3  0.964688         address\n",
       "767        7  0.033138         address\n",
       "767       10  0.000921         address\n",
       "1361       7  0.997677  administration\n",
       "605       20  0.979763           adult\n",
       "380        3  0.538616         advance\n",
       "380       11  0.087986         advance\n",
       "380       17  0.372156         advance\n",
       "20247     16  0.997493       aerospace\n",
       "4710       6  0.954226          agency\n",
       "4710      16  0.043374          agency\n",
       "3677       2  0.996773             ago\n",
       "14826      5  0.545224             ahl\n",
       "...      ...       ...             ...\n",
       "247        1  0.392276           write\n",
       "247        2  0.607666           write\n",
       "1449       1  0.950409           wrong\n",
       "1449       2  0.047737           wrong\n",
       "28631     11  0.998330           xfree\n",
       "2103      11  0.997032           xterm\n",
       "71881      1  0.010001         yalanci\n",
       "71881      2  0.005001         yalanci\n",
       "71881      3  0.010001         yalanci\n",
       "71881      4  0.010001         yalanci\n",
       "71881      6  0.005001         yalanci\n",
       "71881      7  0.010001         yalanci\n",
       "71881      9  0.005001         yalanci\n",
       "71881     10  0.020003         yalanci\n",
       "71881     12  0.005001         yalanci\n",
       "71881     13  0.890115         yalanci\n",
       "71881     16  0.005001         yalanci\n",
       "71881     18  0.010001         yalanci\n",
       "71881     19  0.005001         yalanci\n",
       "39         1  0.337575            year\n",
       "39         5  0.471150            year\n",
       "39         7  0.044525            year\n",
       "39         9  0.011932            year\n",
       "39        10  0.020662            year\n",
       "39        16  0.113786            year\n",
       "1097      10  0.993884       yesterday\n",
       "18035     19  0.996647             yik\n",
       "5345      11  0.994769             zip\n",
       "52476     19  0.993423       zoroaster\n",
       "23542     19  0.996971     zoroastrian\n",
       "\n",
       "[1619 rows x 3 columns], R=30, lambda_step=0.01, plot_opts={'xlab': 'PC1', 'ylab': 'PC2'}, topic_order=[2, 8, 16, 12, 6, 3, 11, 15, 9, 18, 1, 13, 19, 7, 5, 14, 20, 17, 10, 4])"
      ]
     },
     "execution_count": 13,
     "metadata": {},
     "output_type": "execute_result"
    }
   ],
   "source": [
    "# Visualize the topics\n",
    "pyLDAvis.enable_notebook()\n",
    "vis = pyLDAvis.gensim.prepare(lda_model, corpus, id2word)\n",
    "vis"
   ]
  },
  {
   "cell_type": "markdown",
   "metadata": {},
   "source": [
    "#### Building LDA Mallet Model"
   ]
  },
  {
   "cell_type": "code",
   "execution_count": 14,
   "metadata": {
    "collapsed": true
   },
   "outputs": [],
   "source": [
    "# Download File: http://mallet.cs.umass.edu/dist/mallet-2.0.8.zip\n",
    "#mallet_path = '' # update this path\n",
    "#ldamallet = gensim.models.wrappers.LdaMallet(mallet_path, corpus=corpus, num_topics=20, id2word=id2word)"
   ]
  },
  {
   "cell_type": "code",
   "execution_count": 15,
   "metadata": {
    "collapsed": true
   },
   "outputs": [],
   "source": [
    "# Show Topics\n",
    "#pprint(ldamallet.show_topics(formatted=False))\n",
    "\n",
    "# Compute Coherence Score\n",
    "#coherence_model_ldamallet = CoherenceModel(model=ldamallet, texts=data_lemmatized, dictionary=id2word, coherence='c_v')\n",
    "#coherence_ldamallet = coherence_model_ldamallet.get_coherence()\n",
    "#print('\\nCoherence Score: ', coherence_ldamallet)"
   ]
  },
  {
   "cell_type": "markdown",
   "metadata": {},
   "source": [
    "#### Find the optimal number of topics for LDA"
   ]
  },
  {
   "cell_type": "code",
   "execution_count": 16,
   "metadata": {
    "collapsed": true
   },
   "outputs": [],
   "source": [
    "def compute_coherence_values(dictionary, corpus, texts, limit, start=2, step=3):\n",
    "    \"\"\"\n",
    "    Compute c_v coherence for various number of topics\n",
    "\n",
    "    Parameters:\n",
    "    ----------\n",
    "    dictionary : Gensim dictionary\n",
    "    corpus : Gensim corpus\n",
    "    texts : List of input texts\n",
    "    limit : Max num of topics\n",
    "\n",
    "    Returns:\n",
    "    -------\n",
    "    model_list : List of LDA topic models\n",
    "    coherence_values : Coherence values corresponding to the LDA model with respective number of topics\n",
    "    \"\"\"\n",
    "    coherence_values = []\n",
    "    model_list = []\n",
    "    for num_topics in range(start, limit, step):\n",
    "        \n",
    "        model = gensim.models.ldamodel.LdaModel(corpus=corpus,\n",
    "                                           id2word=id2word,\n",
    "                                           num_topics=num_topics, \n",
    "                                           random_state=100,\n",
    "                                           update_every=1,\n",
    "                                           chunksize=100,\n",
    "                                           passes=10,\n",
    "                                           alpha='auto',\n",
    "                                           per_word_topics=True)\n",
    "\n",
    "        model_list.append(model)\n",
    "        coherencemodel = CoherenceModel(model=model, texts=texts, dictionary=dictionary, coherence='c_v')\n",
    "        coherence_values.append(coherencemodel.get_coherence())\n",
    "\n",
    "    return model_list, coherence_values"
   ]
  },
  {
   "cell_type": "code",
   "execution_count": 17,
   "metadata": {
    "collapsed": true
   },
   "outputs": [],
   "source": [
    "# Can take a long time to run.\n",
    "model_list, coherence_values = compute_coherence_values(dictionary=id2word, corpus=corpus, texts=data_lemmatized, start=2, limit=40, step=6)"
   ]
  },
  {
   "cell_type": "code",
   "execution_count": 18,
   "metadata": {},
   "outputs": [
    {
     "data": {
      "image/png": "[encoded data removed]",
      "text/plain": [
       "<matplotlib.figure.Figure at 0x7f3e304e54e0>"
      ]
     },
     "metadata": {},
     "output_type": "display_data"
    }
   ],
   "source": [
    "# Show graph\n",
    "limit=40; start=2; step=6;\n",
    "x = range(start, limit, step)\n",
    "plt.plot(x, coherence_values)\n",
    "plt.xlabel(\"Num Topics\")\n",
    "plt.ylabel(\"Coherence score\")\n",
    "plt.legend((\"coherence_values\"), loc='best')\n",
    "plt.show()"
   ]
  },
  {
   "cell_type": "code",
   "execution_count": 19,
   "metadata": {},
   "outputs": [
    {
     "name": "stdout",
     "output_type": "stream",
     "text": [
      "Num Topics = 2  has Coherence Value of 0.5155\n",
      "Num Topics = 8  has Coherence Value of 0.5288\n",
      "Num Topics = 14  has Coherence Value of 0.6057\n",
      "Num Topics = 20  has Coherence Value of 0.5881\n",
      "Num Topics = 26  has Coherence Value of 0.4987\n",
      "Num Topics = 32  has Coherence Value of 0.5358\n",
      "Num Topics = 38  has Coherence Value of 0.5169\n"
     ]
    }
   ],
   "source": [
    "# Print the coherence scores\n",
    "for m, cv in zip(x, coherence_values):\n",
    "    print(\"Num Topics =\", m, \" has Coherence Value of\", round(cv, 4))"
   ]
  },
  {
   "cell_type": "code",
   "execution_count": 20,
   "metadata": {},
   "outputs": [
    {
     "name": "stdout",
     "output_type": "stream",
     "text": [
      "[(0,\n",
      "  '0.047*\"window\" + 0.017*\"graphic\" + 0.013*\"application\" + 0.013*\"run\" + '\n",
      "  '0.012*\"goal\" + 0.011*\"display\" + 0.011*\"screen\" + 0.010*\"server\" + '\n",
      "  '0.010*\"program\" + 0.009*\"use\"'),\n",
      " (1,\n",
      "  '0.041*\"not\" + 0.023*\"would\" + 0.022*\"do\" + 0.019*\"say\" + 0.016*\"be\" + '\n",
      "  '0.014*\"think\" + 0.014*\"know\" + 0.013*\"go\" + 0.012*\"make\" + 0.011*\"people\"'),\n",
      " (2,\n",
      "  '0.019*\"key\" + 0.014*\"use\" + 0.012*\"system\" + 0.009*\"information\" + '\n",
      "  '0.008*\"provide\" + 0.008*\"new\" + 0.007*\"technology\" + 0.007*\"standard\" + '\n",
      "  '0.007*\"encryption\" + 0.007*\"contain\"'),\n",
      " (3,\n",
      "  '0.014*\"mission\" + 0.013*\"boston\" + 0.012*\"wing\" + 0.011*\"pit\" + '\n",
      "  '0.011*\"detroit\" + 0.010*\"nyr\" + 0.010*\"la\" + 0.010*\"van\" + 0.009*\"bos\" + '\n",
      "  '0.009*\"tor\"'),\n",
      " (4,\n",
      "  '0.011*\"power\" + 0.011*\"circuit\" + 0.010*\"launch\" + 0.009*\"oil\" + '\n",
      "  '0.009*\"king\" + 0.008*\"switch\" + 0.007*\"mon\" + 0.007*\"hot\" + '\n",
      "  '0.007*\"illinois\" + 0.007*\"tv\"'),\n",
      " (5,\n",
      "  '0.022*\"game\" + 0.021*\"team\" + 0.020*\"year\" + 0.014*\"play\" + 0.012*\"win\" + '\n",
      "  '0.012*\"player\" + 0.010*\"hockey\" + 0.010*\"good\" + 0.008*\"season\" + '\n",
      "  '0.007*\"hit\"'),\n",
      " (6,\n",
      "  '0.039*\"drive\" + 0.028*\"sale\" + 0.017*\"contact\" + 0.013*\"cable\" + '\n",
      "  '0.012*\"mac\" + 0.012*\"price\" + 0.011*\"disk\" + 0.010*\"sell\" + 0.010*\"apple\" + '\n",
      "  '0.009*\"model\"'),\n",
      " (7,\n",
      "  '0.049*\"line\" + 0.044*\"organization\" + 0.023*\"write\" + 0.020*\"article\" + '\n",
      "  '0.019*\"university\" + 0.017*\"nntp_post\" + 0.016*\"get\" + 0.016*\"host\" + '\n",
      "  '0.012*\"would\" + 0.010*\"anyone\"'),\n",
      " (8,\n",
      "  '0.012*\"wire\" + 0.012*\"study\" + 0.011*\"kid\" + 0.010*\"cover\" + 0.010*\"ground\" '\n",
      "  '+ 0.009*\"drug\" + 0.009*\"obvious\" + 0.009*\"level\" + 0.008*\"text\" + '\n",
      "  '0.007*\"normal\"'),\n",
      " (9,\n",
      "  '0.040*\"_\" + 0.024*\"gd\" + 0.019*\"zoroastrian\" + 0.017*\"cubs_suck\" + '\n",
      "  '0.014*\"eg\" + 0.013*\"cylinder\" + 0.006*\"cooling_tower\" + 0.006*\"chong\" + '\n",
      "  '0.006*\"yik\" + 0.005*\"veda\"'),\n",
      " (10,\n",
      "  '0.018*\"government\" + 0.017*\"gun\" + 0.013*\"right\" + 0.012*\"law\" + '\n",
      "  '0.012*\"state\" + 0.010*\"american\" + 0.009*\"country\" + 0.009*\"people\" + '\n",
      "  '0.007*\"public\" + 0.007*\"police\"'),\n",
      " (11,\n",
      "  '0.021*\"christian\" + 0.019*\"god\" + 0.009*\"book\" + 0.009*\"word\" + 0.009*\"law\" '\n",
      "  '+ 0.009*\"religion\" + 0.008*\"life\" + 0.008*\"believe\" + 0.008*\"exist\" + '\n",
      "  '0.008*\"bible\"'),\n",
      " (12,\n",
      "  '0.028*\"car\" + 0.013*\"bike\" + 0.009*\"road\" + 0.008*\"door\" + 0.007*\"engine\" + '\n",
      "  '0.007*\"drive\" + 0.007*\"light\" + 0.007*\"mile\" + 0.006*\"hang\" + 0.006*\"ride\"'),\n",
      " (13,\n",
      "  '0.051*\"space\" + 0.011*\"science\" + 0.011*\"year\" + 0.010*\"russian\" + '\n",
      "  '0.010*\"earth\" + 0.009*\"satellite\" + 0.008*\"project\" + 0.008*\"first\" + '\n",
      "  '0.008*\"orbit\" + 0.007*\"nasa\"'),\n",
      " (14,\n",
      "  '0.796*\"ax\" + 0.058*\"max\" + 0.008*\"hour\" + 0.003*\"probe\" + 0.002*\"rating\" + '\n",
      "  '0.002*\"rat\" + 0.002*\"centris\" + 0.002*\"sweep\" + 0.002*\"patch\" + '\n",
      "  '0.002*\"qax\"'),\n",
      " (15,\n",
      "  '0.022*\"mail\" + 0.017*\"file\" + 0.015*\"information\" + 0.015*\"available\" + '\n",
      "  '0.014*\"software\" + 0.012*\"include\" + 0.012*\"send\" + 0.011*\"image\" + '\n",
      "  '0.011*\"address\" + 0.010*\"email\"'),\n",
      " (16,\n",
      "  '0.033*\"chip\" + 0.013*\"value\" + 0.010*\"man\" + 0.009*\"gay\" + 0.009*\"burn\" + '\n",
      "  '0.009*\"system\" + 0.008*\"marriage\" + 0.008*\"sex\" + 0.008*\"homosexual\" + '\n",
      "  '0.008*\"moral\"'),\n",
      " (17,\n",
      "  '0.016*\"president\" + 0.011*\"state\" + 0.010*\"israel\" + 0.010*\"report\" + '\n",
      "  '0.009*\"war\" + 0.008*\"israeli\" + 0.008*\"house\" + 0.007*\"center\" + '\n",
      "  '0.007*\"member\" + 0.007*\"arab\"'),\n",
      " (18,\n",
      "  '0.030*\"armenian\" + 0.010*\"matthew\" + 0.010*\"jewish\" + 0.009*\"turk\" + '\n",
      "  '0.008*\"turkish\" + 0.008*\"muslim\" + 0.008*\"kill\" + 0.008*\"greek\" + '\n",
      "  '0.007*\"serdar_argic\" + 0.007*\"attack\"'),\n",
      " (19,\n",
      "  '0.024*\"com\" + 0.016*\"inc\" + 0.016*\"computer_science\" + 0.014*\"ca\" + '\n",
      "  '0.014*\"brian\" + 0.013*\"pittsburgh\" + 0.011*\"gordon_bank\" + 0.011*\"ibm\" + '\n",
      "  '0.010*\"mouse\" + 0.010*\"manual\"')]\n"
     ]
    }
   ],
   "source": [
    "# Select the model and print the topics\n",
    "optimal_model = model_list[3]\n",
    "model_topics = optimal_model.show_topics(formatted=False)\n",
    "pprint(optimal_model.print_topics(num_words=10))"
   ]
  },
  {
   "cell_type": "markdown",
   "metadata": {},
   "source": [
    "#### Finding the dominant topic in each sentence"
   ]
  },
  {
   "cell_type": "code",
   "execution_count": 21,
   "metadata": {},
   "outputs": [
    {
     "ename": "TypeError",
     "evalue": "'<' not supported between instances of 'int' and 'tuple'",
     "output_type": "error",
     "traceback": [
      "\u001b[0;31m---------------------------------------------------------------\u001b[0m",
      "\u001b[0;31mTypeError\u001b[0m                     Traceback (most recent call last)",
      "\u001b[0;32m<ipython-input-21-98c815d3bb24>\u001b[0m in \u001b[0;36m<module>\u001b[0;34m()\u001b[0m\n\u001b[1;32m     22\u001b[0m \u001b[0;34m\u001b[0m\u001b[0m\n\u001b[1;32m     23\u001b[0m \u001b[0;34m\u001b[0m\u001b[0m\n\u001b[0;32m---> 24\u001b[0;31m \u001b[0mdf_topic_sents_keywords\u001b[0m \u001b[0;34m=\u001b[0m \u001b[0mformat_topics_sentences\u001b[0m\u001b[0;34m(\u001b[0m\u001b[0mldamodel\u001b[0m\u001b[0;34m=\u001b[0m\u001b[0moptimal_model\u001b[0m\u001b[0;34m,\u001b[0m \u001b[0mcorpus\u001b[0m\u001b[0;34m=\u001b[0m\u001b[0mcorpus\u001b[0m\u001b[0;34m,\u001b[0m \u001b[0mtexts\u001b[0m\u001b[0;34m=\u001b[0m\u001b[0mdata\u001b[0m\u001b[0;34m)\u001b[0m\u001b[0;34m\u001b[0m\u001b[0m\n\u001b[0m\u001b[1;32m     25\u001b[0m \u001b[0;34m\u001b[0m\u001b[0m\n\u001b[1;32m     26\u001b[0m \u001b[0;31m# Format\u001b[0m\u001b[0;34m\u001b[0m\u001b[0;34m\u001b[0m\u001b[0m\n",
      "\u001b[0;32m<ipython-input-21-98c815d3bb24>\u001b[0m in \u001b[0;36mformat_topics_sentences\u001b[0;34m(ldamodel, corpus, texts)\u001b[0m\n\u001b[1;32m      5\u001b[0m     \u001b[0;31m# Get main topic in each document\u001b[0m\u001b[0;34m\u001b[0m\u001b[0;34m\u001b[0m\u001b[0m\n\u001b[1;32m      6\u001b[0m     \u001b[0;32mfor\u001b[0m \u001b[0mi\u001b[0m\u001b[0;34m,\u001b[0m \u001b[0mrow\u001b[0m \u001b[0;32min\u001b[0m \u001b[0menumerate\u001b[0m\u001b[0;34m(\u001b[0m\u001b[0mldamodel\u001b[0m\u001b[0;34m[\u001b[0m\u001b[0mcorpus\u001b[0m\u001b[0;34m]\u001b[0m\u001b[0;34m)\u001b[0m\u001b[0;34m:\u001b[0m\u001b[0;34m\u001b[0m\u001b[0m\n\u001b[0;32m----> 7\u001b[0;31m         \u001b[0mrow\u001b[0m \u001b[0;34m=\u001b[0m \u001b[0msorted\u001b[0m\u001b[0;34m(\u001b[0m\u001b[0mrow\u001b[0m\u001b[0;34m,\u001b[0m \u001b[0mkey\u001b[0m\u001b[0;34m=\u001b[0m\u001b[0;32mlambda\u001b[0m \u001b[0mx\u001b[0m\u001b[0;34m:\u001b[0m \u001b[0;34m(\u001b[0m\u001b[0mx\u001b[0m\u001b[0;34m[\u001b[0m\u001b[0;36m1\u001b[0m\u001b[0;34m]\u001b[0m\u001b[0;34m)\u001b[0m\u001b[0;34m,\u001b[0m \u001b[0mreverse\u001b[0m\u001b[0;34m=\u001b[0m\u001b[0;32mTrue\u001b[0m\u001b[0;34m)\u001b[0m\u001b[0;34m\u001b[0m\u001b[0m\n\u001b[0m\u001b[1;32m      8\u001b[0m         \u001b[0;31m# Get the Dominant topic, Perc Contribution and Keywords for each document\u001b[0m\u001b[0;34m\u001b[0m\u001b[0;34m\u001b[0m\u001b[0m\n\u001b[1;32m      9\u001b[0m         \u001b[0;32mfor\u001b[0m \u001b[0mj\u001b[0m\u001b[0;34m,\u001b[0m \u001b[0;34m(\u001b[0m\u001b[0mtopic_num\u001b[0m\u001b[0;34m,\u001b[0m \u001b[0mprop_topic\u001b[0m\u001b[0;34m)\u001b[0m \u001b[0;32min\u001b[0m \u001b[0menumerate\u001b[0m\u001b[0;34m(\u001b[0m\u001b[0mrow\u001b[0m\u001b[0;34m)\u001b[0m\u001b[0;34m:\u001b[0m\u001b[0;34m\u001b[0m\u001b[0m\n",
      "\u001b[0;31mTypeError\u001b[0m: '<' not supported between instances of 'int' and 'tuple'"
     ]
    }
   ],
   "source": [
    "def format_topics_sentences(ldamodel=lda_model, corpus=corpus, texts=data):\n",
    "    # Init output\n",
    "    sent_topics_df = pd.DataFrame()\n",
    "\n",
    "    # Get main topic in each document\n",
    "    for i, row in enumerate(ldamodel[corpus]):\n",
    "        row = sorted(row, key=lambda x: (x[1]), reverse=True)\n",
    "        # Get the Dominant topic, Perc Contribution and Keywords for each document\n",
    "        for j, (topic_num, prop_topic) in enumerate(row):\n",
    "            if j == 0:  # => dominant topic\n",
    "                wp = ldamodel.show_topic(topic_num)\n",
    "                topic_keywords = \", \".join([word for word, prop in wp])\n",
    "                sent_topics_df = sent_topics_df.append(pd.Series([int(topic_num), round(prop_topic,4), topic_keywords]), ignore_index=True)\n",
    "            else:\n",
    "                break\n",
    "    sent_topics_df.columns = ['Dominant_Topic', 'Perc_Contribution', 'Topic_Keywords']\n",
    "\n",
    "    # Add original text to the end of the output\n",
    "    contents = pd.Series(texts)\n",
    "    sent_topics_df = pd.concat([sent_topics_df, contents], axis=1)\n",
    "    return(sent_topics_df)\n",
    "\n",
    "\n",
    "df_topic_sents_keywords = format_topics_sentences(ldamodel=optimal_model, corpus=corpus, texts=data)\n",
    "\n",
    "# Format\n",
    "df_dominant_topic = df_topic_sents_keywords.reset_index()\n",
    "df_dominant_topic.columns = ['Document_No', 'Dominant_Topic', 'Topic_Perc_Contrib', 'Keywords', 'Text']\n",
    "\n",
    "# Show\n",
    "df_dominant_topic.head(10)"
   ]
  },
  {
   "cell_type": "code",
   "execution_count": null,
   "metadata": {
    "collapsed": true
   },
   "outputs": [],
   "source": [
    "# Group top 5 sentences under each topic\n",
    "sent_topics_sorteddf_mallet = pd.DataFrame()\n",
    "\n",
    "sent_topics_outdf_grpd = df_topic_sents_keywords.groupby('Dominant_Topic')\n",
    "\n",
    "for i, grp in sent_topics_outdf_grpd:\n",
    "    sent_topics_sorteddf_mallet = pd.concat([sent_topics_sorteddf_mallet, \n",
    "                                             grp.sort_values(['Perc_Contribution'], ascending=[0]).head(1)], \n",
    "                                            axis=0)\n",
    "\n",
    "# Reset Index    \n",
    "sent_topics_sorteddf_mallet.reset_index(drop=True, inplace=True)\n",
    "\n",
    "# Format\n",
    "sent_topics_sorteddf_mallet.columns = ['Topic_Num', \"Topic_Perc_Contrib\", \"Keywords\", \"Text\"]\n",
    "\n",
    "# Show\n",
    "sent_topics_sorteddf_mallet.head()"
   ]
  },
  {
   "cell_type": "markdown",
   "metadata": {},
   "source": [
    "#### Topic distribution across documents"
   ]
  },
  {
   "cell_type": "code",
   "execution_count": null,
   "metadata": {
    "collapsed": true
   },
   "outputs": [],
   "source": [
    "# Number of Documents for Each Topic\n",
    "topic_counts = df_topic_sents_keywords['Dominant_Topic'].value_counts()\n",
    "\n",
    "# Percentage of Documents for Each Topic\n",
    "topic_contribution = round(topic_counts/topic_counts.sum(), 4)\n",
    "\n",
    "# Topic Number and Keywords\n",
    "topic_num_keywords = df_topic_sents_keywords[['Dominant_Topic', 'Topic_Keywords']]\n",
    "\n",
    "# Concatenate Column wise\n",
    "df_dominant_topics = pd.concat([topic_num_keywords, topic_counts, topic_contribution], axis=1)\n",
    "\n",
    "# Change Column names\n",
    "df_dominant_topics.columns = ['Dominant_Topic', 'Topic_Keywords', 'Num_Documents', 'Perc_Documents']\n",
    "\n",
    "# Show\n",
    "df_dominant_topics"
   ]
  }
 ],
 "metadata": {
  "kernelspec": {
   "display_name": "Python 3",
   "language": "python",
   "name": "python3"
  },
  "language_info": {
   "codemirror_mode": {
    "name": "ipython",
    "version": 3
   },
   "file_extension": ".py",
   "mimetype": "text/x-python",
   "name": "python",
   "nbconvert_exporter": "python",
   "pygments_lexer": "ipython3",
   "version": "3.6.1"
  }
 },
 "nbformat": 4,
 "nbformat_minor": 2
}
